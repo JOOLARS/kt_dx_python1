{
 "cells": [
  {
   "cell_type": "markdown",
   "metadata": {
    "id": "XZ7tAmJDypSo"
   },
   "source": [
    "# 유방암 종양 예측\n",
    "\n",
    "## 악성 종양인지, 양성 종양(정상)인지 예측"
   ]
  },
  {
   "cell_type": "markdown",
   "metadata": {
    "id": "lyYyOsXgy9Vx"
   },
   "source": [
    "## 데이터셋 불러오기\n",
    "\n",
    "* radius : 반경\n",
    "* texture : 질감\n",
    "* perimeter : 둘레\n",
    "* area : 면적\n",
    "* smoothness : 매끄러움\n",
    "* compactness : 조그만 정도\n",
    "* concavity : 윤곽의 오목함\n",
    "* concave points : 윤곽의 오목한 부분의 수\n",
    "* symmetry : 대칭\n",
    "* fractal dimension : 프랙탈 차원\n",
    "* target : Malignant-악성 종양 / Benign-양성 종양(정상)\n",
    "---\n",
    "* mean ~ : 데이터별 평균 값\n",
    "* ~ error : 데이터별 표준편차 값\n",
    "* worst ~ : 데이터별 가장 큰 3개의 평균으로 만든 값"
   ]
  },
  {
   "cell_type": "code",
   "execution_count": 1,
   "metadata": {
    "id": "9qac0OkvzCK3"
   },
   "outputs": [],
   "source": [
    "import pandas as pd\n",
    "import numpy as np\n",
    "from sklearn.metrics import classification_report"
   ]
  },
  {
   "cell_type": "code",
   "execution_count": 2,
   "metadata": {
    "id": "Lv7VQADpzH_W"
   },
   "outputs": [
    {
     "data": {
      "text/html": [
       "<div>\n",
       "<style scoped>\n",
       "    .dataframe tbody tr th:only-of-type {\n",
       "        vertical-align: middle;\n",
       "    }\n",
       "\n",
       "    .dataframe tbody tr th {\n",
       "        vertical-align: top;\n",
       "    }\n",
       "\n",
       "    .dataframe thead th {\n",
       "        text-align: right;\n",
       "    }\n",
       "</style>\n",
       "<table border=\"1\" class=\"dataframe\">\n",
       "  <thead>\n",
       "    <tr style=\"text-align: right;\">\n",
       "      <th></th>\n",
       "      <th>mean radius</th>\n",
       "      <th>mean texture</th>\n",
       "      <th>mean perimeter</th>\n",
       "      <th>mean area</th>\n",
       "      <th>mean smoothness</th>\n",
       "      <th>mean compactness</th>\n",
       "      <th>mean concavity</th>\n",
       "      <th>mean concave points</th>\n",
       "      <th>mean symmetry</th>\n",
       "      <th>mean fractal dimension</th>\n",
       "      <th>...</th>\n",
       "      <th>worst texture</th>\n",
       "      <th>worst perimeter</th>\n",
       "      <th>worst area</th>\n",
       "      <th>worst smoothness</th>\n",
       "      <th>worst compactness</th>\n",
       "      <th>worst concavity</th>\n",
       "      <th>worst concave points</th>\n",
       "      <th>worst symmetry</th>\n",
       "      <th>worst fractal dimension</th>\n",
       "      <th>target</th>\n",
       "    </tr>\n",
       "  </thead>\n",
       "  <tbody>\n",
       "    <tr>\n",
       "      <th>0</th>\n",
       "      <td>17.99</td>\n",
       "      <td>10.38</td>\n",
       "      <td>122.80</td>\n",
       "      <td>1001.0</td>\n",
       "      <td>0.11840</td>\n",
       "      <td>0.27760</td>\n",
       "      <td>0.3001</td>\n",
       "      <td>0.14710</td>\n",
       "      <td>0.2419</td>\n",
       "      <td>0.07871</td>\n",
       "      <td>...</td>\n",
       "      <td>17.33</td>\n",
       "      <td>184.60</td>\n",
       "      <td>2019.0</td>\n",
       "      <td>0.1622</td>\n",
       "      <td>0.6656</td>\n",
       "      <td>0.7119</td>\n",
       "      <td>0.2654</td>\n",
       "      <td>0.4601</td>\n",
       "      <td>0.11890</td>\n",
       "      <td>Malignant</td>\n",
       "    </tr>\n",
       "    <tr>\n",
       "      <th>1</th>\n",
       "      <td>20.57</td>\n",
       "      <td>17.77</td>\n",
       "      <td>132.90</td>\n",
       "      <td>1326.0</td>\n",
       "      <td>0.08474</td>\n",
       "      <td>0.07864</td>\n",
       "      <td>0.0869</td>\n",
       "      <td>0.07017</td>\n",
       "      <td>0.1812</td>\n",
       "      <td>0.05667</td>\n",
       "      <td>...</td>\n",
       "      <td>23.41</td>\n",
       "      <td>158.80</td>\n",
       "      <td>1956.0</td>\n",
       "      <td>0.1238</td>\n",
       "      <td>0.1866</td>\n",
       "      <td>0.2416</td>\n",
       "      <td>0.1860</td>\n",
       "      <td>0.2750</td>\n",
       "      <td>0.08902</td>\n",
       "      <td>Malignant</td>\n",
       "    </tr>\n",
       "    <tr>\n",
       "      <th>2</th>\n",
       "      <td>19.69</td>\n",
       "      <td>21.25</td>\n",
       "      <td>130.00</td>\n",
       "      <td>1203.0</td>\n",
       "      <td>0.10960</td>\n",
       "      <td>0.15990</td>\n",
       "      <td>0.1974</td>\n",
       "      <td>0.12790</td>\n",
       "      <td>0.2069</td>\n",
       "      <td>0.05999</td>\n",
       "      <td>...</td>\n",
       "      <td>25.53</td>\n",
       "      <td>152.50</td>\n",
       "      <td>1709.0</td>\n",
       "      <td>0.1444</td>\n",
       "      <td>0.4245</td>\n",
       "      <td>0.4504</td>\n",
       "      <td>0.2430</td>\n",
       "      <td>0.3613</td>\n",
       "      <td>0.08758</td>\n",
       "      <td>Malignant</td>\n",
       "    </tr>\n",
       "    <tr>\n",
       "      <th>3</th>\n",
       "      <td>11.42</td>\n",
       "      <td>20.38</td>\n",
       "      <td>77.58</td>\n",
       "      <td>386.1</td>\n",
       "      <td>0.14250</td>\n",
       "      <td>0.28390</td>\n",
       "      <td>0.2414</td>\n",
       "      <td>0.10520</td>\n",
       "      <td>0.2597</td>\n",
       "      <td>0.09744</td>\n",
       "      <td>...</td>\n",
       "      <td>26.50</td>\n",
       "      <td>98.87</td>\n",
       "      <td>567.7</td>\n",
       "      <td>0.2098</td>\n",
       "      <td>0.8663</td>\n",
       "      <td>0.6869</td>\n",
       "      <td>0.2575</td>\n",
       "      <td>0.6638</td>\n",
       "      <td>0.17300</td>\n",
       "      <td>Malignant</td>\n",
       "    </tr>\n",
       "    <tr>\n",
       "      <th>4</th>\n",
       "      <td>20.29</td>\n",
       "      <td>14.34</td>\n",
       "      <td>135.10</td>\n",
       "      <td>1297.0</td>\n",
       "      <td>0.10030</td>\n",
       "      <td>0.13280</td>\n",
       "      <td>0.1980</td>\n",
       "      <td>0.10430</td>\n",
       "      <td>0.1809</td>\n",
       "      <td>0.05883</td>\n",
       "      <td>...</td>\n",
       "      <td>16.67</td>\n",
       "      <td>152.20</td>\n",
       "      <td>1575.0</td>\n",
       "      <td>0.1374</td>\n",
       "      <td>0.2050</td>\n",
       "      <td>0.4000</td>\n",
       "      <td>0.1625</td>\n",
       "      <td>0.2364</td>\n",
       "      <td>0.07678</td>\n",
       "      <td>Malignant</td>\n",
       "    </tr>\n",
       "  </tbody>\n",
       "</table>\n",
       "<p>5 rows × 31 columns</p>\n",
       "</div>"
      ],
      "text/plain": [
       "   mean radius  mean texture  mean perimeter  mean area  mean smoothness  \\\n",
       "0        17.99         10.38          122.80     1001.0          0.11840   \n",
       "1        20.57         17.77          132.90     1326.0          0.08474   \n",
       "2        19.69         21.25          130.00     1203.0          0.10960   \n",
       "3        11.42         20.38           77.58      386.1          0.14250   \n",
       "4        20.29         14.34          135.10     1297.0          0.10030   \n",
       "\n",
       "   mean compactness  mean concavity  mean concave points  mean symmetry  \\\n",
       "0           0.27760          0.3001              0.14710         0.2419   \n",
       "1           0.07864          0.0869              0.07017         0.1812   \n",
       "2           0.15990          0.1974              0.12790         0.2069   \n",
       "3           0.28390          0.2414              0.10520         0.2597   \n",
       "4           0.13280          0.1980              0.10430         0.1809   \n",
       "\n",
       "   mean fractal dimension  ...  worst texture  worst perimeter  worst area  \\\n",
       "0                 0.07871  ...          17.33           184.60      2019.0   \n",
       "1                 0.05667  ...          23.41           158.80      1956.0   \n",
       "2                 0.05999  ...          25.53           152.50      1709.0   \n",
       "3                 0.09744  ...          26.50            98.87       567.7   \n",
       "4                 0.05883  ...          16.67           152.20      1575.0   \n",
       "\n",
       "   worst smoothness  worst compactness  worst concavity  worst concave points  \\\n",
       "0            0.1622             0.6656           0.7119                0.2654   \n",
       "1            0.1238             0.1866           0.2416                0.1860   \n",
       "2            0.1444             0.4245           0.4504                0.2430   \n",
       "3            0.2098             0.8663           0.6869                0.2575   \n",
       "4            0.1374             0.2050           0.4000                0.1625   \n",
       "\n",
       "   worst symmetry  worst fractal dimension     target  \n",
       "0          0.4601                  0.11890  Malignant  \n",
       "1          0.2750                  0.08902  Malignant  \n",
       "2          0.3613                  0.08758  Malignant  \n",
       "3          0.6638                  0.17300  Malignant  \n",
       "4          0.2364                  0.07678  Malignant  \n",
       "\n",
       "[5 rows x 31 columns]"
      ]
     },
     "execution_count": 2,
     "metadata": {},
     "output_type": "execute_result"
    }
   ],
   "source": [
    "data = pd.read_csv('https://raw.githubusercontent.com/DrKAI/dataset/main/breast_cancer.csv')\n",
    "\n",
    "data.head()"
   ]
  },
  {
   "cell_type": "code",
   "execution_count": 3,
   "metadata": {
    "id": "hF1C2qsSzUk7"
   },
   "outputs": [
    {
     "name": "stdout",
     "output_type": "stream",
     "text": [
      "<class 'pandas.core.frame.DataFrame'>\n",
      "RangeIndex: 569 entries, 0 to 568\n",
      "Data columns (total 31 columns):\n",
      " #   Column                   Non-Null Count  Dtype  \n",
      "---  ------                   --------------  -----  \n",
      " 0   mean radius              569 non-null    float64\n",
      " 1   mean texture             569 non-null    float64\n",
      " 2   mean perimeter           569 non-null    float64\n",
      " 3   mean area                569 non-null    float64\n",
      " 4   mean smoothness          569 non-null    float64\n",
      " 5   mean compactness         569 non-null    float64\n",
      " 6   mean concavity           569 non-null    float64\n",
      " 7   mean concave points      569 non-null    float64\n",
      " 8   mean symmetry            569 non-null    float64\n",
      " 9   mean fractal dimension   569 non-null    float64\n",
      " 10  radius error             569 non-null    float64\n",
      " 11  texture error            569 non-null    float64\n",
      " 12  perimeter error          569 non-null    float64\n",
      " 13  area error               569 non-null    float64\n",
      " 14  smoothness error         569 non-null    float64\n",
      " 15  compactness error        569 non-null    float64\n",
      " 16  concavity error          569 non-null    float64\n",
      " 17  concave points error     569 non-null    float64\n",
      " 18  symmetry error           569 non-null    float64\n",
      " 19  fractal dimension error  569 non-null    float64\n",
      " 20  worst radius             569 non-null    float64\n",
      " 21  worst texture            569 non-null    float64\n",
      " 22  worst perimeter          569 non-null    float64\n",
      " 23  worst area               569 non-null    float64\n",
      " 24  worst smoothness         569 non-null    float64\n",
      " 25  worst compactness        569 non-null    float64\n",
      " 26  worst concavity          569 non-null    float64\n",
      " 27  worst concave points     569 non-null    float64\n",
      " 28  worst symmetry           569 non-null    float64\n",
      " 29  worst fractal dimension  569 non-null    float64\n",
      " 30  target                   569 non-null    object \n",
      "dtypes: float64(30), object(1)\n",
      "memory usage: 137.9+ KB\n"
     ]
    }
   ],
   "source": [
    "data.info()"
   ]
  },
  {
   "cell_type": "markdown",
   "metadata": {
    "id": "wvsEjq9CzJy3"
   },
   "source": [
    "## 데이터 전처리\n",
    "\n",
    "<details><summary>Hint</summary>\n",
    "\n",
    "* x, y 구분 필요\n",
    "* y에 대한 전처리 필요\n",
    "* 데이터셋 구분 필요\n",
    "\n",
    "</details>"
   ]
  },
  {
   "cell_type": "markdown",
   "metadata": {
    "id": "sjyEQ8S0MyVp"
   },
   "source": [
    "### x, y 구분"
   ]
  },
  {
   "cell_type": "code",
   "execution_count": 4,
   "metadata": {},
   "outputs": [
    {
     "data": {
      "text/plain": [
       "((569, 30), (569,))"
      ]
     },
     "execution_count": 4,
     "metadata": {},
     "output_type": "execute_result"
    }
   ],
   "source": [
    "t = 'target'\n",
    "x = data.drop(t, axis=1)\n",
    "y = data[t]\n",
    "\n",
    "# 확인\n",
    "x.shape, y.shape"
   ]
  },
  {
   "cell_type": "markdown",
   "metadata": {},
   "source": [
    "### train/test dataset 나누기"
   ]
  },
  {
   "cell_type": "code",
   "execution_count": 5,
   "metadata": {},
   "outputs": [],
   "source": [
    "from sklearn.model_selection import train_test_split"
   ]
  },
  {
   "cell_type": "code",
   "execution_count": 6,
   "metadata": {},
   "outputs": [
    {
     "data": {
      "text/plain": [
       "((455, 30), (114, 30), (455,), (114,))"
      ]
     },
     "execution_count": 6,
     "metadata": {},
     "output_type": "execute_result"
    }
   ],
   "source": [
    "x_train, x_test, y_train, y_test = train_test_split(x, y, test_size=0.2, random_state=2022)\n",
    "\n",
    "x_train.shape, x_test.shape, y_train.shape, y_test.shape"
   ]
  },
  {
   "cell_type": "markdown",
   "metadata": {},
   "source": [
    "### y 전처리"
   ]
  },
  {
   "cell_type": "code",
   "execution_count": 7,
   "metadata": {},
   "outputs": [
    {
     "data": {
      "text/plain": [
       "(455,)"
      ]
     },
     "execution_count": 7,
     "metadata": {},
     "output_type": "execute_result"
    }
   ],
   "source": [
    "y_train.shape"
   ]
  },
  {
   "cell_type": "code",
   "execution_count": 8,
   "metadata": {},
   "outputs": [
    {
     "data": {
      "text/plain": [
       "Benign       289\n",
       "Malignant    166\n",
       "Name: target, dtype: int64"
      ]
     },
     "execution_count": 8,
     "metadata": {},
     "output_type": "execute_result"
    }
   ],
   "source": [
    "y_train.value_counts()"
   ]
  },
  {
   "cell_type": "code",
   "execution_count": 9,
   "metadata": {},
   "outputs": [
    {
     "data": {
      "text/plain": [
       "((455,), (114,))"
      ]
     },
     "execution_count": 9,
     "metadata": {},
     "output_type": "execute_result"
    }
   ],
   "source": [
    "# Benign -> 0, Malignant -> 1로 변환\n",
    "y_train = y_train.map({'Benign':0, 'Malignant':1})\n",
    "y_test = y_test.map({'Benign':0, 'Malignant':1})\n",
    "\n",
    "y_train.shape, y_test.shape"
   ]
  },
  {
   "cell_type": "markdown",
   "metadata": {},
   "source": [
    "--> sigmoid로 진행"
   ]
  },
  {
   "cell_type": "markdown",
   "metadata": {
    "id": "UMxtGX8n7ZO7"
   },
   "source": [
    "## Locally connected layer를 구성하기 위한 feature 설정\n",
    "\n",
    "* mean, error, worst를 각 feature별로 묶어 새로운 변수를 만든다.\n",
    "        ex) mean radius, radius error, worst radius\n",
    "\n",
    "<details><summary> Hint </summary>\n",
    "\n",
    "* x의 train 구조와 test 구조는 동일해야 한다.\n",
    "\n",
    "</details>"
   ]
  },
  {
   "cell_type": "code",
   "execution_count": 10,
   "metadata": {
    "id": "ORdTBNODM0JL"
   },
   "outputs": [
    {
     "data": {
      "text/plain": [
       "Index(['mean radius', 'mean texture', 'mean perimeter', 'mean area',\n",
       "       'mean smoothness', 'mean compactness', 'mean concavity',\n",
       "       'mean concave points', 'mean symmetry', 'mean fractal dimension',\n",
       "       'radius error', 'texture error', 'perimeter error', 'area error',\n",
       "       'smoothness error', 'compactness error', 'concavity error',\n",
       "       'concave points error', 'symmetry error', 'fractal dimension error',\n",
       "       'worst radius', 'worst texture', 'worst perimeter', 'worst area',\n",
       "       'worst smoothness', 'worst compactness', 'worst concavity',\n",
       "       'worst concave points', 'worst symmetry', 'worst fractal dimension'],\n",
       "      dtype='object')"
      ]
     },
     "execution_count": 10,
     "metadata": {},
     "output_type": "execute_result"
    }
   ],
   "source": [
    "x.columns"
   ]
  },
  {
   "cell_type": "code",
   "execution_count": 11,
   "metadata": {
    "id": "hmNQKHvHM0D9"
   },
   "outputs": [
    {
     "data": {
      "text/plain": [
       "((455, 10), (455, 10), (455, 10))"
      ]
     },
     "execution_count": 11,
     "metadata": {},
     "output_type": "execute_result"
    }
   ],
   "source": [
    "# 열 이름 나누기\n",
    "l_mean = ['mean radius', 'mean texture', 'mean perimeter', 'mean area',\n",
    "       'mean smoothness', 'mean compactness', 'mean concavity',\n",
    "       'mean concave points', 'mean symmetry', 'mean fractal dimension']\n",
    "l_error = ['radius error', 'texture error', 'perimeter error', 'area error',\n",
    "       'smoothness error', 'compactness error', 'concavity error',\n",
    "       'concave points error', 'symmetry error', 'fractal dimension error']\n",
    "l_worst = ['worst radius', 'worst texture', 'worst perimeter', 'worst area',\n",
    "       'worst smoothness', 'worst compactness', 'worst concavity',\n",
    "       'worst concave points', 'worst symmetry', 'worst fractal dimension']\n",
    "\n",
    "# x_train 데이터 나누기\n",
    "tr_x_mean = x_train.loc[:,l_mean]\n",
    "tr_x_error = x_train.loc[:,l_error]\n",
    "tr_x_worst = x_train.loc[:,l_worst]\n",
    "\n",
    "# 확인\n",
    "tr_x_mean.shape, tr_x_error.shape, tr_x_worst.shape"
   ]
  },
  {
   "cell_type": "code",
   "execution_count": 12,
   "metadata": {},
   "outputs": [
    {
     "data": {
      "text/plain": [
       "((114, 10), (114, 10), (114, 10))"
      ]
     },
     "execution_count": 12,
     "metadata": {},
     "output_type": "execute_result"
    }
   ],
   "source": [
    "# x_test 데이터 나누기\n",
    "te_x_mean = x_test.loc[:,l_mean]\n",
    "te_x_error = x_test.loc[:,l_error]\n",
    "te_x_worst = x_test.loc[:,l_worst]\n",
    "\n",
    "# 확인\n",
    "te_x_mean.shape, te_x_error.shape, te_x_worst.shape"
   ]
  },
  {
   "cell_type": "markdown",
   "metadata": {},
   "source": [
    "### Locally connected layer를 구성하기 위한 feature 설정 - 2"
   ]
  },
  {
   "cell_type": "code",
   "execution_count": 13,
   "metadata": {},
   "outputs": [
    {
     "data": {
      "text/plain": [
       "Index(['mean radius', 'mean texture', 'mean perimeter', 'mean area',\n",
       "       'mean smoothness', 'mean compactness', 'mean concavity',\n",
       "       'mean concave points', 'mean symmetry', 'mean fractal dimension',\n",
       "       'radius error', 'texture error', 'perimeter error', 'area error',\n",
       "       'smoothness error', 'compactness error', 'concavity error',\n",
       "       'concave points error', 'symmetry error', 'fractal dimension error',\n",
       "       'worst radius', 'worst texture', 'worst perimeter', 'worst area',\n",
       "       'worst smoothness', 'worst compactness', 'worst concavity',\n",
       "       'worst concave points', 'worst symmetry', 'worst fractal dimension'],\n",
       "      dtype='object')"
      ]
     },
     "execution_count": 13,
     "metadata": {},
     "output_type": "execute_result"
    }
   ],
   "source": [
    "x.columns"
   ]
  },
  {
   "cell_type": "code",
   "execution_count": 14,
   "metadata": {},
   "outputs": [],
   "source": [
    "# 각 feature별로 묶기_리스트에 담기\n",
    "radius = ['mean radius', 'radius error', 'worst radius']\n",
    "texture = ['mean texture', 'texture error','worst texture']\n",
    "perimeter = ['mean perimeter', 'perimeter error', 'worst perimeter']\n",
    "area = ['mean area', 'area error', 'worst area']\n",
    "smoothness = ['mean smoothness', 'smoothness error', 'worst smoothness']\n",
    "compactness = ['mean compactness', 'compactness error', 'worst compactness']\n",
    "concavity = ['mean concavity', 'concavity error', 'worst concavity']\n",
    "concave_points = ['mean concave points', 'concave points error', 'worst concave points']\n",
    "symmetry = ['mean symmetry', 'symmetry error', 'worst symmetry']\n",
    "fractal_dimension = ['mean fractal dimension', 'fractal dimension error', 'worst fractal dimension']"
   ]
  },
  {
   "cell_type": "code",
   "execution_count": 15,
   "metadata": {},
   "outputs": [],
   "source": [
    "# train별로 데이터 나누기\n",
    "tr_x_radius = x_train.loc[:,radius]\n",
    "tr_x_texture = x_train.loc[:,texture]\n",
    "tr_x_perimeter = x_train.loc[:,perimeter]\n",
    "tr_x_area = x_train.loc[:,area]\n",
    "tr_x_smoothness = x_train.loc[:,smoothness]\n",
    "tr_x_compactness = x_train.loc[:,compactness]\n",
    "tr_x_concavity = x_train.loc[:,concavity]\n",
    "tr_x_concave_points = x_train.loc[:,concave_points]\n",
    "tr_x_symmetry = x_train.loc[:,symmetry]\n",
    "tr_x_fractal_dimension = x_train.loc[:,fractal_dimension]"
   ]
  },
  {
   "cell_type": "code",
   "execution_count": 16,
   "metadata": {},
   "outputs": [
    {
     "data": {
      "text/plain": [
       "((455, 3),\n",
       " (455, 3),\n",
       " (455, 3),\n",
       " (455, 3),\n",
       " (455, 3),\n",
       " (455, 3),\n",
       " (455, 3),\n",
       " (455, 3),\n",
       " (455, 3),\n",
       " (455, 3))"
      ]
     },
     "execution_count": 16,
     "metadata": {},
     "output_type": "execute_result"
    }
   ],
   "source": [
    "# 형태 확인\n",
    "tr_x_radius.shape, tr_x_texture.shape, tr_x_perimeter.shape, tr_x_area.shape, tr_x_smoothness.shape, tr_x_compactness.shape, tr_x_concavity.shape, tr_x_concave_points.shape, tr_x_symmetry.shape, tr_x_fractal_dimension.shape"
   ]
  },
  {
   "cell_type": "code",
   "execution_count": 17,
   "metadata": {},
   "outputs": [],
   "source": [
    "# test별로 데이터 나누기\n",
    "te_x_radius = x_test.loc[:,radius]\n",
    "te_x_texture = x_test.loc[:,texture]\n",
    "te_x_perimeter = x_test.loc[:,perimeter]\n",
    "te_x_area = x_test.loc[:,area]\n",
    "te_x_smoothness = x_test.loc[:,smoothness]\n",
    "te_x_compactness = x_test.loc[:,compactness]\n",
    "te_x_concavity = x_test.loc[:,concavity]\n",
    "te_x_concave_points = x_test.loc[:,concave_points]\n",
    "te_x_symmetry = x_test.loc[:,symmetry]\n",
    "te_x_fractal_dimension = x_test.loc[:,fractal_dimension]"
   ]
  },
  {
   "cell_type": "code",
   "execution_count": 18,
   "metadata": {},
   "outputs": [
    {
     "data": {
      "text/plain": [
       "((114, 3),\n",
       " (114, 3),\n",
       " (114, 3),\n",
       " (114, 3),\n",
       " (114, 3),\n",
       " (114, 3),\n",
       " (114, 3),\n",
       " (114, 3),\n",
       " (114, 3),\n",
       " (114, 3))"
      ]
     },
     "execution_count": 18,
     "metadata": {},
     "output_type": "execute_result"
    }
   ],
   "source": [
    "# 형태 확인\n",
    "te_x_radius.shape, te_x_texture.shape, te_x_perimeter.shape, te_x_area.shape, te_x_smoothness.shape, te_x_compactness.shape, te_x_concavity.shape, te_x_concave_points.shape, te_x_symmetry.shape, te_x_fractal_dimension.shape"
   ]
  },
  {
   "cell_type": "markdown",
   "metadata": {
    "id": "pN2YChw-9ACb"
   },
   "source": [
    "# 모델링\n",
    "- Locally connected Model\n",
    "\n",
    "1. 윗 단계에서 생성한 변수의 **형태**를 이용하여, 각 변수별 input layer를 만든다.\n",
    "2. node가 12개인 hidden layer를 **각각** 생성하여, 각 input layer와 연결한다.\n",
    "3. 생성된 hidden layer를 add 한다.\n",
    "---\n",
    "4. 전체 변수를 이용한 input layer를 만든다.\n",
    "5. 3번 단계로 add 된 레이어와 4번 단계로 만들어진 input layer를 concat한다.\n",
    "---\n",
    "6. node가 128개인 hidden layer를 5번 단계로 concat된 레이어와 연결한다.\n",
    "7. output layer를 생성하고 compile 한다."
   ]
  },
  {
   "cell_type": "code",
   "execution_count": 19,
   "metadata": {},
   "outputs": [],
   "source": [
    "# 라이브러리 불러오기\n",
    "from tensorflow.keras.backend import clear_session\n",
    "from tensorflow.keras.models import Model\n",
    "from tensorflow.keras.layers import Input, Dense, Add, Concatenate\n",
    "from tensorflow.keras.activations import relu, sigmoid\n",
    "from tensorflow.keras.losses import binary_crossentropy\n",
    "from tensorflow.keras.optimizers import Adam\n",
    "\n",
    "from tensorflow.keras.callbacks import EarlyStopping\n",
    "from tensorflow.keras.utils import plot_model"
   ]
  },
  {
   "cell_type": "code",
   "execution_count": 20,
   "metadata": {
    "id": "AJLLVhBXM12J"
   },
   "outputs": [
    {
     "data": {
      "text/plain": [
       "((455, 30), (455, 10), (455, 10), (455, 10), (455,))"
      ]
     },
     "execution_count": 20,
     "metadata": {},
     "output_type": "execute_result"
    }
   ],
   "source": [
    "# 변수 형태 확인\n",
    "x_train.shape, tr_x_mean.shape, tr_x_error.shape, tr_x_worst.shape, y_train.shape"
   ]
  },
  {
   "cell_type": "code",
   "execution_count": 21,
   "metadata": {
    "id": "FV1wcvmCM21W"
   },
   "outputs": [
    {
     "name": "stdout",
     "output_type": "stream",
     "text": [
      "Model: \"model\"\n",
      "__________________________________________________________________________________________________\n",
      " Layer (type)                   Output Shape         Param #     Connected to                     \n",
      "==================================================================================================\n",
      " input_mean (InputLayer)        [(None, 10)]         0           []                               \n",
      "                                                                                                  \n",
      " input_error (InputLayer)       [(None, 10)]         0           []                               \n",
      "                                                                                                  \n",
      " input_weight (InputLayer)      [(None, 10)]         0           []                               \n",
      "                                                                                                  \n",
      " hidden_mean (Dense)            (None, 12)           132         ['input_mean[0][0]']             \n",
      "                                                                                                  \n",
      " hidden_error (Dense)           (None, 12)           132         ['input_error[0][0]']            \n",
      "                                                                                                  \n",
      " hidden_weight (Dense)          (None, 12)           132         ['input_weight[0][0]']           \n",
      "                                                                                                  \n",
      " add_layer (Add)                (None, 12)           0           ['hidden_mean[0][0]',            \n",
      "                                                                  'hidden_error[0][0]',           \n",
      "                                                                  'hidden_weight[0][0]']          \n",
      "                                                                                                  \n",
      " input_total (InputLayer)       [(None, 30)]         0           []                               \n",
      "                                                                                                  \n",
      " concatenate_layer (Concatenate  (None, 42)          0           ['add_layer[0][0]',              \n",
      " )                                                                'input_total[0][0]']            \n",
      "                                                                                                  \n",
      " hidden_layer (Dense)           (None, 128)          5504        ['concatenate_layer[0][0]']      \n",
      "                                                                                                  \n",
      " output_layer (Dense)           (None, 1)            129         ['hidden_layer[0][0]']           \n",
      "                                                                                                  \n",
      "==================================================================================================\n",
      "Total params: 6,029\n",
      "Trainable params: 6,029\n",
      "Non-trainable params: 0\n",
      "__________________________________________________________________________________________________\n"
     ]
    }
   ],
   "source": [
    "############ Functional API ############\n",
    "\n",
    "\n",
    "### 1. 세션 클리어\n",
    "clear_session()\n",
    "\n",
    "### 2. 레이어 엮기\n",
    "\n",
    "# 새로운 변수별 input layer 만들기 (mean, error, weight)\n",
    "# hidden layer를 각 input layer와 연결하기\n",
    "# mean\n",
    "il_m = Input(shape=(10,), name='input_mean')\n",
    "hl_m = Dense(12, activation=relu, name='hidden_mean')(il_m)\n",
    "\n",
    "# error\n",
    "il_e = Input(shape=(10,), name='input_error')\n",
    "hl_e = Dense(12, activation=relu, name='hidden_error')(il_e)\n",
    "\n",
    "# weight \n",
    "il_w = Input(shape=(10,), name='input_weight')\n",
    "hl_w = Dense(12, activation=relu, name='hidden_weight')(il_w)\n",
    "\n",
    "\n",
    "\n",
    "# 생성된 hidden layer를 add 하기\n",
    "al = Add(name='add_layer')([hl_m, hl_e, hl_w] )\n",
    "\n",
    "# 전체 변수를 이용한 input layer\n",
    "il = Input(shape=(30,), name='input_total')\n",
    "\n",
    "# add layer와 전체 input layer를 concat 하기\n",
    "cl = Concatenate(name='concatenate_layer')([al, il] )\n",
    "\n",
    "# concat layer와 연결하여 128개 노드를 갖는 hidden layer\n",
    "hl = Dense(128, activation=relu, name='hidden_layer')(cl)\n",
    "\n",
    "# hidden layer와 연결하여 클래스 1로 \n",
    "ol = Dense(1, activation=sigmoid, name='output_layer')(hl)\n",
    "\n",
    "### 3. 모델 시작과 끝 설정\n",
    "model = Model([il_m, il_e, il_w, il], ol)\n",
    "\n",
    "\n",
    "### 4. 컴파일\n",
    "model.compile(loss=binary_crossentropy,  # y 의 클래스 2개 -> 이진분류\n",
    "              metrics='accuracy',        # crossentropy는 직관적이지 않기 때문에 보조적 자료로 정확도 보기\n",
    "              optimizer=Adam())          # 최적화 방법은 adam\n",
    "\n",
    "\n",
    "## 모델 요약\n",
    "model.summary()"
   ]
  },
  {
   "cell_type": "markdown",
   "metadata": {},
   "source": [
    "### 모델 시각화 "
   ]
  },
  {
   "cell_type": "code",
   "execution_count": 22,
   "metadata": {},
   "outputs": [
    {
     "data": {
      "image/png": "[encoded data removed]",
      "text/plain": [
       "<IPython.core.display.Image object>"
      ]
     },
     "execution_count": 22,
     "metadata": {},
     "output_type": "execute_result"
    }
   ],
   "source": [
    "plot_model(model, show_shapes=True, show_layer_names=True)"
   ]
  },
  {
   "cell_type": "markdown",
   "metadata": {
    "id": "1F1VLUE6M25K"
   },
   "source": [
    "## 학습하기"
   ]
  },
  {
   "cell_type": "code",
   "execution_count": 23,
   "metadata": {},
   "outputs": [],
   "source": [
    "es = EarlyStopping(monitor='val_loss',\n",
    "                   min_delta=0,\n",
    "                   patience=5,\n",
    "                   verbose=1,\n",
    "                   restore_best_weights=True)"
   ]
  },
  {
   "cell_type": "code",
   "execution_count": 24,
   "metadata": {
    "scrolled": true
   },
   "outputs": [
    {
     "name": "stdout",
     "output_type": "stream",
     "text": [
      "Epoch 1/3000\n",
      "12/12 [==============================] - 1s 19ms/step - loss: 9.4162 - accuracy: 0.5467 - val_loss: 1.5421 - val_accuracy: 0.6374\n",
      "Epoch 2/3000\n",
      "12/12 [==============================] - 0s 4ms/step - loss: 1.6618 - accuracy: 0.7363 - val_loss: 0.2311 - val_accuracy: 0.9560\n",
      "Epoch 3/3000\n",
      "12/12 [==============================] - 0s 4ms/step - loss: 1.0246 - accuracy: 0.8626 - val_loss: 0.5231 - val_accuracy: 0.8571\n",
      "Epoch 4/3000\n",
      "12/12 [==============================] - 0s 4ms/step - loss: 1.2760 - accuracy: 0.7912 - val_loss: 0.4945 - val_accuracy: 0.8681\n",
      "Epoch 5/3000\n",
      "12/12 [==============================] - 0s 4ms/step - loss: 0.7185 - accuracy: 0.8736 - val_loss: 0.2788 - val_accuracy: 0.9121\n",
      "Epoch 6/3000\n",
      "12/12 [==============================] - 0s 4ms/step - loss: 0.6569 - accuracy: 0.8681 - val_loss: 0.2729 - val_accuracy: 0.9121\n",
      "Epoch 7/3000\n",
      "12/12 [==============================] - 0s 4ms/step - loss: 0.4870 - accuracy: 0.8846 - val_loss: 0.1593 - val_accuracy: 0.9560\n",
      "Epoch 8/3000\n",
      "12/12 [==============================] - 0s 4ms/step - loss: 0.4719 - accuracy: 0.8956 - val_loss: 0.5379 - val_accuracy: 0.8571\n",
      "Epoch 9/3000\n",
      "12/12 [==============================] - 0s 4ms/step - loss: 0.4634 - accuracy: 0.8984 - val_loss: 0.1871 - val_accuracy: 0.9451\n",
      "Epoch 10/3000\n",
      "12/12 [==============================] - 0s 4ms/step - loss: 0.5130 - accuracy: 0.8681 - val_loss: 0.2990 - val_accuracy: 0.9231\n",
      "Epoch 11/3000\n",
      "12/12 [==============================] - 0s 4ms/step - loss: 0.5558 - accuracy: 0.9066 - val_loss: 0.4127 - val_accuracy: 0.8681\n",
      "Epoch 12/3000\n",
      "12/12 [==============================] - 0s 4ms/step - loss: 0.5155 - accuracy: 0.8874 - val_loss: 0.1330 - val_accuracy: 0.9670\n",
      "Epoch 13/3000\n",
      "12/12 [==============================] - 0s 4ms/step - loss: 0.4134 - accuracy: 0.9038 - val_loss: 0.2567 - val_accuracy: 0.9121\n",
      "Epoch 14/3000\n",
      "12/12 [==============================] - 0s 4ms/step - loss: 0.3906 - accuracy: 0.8984 - val_loss: 0.8835 - val_accuracy: 0.7912\n",
      "Epoch 15/3000\n",
      "12/12 [==============================] - 0s 4ms/step - loss: 0.6231 - accuracy: 0.8709 - val_loss: 0.1295 - val_accuracy: 0.9670\n",
      "Epoch 16/3000\n",
      "12/12 [==============================] - 0s 4ms/step - loss: 0.3120 - accuracy: 0.9066 - val_loss: 0.1137 - val_accuracy: 0.9670\n",
      "Epoch 17/3000\n",
      "12/12 [==============================] - 0s 4ms/step - loss: 0.3705 - accuracy: 0.9121 - val_loss: 0.1336 - val_accuracy: 0.9451\n",
      "Epoch 18/3000\n",
      "12/12 [==============================] - 0s 4ms/step - loss: 0.3649 - accuracy: 0.9066 - val_loss: 0.1822 - val_accuracy: 0.9341\n",
      "Epoch 19/3000\n",
      "12/12 [==============================] - 0s 4ms/step - loss: 0.3243 - accuracy: 0.9093 - val_loss: 0.3384 - val_accuracy: 0.8681\n",
      "Epoch 20/3000\n",
      "12/12 [==============================] - 0s 4ms/step - loss: 0.3085 - accuracy: 0.9066 - val_loss: 0.1364 - val_accuracy: 0.9451\n",
      "Epoch 21/3000\n",
      "12/12 [==============================] - 0s 4ms/step - loss: 0.2895 - accuracy: 0.9066 - val_loss: 0.1019 - val_accuracy: 0.9560\n",
      "Epoch 22/3000\n",
      "12/12 [==============================] - 0s 4ms/step - loss: 0.2893 - accuracy: 0.9121 - val_loss: 0.2907 - val_accuracy: 0.8791\n",
      "Epoch 23/3000\n",
      "12/12 [==============================] - 0s 4ms/step - loss: 0.6154 - accuracy: 0.8626 - val_loss: 0.0764 - val_accuracy: 0.9780\n",
      "Epoch 24/3000\n",
      "12/12 [==============================] - 0s 4ms/step - loss: 0.7389 - accuracy: 0.8654 - val_loss: 0.0776 - val_accuracy: 0.9780\n",
      "Epoch 25/3000\n",
      "12/12 [==============================] - 0s 4ms/step - loss: 0.3645 - accuracy: 0.9038 - val_loss: 0.0757 - val_accuracy: 0.9780\n",
      "Epoch 26/3000\n",
      "12/12 [==============================] - 0s 4ms/step - loss: 0.2871 - accuracy: 0.9148 - val_loss: 0.1591 - val_accuracy: 0.9560\n",
      "Epoch 27/3000\n",
      "12/12 [==============================] - 0s 4ms/step - loss: 0.3103 - accuracy: 0.9038 - val_loss: 0.4646 - val_accuracy: 0.8462\n",
      "Epoch 28/3000\n",
      "12/12 [==============================] - 0s 4ms/step - loss: 0.5018 - accuracy: 0.8846 - val_loss: 0.0969 - val_accuracy: 0.9780\n",
      "Epoch 29/3000\n",
      "12/12 [==============================] - 0s 4ms/step - loss: 0.2487 - accuracy: 0.9011 - val_loss: 0.0675 - val_accuracy: 0.9890\n",
      "Epoch 30/3000\n",
      "12/12 [==============================] - 0s 4ms/step - loss: 0.2501 - accuracy: 0.9231 - val_loss: 0.3976 - val_accuracy: 0.8571\n",
      "Epoch 31/3000\n",
      "12/12 [==============================] - 0s 4ms/step - loss: 0.4442 - accuracy: 0.8599 - val_loss: 0.2997 - val_accuracy: 0.9231\n",
      "Epoch 32/3000\n",
      "12/12 [==============================] - 0s 4ms/step - loss: 0.6740 - accuracy: 0.8242 - val_loss: 0.1282 - val_accuracy: 0.9560\n",
      "Epoch 33/3000\n",
      "12/12 [==============================] - 0s 4ms/step - loss: 0.6546 - accuracy: 0.8462 - val_loss: 1.0331 - val_accuracy: 0.7473\n",
      "Epoch 34/3000\n",
      " 1/12 [=>............................] - ETA: 0s - loss: 1.5393 - accuracy: 0.7500Restoring model weights from the end of the best epoch: 29.\n",
      "12/12 [==============================] - 0s 4ms/step - loss: 0.4278 - accuracy: 0.8874 - val_loss: 0.1542 - val_accuracy: 0.9560\n",
      "Epoch 34: early stopping\n"
     ]
    },
    {
     "data": {
      "text/plain": [
       "<keras.callbacks.History at 0x1f87f8aa580>"
      ]
     },
     "execution_count": 24,
     "metadata": {},
     "output_type": "execute_result"
    }
   ],
   "source": [
    "model.fit([tr_x_mean, tr_x_error, tr_x_worst, x_train], y_train,\n",
    "          epochs=3000,\n",
    "          verbose=1, \n",
    "          validation_split=0.2,\n",
    "          callbacks=[es])"
   ]
  },
  {
   "cell_type": "markdown",
   "metadata": {},
   "source": [
    "### 예측"
   ]
  },
  {
   "cell_type": "code",
   "execution_count": 25,
   "metadata": {},
   "outputs": [],
   "source": [
    "# 예측\n",
    "y_pred = model.predict([te_x_mean, te_x_error, te_x_worst, x_test])\n",
    "\n",
    "for idx, val in enumerate(y_pred):\n",
    "    if val >= 0.5:\n",
    "        y_pred[idx] = 1\n",
    "    else:\n",
    "        y_pred[idx] = 0"
   ]
  },
  {
   "cell_type": "code",
   "execution_count": 26,
   "metadata": {
    "id": "FJfDbKduBnxz"
   },
   "outputs": [
    {
     "name": "stdout",
     "output_type": "stream",
     "text": [
      "4/4 [==============================] - 0s 2ms/step - loss: 0.2675 - accuracy: 0.9386\n"
     ]
    },
    {
     "data": {
      "text/plain": [
       "[0.2675020098686218, 0.9385964870452881]"
      ]
     },
     "execution_count": 26,
     "metadata": {},
     "output_type": "execute_result"
    }
   ],
   "source": [
    "model.evaluate([te_x_mean, te_x_error, te_x_worst, x_test], y_test)"
   ]
  },
  {
   "cell_type": "code",
   "execution_count": 27,
   "metadata": {},
   "outputs": [
    {
     "name": "stdout",
     "output_type": "stream",
     "text": [
      "              precision    recall  f1-score   support\n",
      "\n",
      "           0       0.92      0.99      0.95        68\n",
      "           1       0.98      0.87      0.92        46\n",
      "\n",
      "    accuracy                           0.94       114\n",
      "   macro avg       0.95      0.93      0.93       114\n",
      "weighted avg       0.94      0.94      0.94       114\n",
      "\n"
     ]
    }
   ],
   "source": [
    "print(classification_report(y_test, y_pred))"
   ]
  },
  {
   "cell_type": "markdown",
   "metadata": {
    "id": "6uOhCHhIM7SO"
   },
   "source": [
    "#### My 모델 성능\n",
    "\n",
    "- Accuracy : 0.9211\n",
    "- 1의 Recall : 0.83\n",
    "- 1의 Precision : 0.97\n",
    "- 0의 Recall : 0.99"
   ]
  },
  {
   "cell_type": "markdown",
   "metadata": {},
   "source": [
    "---\n",
    "\n",
    "# 모델링 2\n",
    "\n",
    "- Locally connected Model\n",
    "\n",
    "\n",
    "1. 새로 만든 10개의 feature로 input layer 만들기\n",
    "2. 각각의 input layer의 hidden layer연결하기\n",
    "3. hidden layer를 하나의 add 레이어로 만들기\n",
    "4. 전체 feature를 가진 하나의 input layer 만들기\n",
    "5. add 레이어와 하나의 전체 input layer를 concat을 이용하여 하나의 layer로 만들기\n",
    "6. concat layer를 hidden layer로 연결하기\n",
    "7. output layer 만들기\n",
    "8. compile"
   ]
  },
  {
   "cell_type": "code",
   "execution_count": 28,
   "metadata": {},
   "outputs": [
    {
     "data": {
      "text/plain": [
       "((455, 3),\n",
       " (455, 3),\n",
       " (455, 3),\n",
       " (455, 3),\n",
       " (455, 3),\n",
       " (455, 3),\n",
       " (455, 3),\n",
       " (455, 3),\n",
       " (455, 3),\n",
       " (455, 3))"
      ]
     },
     "execution_count": 28,
     "metadata": {},
     "output_type": "execute_result"
    }
   ],
   "source": [
    "# 변수 형태 확인 - 10개의 x 데이터\n",
    "tr_x_radius.shape, tr_x_texture.shape, tr_x_perimeter.shape, tr_x_area.shape, tr_x_smoothness.shape, tr_x_compactness.shape, tr_x_concavity.shape, tr_x_concave_points.shape, tr_x_symmetry.shape, tr_x_fractal_dimension.shape"
   ]
  },
  {
   "cell_type": "code",
   "execution_count": 29,
   "metadata": {},
   "outputs": [
    {
     "data": {
      "text/plain": [
       "((455, 30), (455,))"
      ]
     },
     "execution_count": 29,
     "metadata": {},
     "output_type": "execute_result"
    }
   ],
   "source": [
    "# 변수 형태 확인\n",
    "x_train.shape, y_train.shape"
   ]
  },
  {
   "cell_type": "code",
   "execution_count": 37,
   "metadata": {},
   "outputs": [
    {
     "name": "stdout",
     "output_type": "stream",
     "text": [
      "Model: \"model\"\n",
      "__________________________________________________________________________________________________\n",
      " Layer (type)                   Output Shape         Param #     Connected to                     \n",
      "==================================================================================================\n",
      " input_1 (InputLayer)           [(None, 3)]          0           []                               \n",
      "                                                                                                  \n",
      " input_2 (InputLayer)           [(None, 3)]          0           []                               \n",
      "                                                                                                  \n",
      " input_3 (InputLayer)           [(None, 3)]          0           []                               \n",
      "                                                                                                  \n",
      " input_4 (InputLayer)           [(None, 3)]          0           []                               \n",
      "                                                                                                  \n",
      " input_5 (InputLayer)           [(None, 3)]          0           []                               \n",
      "                                                                                                  \n",
      " input_6 (InputLayer)           [(None, 3)]          0           []                               \n",
      "                                                                                                  \n",
      " input_7 (InputLayer)           [(None, 3)]          0           []                               \n",
      "                                                                                                  \n",
      " input_8 (InputLayer)           [(None, 3)]          0           []                               \n",
      "                                                                                                  \n",
      " input_9 (InputLayer)           [(None, 3)]          0           []                               \n",
      "                                                                                                  \n",
      " input_10 (InputLayer)          [(None, 3)]          0           []                               \n",
      "                                                                                                  \n",
      " dense (Dense)                  (None, 8)            32          ['input_1[0][0]']                \n",
      "                                                                                                  \n",
      " dense_1 (Dense)                (None, 8)            32          ['input_2[0][0]']                \n",
      "                                                                                                  \n",
      " dense_2 (Dense)                (None, 8)            32          ['input_3[0][0]']                \n",
      "                                                                                                  \n",
      " dense_3 (Dense)                (None, 8)            32          ['input_4[0][0]']                \n",
      "                                                                                                  \n",
      " dense_4 (Dense)                (None, 8)            32          ['input_5[0][0]']                \n",
      "                                                                                                  \n",
      " dense_5 (Dense)                (None, 8)            32          ['input_6[0][0]']                \n",
      "                                                                                                  \n",
      " dense_6 (Dense)                (None, 8)            32          ['input_7[0][0]']                \n",
      "                                                                                                  \n",
      " dense_7 (Dense)                (None, 8)            32          ['input_8[0][0]']                \n",
      "                                                                                                  \n",
      " dense_8 (Dense)                (None, 8)            32          ['input_9[0][0]']                \n",
      "                                                                                                  \n",
      " dense_9 (Dense)                (None, 8)            32          ['input_10[0][0]']               \n",
      "                                                                                                  \n",
      " add (Add)                      (None, 8)            0           ['dense[0][0]',                  \n",
      "                                                                  'dense_1[0][0]',                \n",
      "                                                                  'dense_2[0][0]',                \n",
      "                                                                  'dense_3[0][0]',                \n",
      "                                                                  'dense_4[0][0]',                \n",
      "                                                                  'dense_5[0][0]',                \n",
      "                                                                  'dense_6[0][0]',                \n",
      "                                                                  'dense_7[0][0]',                \n",
      "                                                                  'dense_8[0][0]',                \n",
      "                                                                  'dense_9[0][0]']                \n",
      "                                                                                                  \n",
      " input_11 (InputLayer)          [(None, 30)]         0           []                               \n",
      "                                                                                                  \n",
      " concatenate (Concatenate)      (None, 38)           0           ['add[0][0]',                    \n",
      "                                                                  'input_11[0][0]']               \n",
      "                                                                                                  \n",
      " dense_10 (Dense)               (None, 128)          4992        ['concatenate[0][0]']            \n",
      "                                                                                                  \n",
      " dense_11 (Dense)               (None, 1)            129         ['dense_10[0][0]']               \n",
      "                                                                                                  \n",
      "==================================================================================================\n",
      "Total params: 5,441\n",
      "Trainable params: 5,441\n",
      "Non-trainable params: 0\n",
      "__________________________________________________________________________________________________\n"
     ]
    }
   ],
   "source": [
    "######## Functional API ########\n",
    "\n",
    "# 1. 세션 클리어\n",
    "clear_session()\n",
    "\n",
    "# 2. 레이어 엮기\n",
    "\n",
    "#### 단계 1, 2 진행 ####\n",
    "# 각각의 feature들의 input layer와 hidden layer를 생성하여 연결\n",
    "# hidden layer 노드 수 : 8, activation = relu\n",
    "il_radius = Input(shape=(3,))\n",
    "hl_radius = Dense(8, activation=relu)(il_radius)\n",
    "\n",
    "il_texture = Input(shape=(3,))\n",
    "hl_texture = Dense(8, activation=relu)(il_texture)\n",
    "\n",
    "il_perimeter = Input(shape=(3,))\n",
    "hl_perimeter = Dense(8, activation=relu)(il_perimeter)\n",
    "\n",
    "il_area = Input(shape=(3,))\n",
    "hl_area = Dense(8, activation=relu)(il_area)\n",
    "\n",
    "il_smoothness = Input(shape=(3,))\n",
    "hl_smoothness = Dense(8, activation=relu)(il_smoothness)\n",
    "\n",
    "il_compactness = Input(shape=(3,))\n",
    "hl_compactness = Dense(8, activation=relu)(il_compactness)\n",
    "\n",
    "il_concavity = Input(shape=(3,))\n",
    "hl_concavity = Dense(8, activation=relu)(il_concavity)\n",
    "\n",
    "il_concave_points = Input(shape=(3,))\n",
    "hl_concave_points = Dense(8, activation=relu)(il_concave_points)\n",
    "\n",
    "il_symmetry = Input(shape=(3,))\n",
    "hl_symmetry = Dense(8, activation=relu)(il_symmetry)\n",
    "\n",
    "il_fractal_dimension = Input(shape=(3,))\n",
    "hl_fractal_dimension = Dense(8, activation=relu)(il_fractal_dimension)\n",
    "\n",
    "\n",
    "#### 단계 3 진행 ####\n",
    "# 앞서 진행한 각 feature별 hidden layer를 Add로 하나의 layer로 만들기\n",
    "hls = [hl_radius, hl_texture, hl_perimeter, hl_area, hl_smoothness, hl_compactness,\n",
    "       hl_concavity, hl_concave_points, hl_symmetry, hl_fractal_dimension]\n",
    "al = Add()(hls)\n",
    "\n",
    "\n",
    "#### 단계 4 진행 ####\n",
    "# 전체 feature를 가진 하나의 input layer 만들기\n",
    "il = Input(shape=(30,))\n",
    "\n",
    "\n",
    "#### 단계 5 진행 ####\n",
    "# add 레이어와 하나의 전체 input layer를 concat을 이용하여 하나의 layer로 만들기\n",
    "cl = Concatenate()([al, il])\n",
    "\n",
    "\n",
    "#### 단계 6 진행 ####\n",
    "# concat layer를 hidden layer로 연결하기\n",
    "hl = Dense(128, activation=relu)(cl)\n",
    "\n",
    "#### 단계 7 진행 ####\n",
    "# output layer 만들기\n",
    "ol = Dense(1, activation=sigmoid)(hl)\n",
    "\n",
    "\n",
    "\n",
    "# 3. 모델 시작과 끝 설정\n",
    "ill = [il_radius, il_texture, il_perimeter, il_area, il_smoothness, il_compactness,\n",
    "       il_concavity, il_concave_points, il_symmetry, il_fractal_dimension, il]\n",
    "model = Model(ill, ol)\n",
    "\n",
    "# 4. 컴파일\n",
    "model.compile(loss=binary_crossentropy,\n",
    "              metrics='accuracy',\n",
    "              optimizer=Adam())\n",
    "\n",
    "## 모델 요약하기\n",
    "model.summary()"
   ]
  },
  {
   "cell_type": "markdown",
   "metadata": {},
   "source": [
    "### 모델 시각화"
   ]
  },
  {
   "cell_type": "code",
   "execution_count": 38,
   "metadata": {
    "scrolled": true
   },
   "outputs": [
    {
     "data": {
      "image/png": "[encoded data removed]",
      "text/plain": [
       "<IPython.core.display.Image object>"
      ]
     },
     "execution_count": 38,
     "metadata": {},
     "output_type": "execute_result"
    }
   ],
   "source": [
    "plot_model(model, show_shapes=True)"
   ]
  },
  {
   "cell_type": "markdown",
   "metadata": {},
   "source": [
    "### 학습"
   ]
  },
  {
   "cell_type": "code",
   "execution_count": 39,
   "metadata": {},
   "outputs": [],
   "source": [
    "es = EarlyStopping(monitor='val_loss',\n",
    "                   min_delta=0,\n",
    "                   patience=5,\n",
    "                   verbose=1,\n",
    "                   restore_best_weights=True)"
   ]
  },
  {
   "cell_type": "code",
   "execution_count": 40,
   "metadata": {},
   "outputs": [
    {
     "name": "stdout",
     "output_type": "stream",
     "text": [
      "Epoch 1/3000\n",
      "13/13 [==============================] - 1s 24ms/step - loss: 39.3962 - accuracy: 0.5026 - val_loss: 5.3312 - val_accuracy: 0.2029\n",
      "Epoch 2/3000\n",
      "13/13 [==============================] - 0s 5ms/step - loss: 3.5146 - accuracy: 0.4352 - val_loss: 2.0302 - val_accuracy: 0.4203\n",
      "Epoch 3/3000\n",
      "13/13 [==============================] - 0s 5ms/step - loss: 1.2886 - accuracy: 0.6606 - val_loss: 2.2072 - val_accuracy: 0.4783\n",
      "Epoch 4/3000\n",
      "13/13 [==============================] - 0s 5ms/step - loss: 5.3201 - accuracy: 0.5751 - val_loss: 0.1848 - val_accuracy: 0.9565\n",
      "Epoch 5/3000\n",
      "13/13 [==============================] - 0s 5ms/step - loss: 1.2182 - accuracy: 0.7927 - val_loss: 0.1493 - val_accuracy: 0.9565\n",
      "Epoch 6/3000\n",
      "13/13 [==============================] - 0s 5ms/step - loss: 0.7194 - accuracy: 0.8627 - val_loss: 0.1271 - val_accuracy: 0.9710\n",
      "Epoch 7/3000\n",
      "13/13 [==============================] - 0s 5ms/step - loss: 0.5735 - accuracy: 0.8731 - val_loss: 1.0372 - val_accuracy: 0.7536\n",
      "Epoch 8/3000\n",
      "13/13 [==============================] - 0s 6ms/step - loss: 1.5485 - accuracy: 0.7332 - val_loss: 0.7740 - val_accuracy: 0.7536\n",
      "Epoch 9/3000\n",
      "13/13 [==============================] - 0s 5ms/step - loss: 0.7418 - accuracy: 0.8575 - val_loss: 0.1269 - val_accuracy: 0.9710\n",
      "Epoch 10/3000\n",
      "13/13 [==============================] - 0s 5ms/step - loss: 0.6554 - accuracy: 0.8705 - val_loss: 0.0895 - val_accuracy: 0.9855\n",
      "Epoch 11/3000\n",
      "13/13 [==============================] - 0s 5ms/step - loss: 0.4916 - accuracy: 0.8808 - val_loss: 0.1631 - val_accuracy: 0.9275\n",
      "Epoch 12/3000\n",
      "13/13 [==============================] - 0s 5ms/step - loss: 0.5282 - accuracy: 0.8627 - val_loss: 0.1025 - val_accuracy: 0.9420\n",
      "Epoch 13/3000\n",
      "13/13 [==============================] - 0s 5ms/step - loss: 0.4645 - accuracy: 0.8731 - val_loss: 0.0644 - val_accuracy: 0.9855\n",
      "Epoch 14/3000\n",
      "13/13 [==============================] - 0s 5ms/step - loss: 0.4807 - accuracy: 0.8756 - val_loss: 1.7694 - val_accuracy: 0.5942\n",
      "Epoch 15/3000\n",
      "13/13 [==============================] - 0s 5ms/step - loss: 1.8363 - accuracy: 0.6995 - val_loss: 0.7326 - val_accuracy: 0.7681\n",
      "Epoch 16/3000\n",
      "13/13 [==============================] - 0s 5ms/step - loss: 0.8541 - accuracy: 0.8497 - val_loss: 0.0679 - val_accuracy: 0.9855\n",
      "Epoch 17/3000\n",
      "13/13 [==============================] - 0s 5ms/step - loss: 0.4891 - accuracy: 0.8860 - val_loss: 0.0925 - val_accuracy: 0.9565\n",
      "Epoch 18/3000\n",
      "13/13 [==============================] - 0s 5ms/step - loss: 0.4129 - accuracy: 0.8990 - val_loss: 0.0568 - val_accuracy: 0.9855\n",
      "Epoch 19/3000\n",
      "13/13 [==============================] - 0s 5ms/step - loss: 0.3924 - accuracy: 0.8990 - val_loss: 0.0947 - val_accuracy: 0.9710\n",
      "Epoch 20/3000\n",
      "13/13 [==============================] - 0s 5ms/step - loss: 0.4093 - accuracy: 0.8938 - val_loss: 0.1254 - val_accuracy: 0.9565\n",
      "Epoch 21/3000\n",
      "13/13 [==============================] - 0s 4ms/step - loss: 0.3936 - accuracy: 0.9041 - val_loss: 0.2939 - val_accuracy: 0.8551\n",
      "Epoch 22/3000\n",
      "13/13 [==============================] - 0s 5ms/step - loss: 0.3607 - accuracy: 0.8938 - val_loss: 0.2907 - val_accuracy: 0.8986\n",
      "Epoch 23/3000\n",
      " 1/13 [=>............................] - ETA: 0s - loss: 0.1714 - accuracy: 0.9375Restoring model weights from the end of the best epoch: 18.\n",
      "13/13 [==============================] - 0s 5ms/step - loss: 0.6927 - accuracy: 0.8394 - val_loss: 2.1605 - val_accuracy: 0.5217\n",
      "Epoch 23: early stopping\n"
     ]
    },
    {
     "data": {
      "text/plain": [
       "<keras.callbacks.History at 0x1f804fa8b20>"
      ]
     },
     "execution_count": 40,
     "metadata": {},
     "output_type": "execute_result"
    }
   ],
   "source": [
    "x_l = [tr_x_radius, tr_x_texture, tr_x_perimeter, tr_x_area, tr_x_smoothness, tr_x_compactness, tr_x_concavity, tr_x_concave_points, tr_x_symmetry, tr_x_fractal_dimension, x_train]\n",
    "model.fit(x_l, y_train, epochs=3000, verbose=1, validation_split=0.15, callbacks=es)"
   ]
  },
  {
   "cell_type": "markdown",
   "metadata": {},
   "source": [
    "### 예측하기"
   ]
  },
  {
   "cell_type": "code",
   "execution_count": 42,
   "metadata": {
    "scrolled": true
   },
   "outputs": [
    {
     "data": {
      "text/plain": [
       "array([[0.01364347],\n",
       "       [0.00026673],\n",
       "       [0.00097975],\n",
       "       [0.00011054],\n",
       "       [0.00404304]], dtype=float32)"
      ]
     },
     "execution_count": 42,
     "metadata": {},
     "output_type": "execute_result"
    }
   ],
   "source": [
    "x_l = [te_x_radius, te_x_texture, te_x_perimeter, te_x_area, \n",
    "       te_x_smoothness, te_x_compactness, te_x_concavity, te_x_concave_points, \n",
    "       te_x_symmetry, te_x_fractal_dimension, x_test]\n",
    "y_pred = model.predict(x_l)\n"
   ]
  },
  {
   "cell_type": "code",
   "execution_count": 44,
   "metadata": {},
   "outputs": [
    {
     "name": "stdout",
     "output_type": "stream",
     "text": [
      "[[0.01364347]\n",
      " [0.00026673]\n",
      " [0.00097975]\n",
      " [0.00011054]\n",
      " [0.00404304]]\n",
      "--------------------\n",
      "453    0\n",
      "153    0\n",
      "385    1\n",
      "67     0\n",
      "528    0\n",
      "Name: target, dtype: int64\n"
     ]
    }
   ],
   "source": [
    "# 예측값과 실제값 앞부분만 비교\n",
    "print(y_pred[:5])\n",
    "print('-'*20)\n",
    "print(y_test[:5])"
   ]
  },
  {
   "cell_type": "code",
   "execution_count": 45,
   "metadata": {},
   "outputs": [],
   "source": [
    "# 예측값을 0, 1로 변환하기\n",
    "for idx, val in enumerate(y_pred):\n",
    "    if val  >= 0.5:\n",
    "        y_pred[idx] = 1\n",
    "    else:\n",
    "        y_pred[idx] = 0"
   ]
  },
  {
   "cell_type": "code",
   "execution_count": 48,
   "metadata": {
    "scrolled": true
   },
   "outputs": [
    {
     "data": {
      "text/plain": [
       "array([[0.],\n",
       "       [0.],\n",
       "       [0.],\n",
       "       [0.],\n",
       "       [0.]], dtype=float32)"
      ]
     },
     "execution_count": 48,
     "metadata": {},
     "output_type": "execute_result"
    }
   ],
   "source": [
    "# 확인\n",
    "y_pred[:5]"
   ]
  },
  {
   "cell_type": "code",
   "execution_count": 50,
   "metadata": {},
   "outputs": [
    {
     "name": "stdout",
     "output_type": "stream",
     "text": [
      "4/4 [==============================] - 0s 2ms/step - loss: 0.3158 - accuracy: 0.9386\n"
     ]
    },
    {
     "data": {
      "text/plain": [
       "[0.31583940982818604, 0.9385964870452881]"
      ]
     },
     "execution_count": 50,
     "metadata": {},
     "output_type": "execute_result"
    }
   ],
   "source": [
    "# 모델의 정확도\n",
    "model.evaluate(x_l, y_test)"
   ]
  },
  {
   "cell_type": "code",
   "execution_count": 52,
   "metadata": {},
   "outputs": [
    {
     "name": "stdout",
     "output_type": "stream",
     "text": [
      "              precision    recall  f1-score   support\n",
      "\n",
      "           0       0.92      0.99      0.95        68\n",
      "           1       0.98      0.87      0.92        46\n",
      "\n",
      "    accuracy                           0.94       114\n",
      "   macro avg       0.95      0.93      0.93       114\n",
      "weighted avg       0.94      0.94      0.94       114\n",
      "\n"
     ]
    }
   ],
   "source": [
    "print(classification_report(y_test, y_pred))"
   ]
  },
  {
   "cell_type": "markdown",
   "metadata": {},
   "source": [
    "---\n",
    "## Fully Connected 모델링\n",
    "- Hidden Layer 2개 층, 노드 512개씩"
   ]
  },
  {
   "cell_type": "code",
   "execution_count": 53,
   "metadata": {
    "scrolled": true
   },
   "outputs": [
    {
     "name": "stdout",
     "output_type": "stream",
     "text": [
      "Model: \"model\"\n",
      "_________________________________________________________________\n",
      " Layer (type)                Output Shape              Param #   \n",
      "=================================================================\n",
      " input_1 (InputLayer)        [(None, 30)]              0         \n",
      "                                                                 \n",
      " dense (Dense)               (None, 512)               15872     \n",
      "                                                                 \n",
      " dense_1 (Dense)             (None, 512)               262656    \n",
      "                                                                 \n",
      " dense_2 (Dense)             (None, 1)                 513       \n",
      "                                                                 \n",
      "=================================================================\n",
      "Total params: 279,041\n",
      "Trainable params: 279,041\n",
      "Non-trainable params: 0\n",
      "_________________________________________________________________\n"
     ]
    }
   ],
   "source": [
    "### Functional API\n",
    "\n",
    "# 1. 세션 클리어\n",
    "clear_session()\n",
    "\n",
    "# 2. 레이어 엮기\n",
    "\n",
    "il = Input(shape=(30,))\n",
    "hl = Dense(512, activation=relu)(il)\n",
    "hl = Dense(512, activation=relu)(hl)\n",
    "ol = Dense(1, activation=sigmoid)(hl)\n",
    "\n",
    "# 3. 모델 시작과 끝 설정\n",
    "# ils = \n",
    "model = Model(il, ol)\n",
    "\n",
    "# 4. 컴파일\n",
    "model.compile(loss=binary_crossentropy, \n",
    "              metrics='accuracy',\n",
    "              optimizer=Adam())\n",
    "\n",
    "## 모델 요약\n",
    "model.summary()"
   ]
  },
  {
   "cell_type": "code",
   "execution_count": 54,
   "metadata": {
    "scrolled": true
   },
   "outputs": [
    {
     "name": "stdout",
     "output_type": "stream",
     "text": [
      "Epoch 1/3000\n",
      "12/12 [==============================] - 0s 16ms/step - loss: 31.0063 - accuracy: 0.5357 - val_loss: 11.6091 - val_accuracy: 0.7582\n",
      "Epoch 2/3000\n",
      "12/12 [==============================] - 0s 7ms/step - loss: 10.6772 - accuracy: 0.6154 - val_loss: 3.6862 - val_accuracy: 0.8681\n",
      "Epoch 3/3000\n",
      "12/12 [==============================] - 0s 6ms/step - loss: 4.9886 - accuracy: 0.7692 - val_loss: 1.6188 - val_accuracy: 0.8791\n",
      "Epoch 4/3000\n",
      "12/12 [==============================] - 0s 7ms/step - loss: 2.1435 - accuracy: 0.8462 - val_loss: 0.3668 - val_accuracy: 0.9670\n",
      "Epoch 5/3000\n",
      "12/12 [==============================] - 0s 7ms/step - loss: 1.9430 - accuracy: 0.8462 - val_loss: 2.4108 - val_accuracy: 0.7143\n",
      "Epoch 6/3000\n",
      "12/12 [==============================] - 0s 6ms/step - loss: 1.4799 - accuracy: 0.8462 - val_loss: 0.4208 - val_accuracy: 0.9231\n",
      "Epoch 7/3000\n",
      "12/12 [==============================] - 0s 6ms/step - loss: 0.6647 - accuracy: 0.8929 - val_loss: 0.2967 - val_accuracy: 0.9451\n",
      "Epoch 8/3000\n",
      "12/12 [==============================] - 0s 7ms/step - loss: 0.8109 - accuracy: 0.8874 - val_loss: 0.7538 - val_accuracy: 0.8681\n",
      "Epoch 9/3000\n",
      "12/12 [==============================] - 0s 6ms/step - loss: 0.8631 - accuracy: 0.8791 - val_loss: 0.4863 - val_accuracy: 0.9451\n",
      "Epoch 10/3000\n",
      "12/12 [==============================] - 0s 7ms/step - loss: 1.0210 - accuracy: 0.8764 - val_loss: 0.2689 - val_accuracy: 0.9670\n",
      "Epoch 11/3000\n",
      "12/12 [==============================] - 0s 7ms/step - loss: 0.9102 - accuracy: 0.8764 - val_loss: 0.3984 - val_accuracy: 0.9451\n",
      "Epoch 12/3000\n",
      "12/12 [==============================] - 0s 6ms/step - loss: 0.5609 - accuracy: 0.9176 - val_loss: 0.4150 - val_accuracy: 0.8901\n",
      "Epoch 13/3000\n",
      "12/12 [==============================] - 0s 6ms/step - loss: 0.6539 - accuracy: 0.9093 - val_loss: 0.2642 - val_accuracy: 0.9451\n",
      "Epoch 14/3000\n",
      "12/12 [==============================] - 0s 6ms/step - loss: 0.4547 - accuracy: 0.9121 - val_loss: 0.2176 - val_accuracy: 0.9560\n",
      "Epoch 15/3000\n",
      "12/12 [==============================] - 0s 6ms/step - loss: 0.4321 - accuracy: 0.9038 - val_loss: 0.1420 - val_accuracy: 0.9670\n",
      "Epoch 16/3000\n",
      "12/12 [==============================] - 0s 6ms/step - loss: 0.3315 - accuracy: 0.9286 - val_loss: 0.8300 - val_accuracy: 0.8022\n",
      "Epoch 17/3000\n",
      "12/12 [==============================] - 0s 6ms/step - loss: 1.0281 - accuracy: 0.8407 - val_loss: 1.0859 - val_accuracy: 0.7912\n",
      "Epoch 18/3000\n",
      "12/12 [==============================] - 0s 6ms/step - loss: 1.4794 - accuracy: 0.8242 - val_loss: 0.2797 - val_accuracy: 0.9560\n",
      "Epoch 19/3000\n",
      "12/12 [==============================] - 0s 6ms/step - loss: 1.1801 - accuracy: 0.8819 - val_loss: 0.1779 - val_accuracy: 0.9670\n",
      "Epoch 20/3000\n",
      " 1/12 [=>............................] - ETA: 0s - loss: 0.3923 - accuracy: 0.9375Restoring model weights from the end of the best epoch: 15.\n",
      "12/12 [==============================] - 0s 6ms/step - loss: 0.7557 - accuracy: 0.9038 - val_loss: 2.7507 - val_accuracy: 0.6703\n",
      "Epoch 20: early stopping\n"
     ]
    },
    {
     "data": {
      "text/plain": [
       "<keras.callbacks.History at 0x1f804814250>"
      ]
     },
     "execution_count": 54,
     "metadata": {},
     "output_type": "execute_result"
    }
   ],
   "source": [
    "# 학습\n",
    "model.fit(x_train, y_train,\n",
    "          epochs=3000,\n",
    "          verbose=1, \n",
    "          validation_split=0.2,\n",
    "          callbacks=[es])"
   ]
  },
  {
   "cell_type": "code",
   "execution_count": 55,
   "metadata": {},
   "outputs": [
    {
     "data": {
      "image/png": "[encoded data removed]",
      "text/plain": [
       "<IPython.core.display.Image object>"
      ]
     },
     "execution_count": 55,
     "metadata": {},
     "output_type": "execute_result"
    }
   ],
   "source": [
    "plot_model(model, show_shapes=True)"
   ]
  },
  {
   "cell_type": "code",
   "execution_count": 56,
   "metadata": {},
   "outputs": [],
   "source": [
    "# 예측\n",
    "y_pred = model.predict(x_test)\n",
    "\n",
    "for idx, val in enumerate(y_pred):\n",
    "    if val >= 0.5:\n",
    "        y_pred[idx] = 1\n",
    "    else:\n",
    "        y_pred[idx] = 0"
   ]
  },
  {
   "cell_type": "code",
   "execution_count": 57,
   "metadata": {},
   "outputs": [
    {
     "name": "stdout",
     "output_type": "stream",
     "text": [
      "4/4 [==============================] - 0s 2ms/step - loss: 0.2984 - accuracy: 0.9386\n"
     ]
    },
    {
     "data": {
      "text/plain": [
       "[0.2984243929386139, 0.9385964870452881]"
      ]
     },
     "execution_count": 57,
     "metadata": {},
     "output_type": "execute_result"
    }
   ],
   "source": [
    "# 정확도\n",
    "model.evaluate(x_test, y_test)"
   ]
  },
  {
   "cell_type": "code",
   "execution_count": 58,
   "metadata": {},
   "outputs": [
    {
     "name": "stdout",
     "output_type": "stream",
     "text": [
      "              precision    recall  f1-score   support\n",
      "\n",
      "           0       0.92      0.99      0.95        68\n",
      "           1       0.98      0.87      0.92        46\n",
      "\n",
      "    accuracy                           0.94       114\n",
      "   macro avg       0.95      0.93      0.93       114\n",
      "weighted avg       0.94      0.94      0.94       114\n",
      "\n"
     ]
    }
   ],
   "source": [
    "print(classification_report(y_test, y_pred))"
   ]
  },
  {
   "cell_type": "markdown",
   "metadata": {},
   "source": [
    "#### Fully Connected 모델 성능\n",
    "\n",
    "- Accuracy : 0.9298\n",
    "- 1의 Recall : 0.83\n",
    "- 1의 Precision : 1.00\n",
    "- 0의 Recall : 1.00"
   ]
  },
  {
   "cell_type": "markdown",
   "metadata": {},
   "source": [
    "---\n",
    "## 평가\n",
    "\n",
    "1. 모델의 정확도를 확인하시오. --> Accuracy\n",
    "2. 악성이라 예측한 것 중 실제 악성으로 나온 비율을 구하시오. --> 1의 Recall\n",
    "3. 실제 악성 중 모델이 악성이라 예측한 것의 비율을 구하시오. --> 1의 Precision\n",
    "4. 정상이라 예측한 것 중 실제 정상으로 나온 비율을 구하시오. --> 0의 Recall"
   ]
  },
  {
   "cell_type": "markdown",
   "metadata": {},
   "source": [
    "### My model   vs   Fully Connected Model\n",
    "\n",
    "1. Accuracy : 0.9211 vs 0.9298  <br>\n",
    "    -> Fully Connected Model이 더 높음    \n",
    "<br>\n",
    "\n",
    "2. 1의 Recall : 0.83 vs 0.83  <br>\n",
    "    -> 두 모델 동일\n",
    "<br>\n",
    "    \n",
    "3. 1의 Precision : 0.97 vs 1.00  <br>\n",
    "    -> Fully Connected Model이 더 높음    \n",
    "<br>\n",
    "    \n",
    "4. 0의 Recall : 0.99 vs 1.00  <br>\n",
    "    -> Fully Connected Model이 더 높음    "
   ]
  }
 ],
 "metadata": {
  "colab": {
   "authorship_tag": "ABX9TyM8qi94ktQtXkjB4Cj5dLJI",
   "collapsed_sections": [],
   "name": "3_4_Breast_cancer.ipynb",
   "provenance": [],
   "toc_visible": true
  },
  "kernelspec": {
   "display_name": "Python 3",
   "language": "python",
   "name": "python3"
  },
  "language_info": {
   "codemirror_mode": {
    "name": "ipython",
    "version": 3
   },
   "file_extension": ".py",
   "mimetype": "text/x-python",
   "name": "python",
   "nbconvert_exporter": "python",
   "pygments_lexer": "ipython3",
   "version": "3.8.8"
  }
 },
 "nbformat": 4,
 "nbformat_minor": 1
}
