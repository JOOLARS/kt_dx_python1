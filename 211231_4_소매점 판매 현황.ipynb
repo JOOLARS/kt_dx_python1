{
 "cells": [
  {
   "cell_type": "markdown",
   "metadata": {
    "id": "BFhIXgdYoYGp"
   },
   "source": [
    "<center><img src='https://raw.githubusercontent.com/Jangrae/img/master/title.png' width=500/></center>"
   ]
  },
  {
   "cell_type": "markdown",
   "metadata": {
    "id": "d6jVPeiR2MK_"
   },
   "source": [
    "<center><img src='https://raw.githubusercontent.com/Jangrae/img/master/practice3.png' width=300/></center>"
   ]
  },
  {
   "cell_type": "markdown",
   "metadata": {
    "id": "ZogNxmpZgBMp"
   },
   "source": [
    "# 소매점 판매 현황"
   ]
  },
  {
   "cell_type": "markdown",
   "metadata": {
    "id": "0IUReT56gBMq"
   },
   "source": [
    "<img src='https://raw.githubusercontent.com/Jangrae/img/master/retail.png' width=\"650\" align=\"left\">"
   ]
  },
  {
   "cell_type": "markdown",
   "metadata": {
    "id": "qb1iLyXwGlnw"
   },
   "source": [
    "## 1.환경 설정\n",
    "\n",
    "- 데이터 탐색과 전처리를 하기 전 라이브러리와 파일을 읽어옵니다.\n",
    "- 시각화에 한글이 포함된 경우 이에 대한 설정을 진행합니다."
   ]
  },
  {
   "cell_type": "markdown",
   "metadata": {
    "id": "4Xz2TqMRgBMr"
   },
   "source": [
    "**1) 한글 설정**\n",
    "\n",
    "- Jupyter Notebook 시각화에 한글이 표시되게 설정합니다."
   ]
  },
  {
   "cell_type": "code",
   "execution_count": 285,
   "metadata": {
    "id": "CjQJWPwmgBMr"
   },
   "outputs": [],
   "source": [
    "# 라이브러리 불러오기\n",
    "import matplotlib \n",
    "import matplotlib.pyplot as plt\n",
    "\n",
    "# 폰트설정\n",
    "matplotlib.font_manager._rebuild()\n",
    "plt.rc('font', family='Malgun Gothic')\n",
    "plt.rcParams['axes.unicode_minus'] = False"
   ]
  },
  {
   "cell_type": "markdown",
   "metadata": {
    "id": "0uNXxebRGrd8"
   },
   "source": [
    "**2) 라이브러리 불러오기**\n",
    "\n",
    "- 사용할 라이브러리를 불러옵니다."
   ]
  },
  {
   "cell_type": "code",
   "execution_count": 286,
   "metadata": {
    "id": "zFm_DPTaUdqQ"
   },
   "outputs": [],
   "source": [
    "# 라이브러리 불러오기\n",
    "import numpy as np\n",
    "import pandas as pd\n",
    "import matplotlib.pyplot as plt\n",
    "\n",
    "%config InlineBackend.figure_format = 'retina'"
   ]
  },
  {
   "cell_type": "markdown",
   "metadata": {
    "id": "PcLUjkq0wxpF"
   },
   "source": [
    "**3) 데이터 읽어오기**\n",
    "\n",
    "- 다음 경로의 파일을 읽어와 customers, products, orders 데이터프레임을 만듭니다.\n",
    "- 파일 경로1: 'https://raw.githubusercontent.com/Jangrae/csv/master/customers.csv'    \n",
    "- 파일 경로2: 'https://raw.githubusercontent.com/Jangrae/csv/master/products.csv'\n",
    "- 파일 경로3: 'https://raw.githubusercontent.com/Jangrae/csv/master/orders.csv'\n",
    "- 단축 경로1: 'https://bit.ly/CustomersFile'    \n",
    "- 단축 경로2: 'https://bit.ly/ProductsFile'  \n",
    "- 단축 경로3: 'https://bit.ly/OrdersFile'  "
   ]
  },
  {
   "cell_type": "code",
   "execution_count": 287,
   "metadata": {
    "id": "91c9vKQ0E1A4"
   },
   "outputs": [],
   "source": [
    "path1 = 'https://bit.ly/CustomersFile'\n",
    "customers = pd.read_csv(path1)"
   ]
  },
  {
   "cell_type": "code",
   "execution_count": 288,
   "metadata": {
    "id": "QSedynVWEp3W"
   },
   "outputs": [],
   "source": [
    "path2 = 'https://bit.ly/ProductsFile'\n",
    "products = pd.read_csv(path2)"
   ]
  },
  {
   "cell_type": "code",
   "execution_count": 289,
   "metadata": {
    "id": "OPfgGedaEqnw"
   },
   "outputs": [],
   "source": [
    "path3 = 'https://bit.ly/OrdersFile'\n",
    "orders = pd.read_csv(path3)"
   ]
  },
  {
   "cell_type": "markdown",
   "metadata": {
    "id": "H4KWZGI8HBIA"
   },
   "source": [
    "## 2.데이터 탐색\n",
    "\n",
    "다음과 같은 정보 확인을 통해 처리할 대상 데이터를 이해합니다.\n",
    "- 상/하위 데이터 확인\n",
    "- 데이터프레임 크기 확인\n",
    "- 열 이름, 데이터 형식, 값 개수 등 확인\n",
    "- 기초 통계정보 확인\n",
    "- 결측치 확인\n",
    "- 범주형 데이터 확인\n",
    "- 개별 열 값 상세 확인 등"
   ]
  },
  {
   "cell_type": "markdown",
   "metadata": {
    "id": "X7I-KgAjJ60t"
   },
   "source": [
    "**1) 고객 정보(customers) 4가지 이상 탐색**\n",
    "\n",
    "- customers 데이터프레임을 충분히 탐색합니다.\n",
    "- 간단한 집계를 수행해 보는 것도 좋은 방법입니다."
   ]
  },
  {
   "cell_type": "markdown",
   "metadata": {},
   "source": [
    "**1-1) 상위 데이터 확인**"
   ]
  },
  {
   "cell_type": "code",
   "execution_count": 290,
   "metadata": {
    "id": "SBDudJlmHDOi",
    "scrolled": false
   },
   "outputs": [
    {
     "data": {
      "text/html": [
       "<div>\n",
       "<style scoped>\n",
       "    .dataframe tbody tr th:only-of-type {\n",
       "        vertical-align: middle;\n",
       "    }\n",
       "\n",
       "    .dataframe tbody tr th {\n",
       "        vertical-align: top;\n",
       "    }\n",
       "\n",
       "    .dataframe thead th {\n",
       "        text-align: right;\n",
       "    }\n",
       "</style>\n",
       "<table border=\"1\" class=\"dataframe\">\n",
       "  <thead>\n",
       "    <tr style=\"text-align: right;\">\n",
       "      <th></th>\n",
       "      <th>CustomerID</th>\n",
       "      <th>RegisterDate</th>\n",
       "      <th>Address</th>\n",
       "      <th>Gender</th>\n",
       "      <th>BirthYear</th>\n",
       "      <th>Addr1</th>\n",
       "      <th>Addr2</th>\n",
       "    </tr>\n",
       "  </thead>\n",
       "  <tbody>\n",
       "    <tr>\n",
       "      <th>0</th>\n",
       "      <td>c017487</td>\n",
       "      <td>2002-07-31</td>\n",
       "      <td>경기 성남시 중원구 둔촌대로190번길</td>\n",
       "      <td>F</td>\n",
       "      <td>1968</td>\n",
       "      <td>경기도</td>\n",
       "      <td>성남시</td>\n",
       "    </tr>\n",
       "    <tr>\n",
       "      <th>1</th>\n",
       "      <td>c017503</td>\n",
       "      <td>2002-07-31</td>\n",
       "      <td>서울 마포구 새터산12길</td>\n",
       "      <td>F</td>\n",
       "      <td>1971</td>\n",
       "      <td>서울특별시</td>\n",
       "      <td>마포구</td>\n",
       "    </tr>\n",
       "    <tr>\n",
       "      <th>2</th>\n",
       "      <td>c017517</td>\n",
       "      <td>2002-07-31</td>\n",
       "      <td>경기도 남양주시 와부읍 덕소로</td>\n",
       "      <td>M</td>\n",
       "      <td>1967</td>\n",
       "      <td>경기도</td>\n",
       "      <td>남양주시</td>\n",
       "    </tr>\n",
       "    <tr>\n",
       "      <th>3</th>\n",
       "      <td>c017522</td>\n",
       "      <td>2002-07-31</td>\n",
       "      <td>강원도 원주시 단구로</td>\n",
       "      <td>F</td>\n",
       "      <td>1965</td>\n",
       "      <td>강원도</td>\n",
       "      <td>원주시</td>\n",
       "    </tr>\n",
       "    <tr>\n",
       "      <th>4</th>\n",
       "      <td>c017526</td>\n",
       "      <td>2002-07-31</td>\n",
       "      <td>경기도 부천시 오정구 소사로730번길</td>\n",
       "      <td>F</td>\n",
       "      <td>1960</td>\n",
       "      <td>경기도</td>\n",
       "      <td>부천시</td>\n",
       "    </tr>\n",
       "  </tbody>\n",
       "</table>\n",
       "</div>"
      ],
      "text/plain": [
       "  CustomerID RegisterDate               Address Gender  BirthYear  Addr1 Addr2\n",
       "0    c017487   2002-07-31  경기 성남시 중원구 둔촌대로190번길      F       1968    경기도   성남시\n",
       "1    c017503   2002-07-31         서울 마포구 새터산12길      F       1971  서울특별시   마포구\n",
       "2    c017517   2002-07-31      경기도 남양주시 와부읍 덕소로      M       1967    경기도  남양주시\n",
       "3    c017522   2002-07-31           강원도 원주시 단구로      F       1965    강원도   원주시\n",
       "4    c017526   2002-07-31  경기도 부천시 오정구 소사로730번길      F       1960    경기도   부천시"
      ]
     },
     "execution_count": 290,
     "metadata": {},
     "output_type": "execute_result"
    }
   ],
   "source": [
    "customers.head()"
   ]
  },
  {
   "cell_type": "markdown",
   "metadata": {},
   "source": [
    "**1-2) 하위 데이터 확인**"
   ]
  },
  {
   "cell_type": "code",
   "execution_count": 291,
   "metadata": {
    "scrolled": true
   },
   "outputs": [
    {
     "data": {
      "text/html": [
       "<div>\n",
       "<style scoped>\n",
       "    .dataframe tbody tr th:only-of-type {\n",
       "        vertical-align: middle;\n",
       "    }\n",
       "\n",
       "    .dataframe tbody tr th {\n",
       "        vertical-align: top;\n",
       "    }\n",
       "\n",
       "    .dataframe thead th {\n",
       "        text-align: right;\n",
       "    }\n",
       "</style>\n",
       "<table border=\"1\" class=\"dataframe\">\n",
       "  <thead>\n",
       "    <tr style=\"text-align: right;\">\n",
       "      <th></th>\n",
       "      <th>CustomerID</th>\n",
       "      <th>RegisterDate</th>\n",
       "      <th>Address</th>\n",
       "      <th>Gender</th>\n",
       "      <th>BirthYear</th>\n",
       "      <th>Addr1</th>\n",
       "      <th>Addr2</th>\n",
       "    </tr>\n",
       "  </thead>\n",
       "  <tbody>\n",
       "    <tr>\n",
       "      <th>2238</th>\n",
       "      <td>c400937</td>\n",
       "      <td>2017-03-12</td>\n",
       "      <td>인천광역시 계양구 주부토로</td>\n",
       "      <td>F</td>\n",
       "      <td>1980</td>\n",
       "      <td>인천광역시</td>\n",
       "      <td>계양구</td>\n",
       "    </tr>\n",
       "    <tr>\n",
       "      <th>2239</th>\n",
       "      <td>c401555</td>\n",
       "      <td>2017-03-20</td>\n",
       "      <td>경기도 남양주시 별내면 청학로68번길</td>\n",
       "      <td>F</td>\n",
       "      <td>1981</td>\n",
       "      <td>경기도</td>\n",
       "      <td>남양주시</td>\n",
       "    </tr>\n",
       "    <tr>\n",
       "      <th>2240</th>\n",
       "      <td>c401584</td>\n",
       "      <td>2017-03-20</td>\n",
       "      <td>경기도 성남시 분당구 불정로</td>\n",
       "      <td>F</td>\n",
       "      <td>1979</td>\n",
       "      <td>경기도</td>\n",
       "      <td>성남시</td>\n",
       "    </tr>\n",
       "    <tr>\n",
       "      <th>2241</th>\n",
       "      <td>c402010</td>\n",
       "      <td>2017-03-25</td>\n",
       "      <td>경기도 성남시 분당구 판교원로82번길</td>\n",
       "      <td>F</td>\n",
       "      <td>1969</td>\n",
       "      <td>경기도</td>\n",
       "      <td>성남시</td>\n",
       "    </tr>\n",
       "    <tr>\n",
       "      <th>2242</th>\n",
       "      <td>c402634</td>\n",
       "      <td>2017-03-30</td>\n",
       "      <td>경기도 용인시 수지구 죽전로</td>\n",
       "      <td>F</td>\n",
       "      <td>1960</td>\n",
       "      <td>경기도</td>\n",
       "      <td>용인시</td>\n",
       "    </tr>\n",
       "  </tbody>\n",
       "</table>\n",
       "</div>"
      ],
      "text/plain": [
       "     CustomerID RegisterDate               Address Gender  BirthYear  Addr1  \\\n",
       "2238    c400937   2017-03-12        인천광역시 계양구 주부토로      F       1980  인천광역시   \n",
       "2239    c401555   2017-03-20  경기도 남양주시 별내면 청학로68번길      F       1981    경기도   \n",
       "2240    c401584   2017-03-20       경기도 성남시 분당구 불정로      F       1979    경기도   \n",
       "2241    c402010   2017-03-25  경기도 성남시 분당구 판교원로82번길      F       1969    경기도   \n",
       "2242    c402634   2017-03-30       경기도 용인시 수지구 죽전로      F       1960    경기도   \n",
       "\n",
       "     Addr2  \n",
       "2238   계양구  \n",
       "2239  남양주시  \n",
       "2240   성남시  \n",
       "2241   성남시  \n",
       "2242   용인시  "
      ]
     },
     "execution_count": 291,
     "metadata": {},
     "output_type": "execute_result"
    }
   ],
   "source": [
    "customers.tail()"
   ]
  },
  {
   "cell_type": "markdown",
   "metadata": {},
   "source": [
    "**1-3) 데이터프레임 크기 확인**"
   ]
  },
  {
   "cell_type": "code",
   "execution_count": 292,
   "metadata": {
    "id": "x9_8MKEwtWFZ",
    "scrolled": true
   },
   "outputs": [
    {
     "data": {
      "text/plain": [
       "(2243, 7)"
      ]
     },
     "execution_count": 292,
     "metadata": {},
     "output_type": "execute_result"
    }
   ],
   "source": [
    "# 2243개의 행과 7개의 열로 구성되어 있다.\n",
    "customers.shape"
   ]
  },
  {
   "cell_type": "markdown",
   "metadata": {},
   "source": [
    "**1-4) 열 이름, 데이터 형식, 값 개수 등 확인**"
   ]
  },
  {
   "cell_type": "code",
   "execution_count": 293,
   "metadata": {
    "id": "3BTuZtbRs4HO",
    "scrolled": true
   },
   "outputs": [
    {
     "name": "stdout",
     "output_type": "stream",
     "text": [
      "<class 'pandas.core.frame.DataFrame'>\n",
      "RangeIndex: 2243 entries, 0 to 2242\n",
      "Data columns (total 7 columns):\n",
      " #   Column        Non-Null Count  Dtype \n",
      "---  ------        --------------  ----- \n",
      " 0   CustomerID    2243 non-null   object\n",
      " 1   RegisterDate  2243 non-null   object\n",
      " 2   Address       2243 non-null   object\n",
      " 3   Gender        2243 non-null   object\n",
      " 4   BirthYear     2243 non-null   int64 \n",
      " 5   Addr1         2243 non-null   object\n",
      " 6   Addr2         2243 non-null   object\n",
      "dtypes: int64(1), object(6)\n",
      "memory usage: 122.8+ KB\n"
     ]
    }
   ],
   "source": [
    "customers.info()"
   ]
  },
  {
   "cell_type": "markdown",
   "metadata": {},
   "source": [
    "**1-5) 기초 통계정보 확인**"
   ]
  },
  {
   "cell_type": "code",
   "execution_count": 294,
   "metadata": {
    "id": "vAZLgCLXKCMB",
    "scrolled": true
   },
   "outputs": [
    {
     "data": {
      "text/html": [
       "<div>\n",
       "<style scoped>\n",
       "    .dataframe tbody tr th:only-of-type {\n",
       "        vertical-align: middle;\n",
       "    }\n",
       "\n",
       "    .dataframe tbody tr th {\n",
       "        vertical-align: top;\n",
       "    }\n",
       "\n",
       "    .dataframe thead th {\n",
       "        text-align: right;\n",
       "    }\n",
       "</style>\n",
       "<table border=\"1\" class=\"dataframe\">\n",
       "  <thead>\n",
       "    <tr style=\"text-align: right;\">\n",
       "      <th></th>\n",
       "      <th>BirthYear</th>\n",
       "    </tr>\n",
       "  </thead>\n",
       "  <tbody>\n",
       "    <tr>\n",
       "      <th>count</th>\n",
       "      <td>2243.000000</td>\n",
       "    </tr>\n",
       "    <tr>\n",
       "      <th>mean</th>\n",
       "      <td>1971.107445</td>\n",
       "    </tr>\n",
       "    <tr>\n",
       "      <th>std</th>\n",
       "      <td>9.658465</td>\n",
       "    </tr>\n",
       "    <tr>\n",
       "      <th>min</th>\n",
       "      <td>1932.000000</td>\n",
       "    </tr>\n",
       "    <tr>\n",
       "      <th>25%</th>\n",
       "      <td>1966.000000</td>\n",
       "    </tr>\n",
       "    <tr>\n",
       "      <th>50%</th>\n",
       "      <td>1972.000000</td>\n",
       "    </tr>\n",
       "    <tr>\n",
       "      <th>75%</th>\n",
       "      <td>1978.000000</td>\n",
       "    </tr>\n",
       "    <tr>\n",
       "      <th>max</th>\n",
       "      <td>1999.000000</td>\n",
       "    </tr>\n",
       "  </tbody>\n",
       "</table>\n",
       "</div>"
      ],
      "text/plain": [
       "         BirthYear\n",
       "count  2243.000000\n",
       "mean   1971.107445\n",
       "std       9.658465\n",
       "min    1932.000000\n",
       "25%    1966.000000\n",
       "50%    1972.000000\n",
       "75%    1978.000000\n",
       "max    1999.000000"
      ]
     },
     "execution_count": 294,
     "metadata": {},
     "output_type": "execute_result"
    }
   ],
   "source": [
    "# customers자료에서 정수형 자료가 1개만 있기 때문에 통계 정보가 1개만 나왔다.\n",
    "customers.describe()"
   ]
  },
  {
   "cell_type": "markdown",
   "metadata": {},
   "source": [
    "**1-6) 결측치 확인**"
   ]
  },
  {
   "cell_type": "code",
   "execution_count": 295,
   "metadata": {
    "id": "SYVsLxh6KguC",
    "scrolled": true
   },
   "outputs": [
    {
     "data": {
      "text/plain": [
       "CustomerID      0\n",
       "RegisterDate    0\n",
       "Address         0\n",
       "Gender          0\n",
       "BirthYear       0\n",
       "Addr1           0\n",
       "Addr2           0\n",
       "dtype: int64"
      ]
     },
     "execution_count": 295,
     "metadata": {},
     "output_type": "execute_result"
    }
   ],
   "source": [
    "customers.isnull().sum()"
   ]
  },
  {
   "cell_type": "markdown",
   "metadata": {},
   "source": [
    "**1-7) 범주형 데이터 확인**"
   ]
  },
  {
   "cell_type": "code",
   "execution_count": 296,
   "metadata": {
    "id": "RlaiQ6xOGNvx"
   },
   "outputs": [
    {
     "data": {
      "text/plain": [
       "c103522    1\n",
       "c305921    1\n",
       "c230379    1\n",
       "c330406    1\n",
       "c121138    1\n",
       "          ..\n",
       "c342823    1\n",
       "c378333    1\n",
       "c153528    1\n",
       "c371569    1\n",
       "c343447    1\n",
       "Name: CustomerID, Length: 2243, dtype: int64"
      ]
     },
     "execution_count": 296,
     "metadata": {},
     "output_type": "execute_result"
    }
   ],
   "source": [
    "# CustomerID \n",
    "customers['CustomerID'].value_counts()"
   ]
  },
  {
   "cell_type": "code",
   "execution_count": 297,
   "metadata": {
    "id": "z8eUFVYTGNvy"
   },
   "outputs": [
    {
     "data": {
      "text/plain": [
       "2002-07-31    40\n",
       "2015-12-26     6\n",
       "2010-01-11     5\n",
       "2016-01-11     5\n",
       "2009-09-02     5\n",
       "              ..\n",
       "2013-01-18     1\n",
       "2013-01-30     1\n",
       "2016-01-07     1\n",
       "2008-08-15     1\n",
       "2006-10-12     1\n",
       "Name: RegisterDate, Length: 1642, dtype: int64"
      ]
     },
     "execution_count": 297,
     "metadata": {},
     "output_type": "execute_result"
    }
   ],
   "source": [
    "# RegisterDate\n",
    "customers['RegisterDate'].value_counts()"
   ]
  },
  {
   "cell_type": "code",
   "execution_count": 298,
   "metadata": {
    "id": "PUYIHVzYGNvy",
    "scrolled": true
   },
   "outputs": [
    {
     "data": {
      "text/plain": [
       "경기도 용인시 기흥구 보정로      28\n",
       "경기도 고양시 덕양구 화중로      28\n",
       "인천광역시 연수구 원인재로       22\n",
       "경기도 의왕시 갈미로          18\n",
       "경기도 성남시 분당구 중앙공원로    17\n",
       "                     ..\n",
       "강원도 원주시 봉화로           1\n",
       "인천광역시 부평구 항동로75번길     1\n",
       "경기도 시흥시 매화우회로         1\n",
       "대구광역시 북구  구암서로        1\n",
       "경기 안양시 만안구 장내로        1\n",
       "Name: Address, Length: 1349, dtype: int64"
      ]
     },
     "execution_count": 298,
     "metadata": {},
     "output_type": "execute_result"
    }
   ],
   "source": [
    "# Address\n",
    "customers['Address'].value_counts()"
   ]
  },
  {
   "cell_type": "code",
   "execution_count": 299,
   "metadata": {},
   "outputs": [
    {
     "data": {
      "text/plain": [
       "F    2060\n",
       "M     183\n",
       "Name: Gender, dtype: int64"
      ]
     },
     "execution_count": 299,
     "metadata": {},
     "output_type": "execute_result"
    }
   ],
   "source": [
    "# Gender\n",
    "customers['Gender'].value_counts()"
   ]
  },
  {
   "cell_type": "code",
   "execution_count": 300,
   "metadata": {},
   "outputs": [
    {
     "data": {
      "text/plain": [
       "경기도      1260\n",
       "서울특별시     564\n",
       "인천광역시     325\n",
       "강원도        62\n",
       "대구광역시       8\n",
       "충청북도        8\n",
       "충청남도        6\n",
       "전라남도        3\n",
       "광주광역시       3\n",
       "경상북도        2\n",
       "전라북도        1\n",
       "경상남도        1\n",
       "Name: Addr1, dtype: int64"
      ]
     },
     "execution_count": 300,
     "metadata": {},
     "output_type": "execute_result"
    }
   ],
   "source": [
    "# Addr1\n",
    "customers['Addr1'].value_counts()"
   ]
  },
  {
   "cell_type": "code",
   "execution_count": 301,
   "metadata": {},
   "outputs": [
    {
     "data": {
      "text/plain": [
       "안성시     210\n",
       "부천시     147\n",
       "용인시     142\n",
       "고양시     117\n",
       "성남시     109\n",
       "       ... \n",
       "의정부시      1\n",
       "문경시       1\n",
       "창녕군       1\n",
       "경주시       1\n",
       "광진구       1\n",
       "Name: Addr2, Length: 78, dtype: int64"
      ]
     },
     "execution_count": 301,
     "metadata": {},
     "output_type": "execute_result"
    }
   ],
   "source": [
    "# Addr2\n",
    "customers['Addr2'].value_counts()"
   ]
  },
  {
   "cell_type": "markdown",
   "metadata": {
    "id": "ktmISAkXgBM0"
   },
   "source": [
    "**2) 상품 정보(products) 4가지 이상 탐색**\n",
    "\n",
    "- products 데이터프레임을 충분히 탐색합니다.\n",
    "- 간단한 집계를 수행해 보는 것도 좋은 방법입니다."
   ]
  },
  {
   "cell_type": "markdown",
   "metadata": {
    "id": "C_IRCYhStTmn"
   },
   "source": [
    "**2-1) 상위 데이터 확인**"
   ]
  },
  {
   "cell_type": "code",
   "execution_count": 302,
   "metadata": {
    "id": "2UORrtJftFR2"
   },
   "outputs": [
    {
     "data": {
      "text/html": [
       "<div>\n",
       "<style scoped>\n",
       "    .dataframe tbody tr th:only-of-type {\n",
       "        vertical-align: middle;\n",
       "    }\n",
       "\n",
       "    .dataframe tbody tr th {\n",
       "        vertical-align: top;\n",
       "    }\n",
       "\n",
       "    .dataframe thead th {\n",
       "        text-align: right;\n",
       "    }\n",
       "</style>\n",
       "<table border=\"1\" class=\"dataframe\">\n",
       "  <thead>\n",
       "    <tr style=\"text-align: right;\">\n",
       "      <th></th>\n",
       "      <th>ProductID</th>\n",
       "      <th>ProductName</th>\n",
       "      <th>Category</th>\n",
       "      <th>SubCategory</th>\n",
       "      <th>CategoryOrd</th>\n",
       "    </tr>\n",
       "  </thead>\n",
       "  <tbody>\n",
       "    <tr>\n",
       "      <th>0</th>\n",
       "      <td>p1001771</td>\n",
       "      <td>마늘</td>\n",
       "      <td>채소</td>\n",
       "      <td>뿌리채소</td>\n",
       "      <td>5</td>\n",
       "    </tr>\n",
       "    <tr>\n",
       "      <th>1</th>\n",
       "      <td>p1002841</td>\n",
       "      <td>딸기_대</td>\n",
       "      <td>과일</td>\n",
       "      <td>과채</td>\n",
       "      <td>2</td>\n",
       "    </tr>\n",
       "    <tr>\n",
       "      <th>2</th>\n",
       "      <td>p1005621</td>\n",
       "      <td>숙주나물</td>\n",
       "      <td>반찬류</td>\n",
       "      <td>나물류</td>\n",
       "      <td>1</td>\n",
       "    </tr>\n",
       "    <tr>\n",
       "      <th>3</th>\n",
       "      <td>p1005771</td>\n",
       "      <td>두부_소</td>\n",
       "      <td>반찬류</td>\n",
       "      <td>두부</td>\n",
       "      <td>1</td>\n",
       "    </tr>\n",
       "    <tr>\n",
       "      <th>4</th>\n",
       "      <td>p1005891</td>\n",
       "      <td>두부_대</td>\n",
       "      <td>반찬류</td>\n",
       "      <td>두부</td>\n",
       "      <td>1</td>\n",
       "    </tr>\n",
       "  </tbody>\n",
       "</table>\n",
       "</div>"
      ],
      "text/plain": [
       "  ProductID ProductName Category SubCategory  CategoryOrd\n",
       "0  p1001771          마늘       채소        뿌리채소            5\n",
       "1  p1002841        딸기_대       과일          과채            2\n",
       "2  p1005621        숙주나물      반찬류         나물류            1\n",
       "3  p1005771        두부_소      반찬류          두부            1\n",
       "4  p1005891        두부_대      반찬류          두부            1"
      ]
     },
     "execution_count": 302,
     "metadata": {},
     "output_type": "execute_result"
    }
   ],
   "source": [
    "products.head()"
   ]
  },
  {
   "cell_type": "markdown",
   "metadata": {
    "id": "tNMknvcbgBM0"
   },
   "source": [
    "**2-2) 하위 데이터 확인**"
   ]
  },
  {
   "cell_type": "code",
   "execution_count": 303,
   "metadata": {
    "id": "NhIVId_ngBM0"
   },
   "outputs": [
    {
     "data": {
      "text/html": [
       "<div>\n",
       "<style scoped>\n",
       "    .dataframe tbody tr th:only-of-type {\n",
       "        vertical-align: middle;\n",
       "    }\n",
       "\n",
       "    .dataframe tbody tr th {\n",
       "        vertical-align: top;\n",
       "    }\n",
       "\n",
       "    .dataframe thead th {\n",
       "        text-align: right;\n",
       "    }\n",
       "</style>\n",
       "<table border=\"1\" class=\"dataframe\">\n",
       "  <thead>\n",
       "    <tr style=\"text-align: right;\">\n",
       "      <th></th>\n",
       "      <th>ProductID</th>\n",
       "      <th>ProductName</th>\n",
       "      <th>Category</th>\n",
       "      <th>SubCategory</th>\n",
       "      <th>CategoryOrd</th>\n",
       "    </tr>\n",
       "  </thead>\n",
       "  <tbody>\n",
       "    <tr>\n",
       "      <th>57</th>\n",
       "      <td>p1246581</td>\n",
       "      <td>초코우유</td>\n",
       "      <td>유제품</td>\n",
       "      <td>우유</td>\n",
       "      <td>4</td>\n",
       "    </tr>\n",
       "    <tr>\n",
       "      <th>58</th>\n",
       "      <td>p1255281</td>\n",
       "      <td>딸기요거트</td>\n",
       "      <td>유제품</td>\n",
       "      <td>요거트</td>\n",
       "      <td>4</td>\n",
       "    </tr>\n",
       "    <tr>\n",
       "      <th>59</th>\n",
       "      <td>p1256521</td>\n",
       "      <td>부침용두부</td>\n",
       "      <td>반찬류</td>\n",
       "      <td>두부</td>\n",
       "      <td>1</td>\n",
       "    </tr>\n",
       "    <tr>\n",
       "      <th>60</th>\n",
       "      <td>p1284851</td>\n",
       "      <td>유기농우유</td>\n",
       "      <td>유제품</td>\n",
       "      <td>우유</td>\n",
       "      <td>4</td>\n",
       "    </tr>\n",
       "    <tr>\n",
       "      <th>61</th>\n",
       "      <td>p1299491</td>\n",
       "      <td>당근</td>\n",
       "      <td>채소</td>\n",
       "      <td>뿌리채소</td>\n",
       "      <td>5</td>\n",
       "    </tr>\n",
       "  </tbody>\n",
       "</table>\n",
       "</div>"
      ],
      "text/plain": [
       "   ProductID ProductName Category SubCategory  CategoryOrd\n",
       "57  p1246581        초코우유      유제품          우유            4\n",
       "58  p1255281       딸기요거트      유제품         요거트            4\n",
       "59  p1256521       부침용두부      반찬류          두부            1\n",
       "60  p1284851       유기농우유      유제품          우유            4\n",
       "61  p1299491          당근       채소        뿌리채소            5"
      ]
     },
     "execution_count": 303,
     "metadata": {},
     "output_type": "execute_result"
    }
   ],
   "source": [
    "products.tail()"
   ]
  },
  {
   "cell_type": "markdown",
   "metadata": {
    "id": "50EpPpSJGNVV"
   },
   "source": [
    "**2-3) 데이터프레임 크기 확인**"
   ]
  },
  {
   "cell_type": "code",
   "execution_count": 304,
   "metadata": {
    "id": "WxG2uaoRGNVW"
   },
   "outputs": [
    {
     "data": {
      "text/plain": [
       "(62, 5)"
      ]
     },
     "execution_count": 304,
     "metadata": {},
     "output_type": "execute_result"
    }
   ],
   "source": [
    "# 62개의 행과 5개의 열로 이루어져 있는 데이터프레임이다.\n",
    "products.shape"
   ]
  },
  {
   "cell_type": "markdown",
   "metadata": {
    "id": "HFmk-QPmGNVW"
   },
   "source": [
    "**2-4) 열 이름, 데이터 형식, 값 개수 등 확인**"
   ]
  },
  {
   "cell_type": "code",
   "execution_count": 305,
   "metadata": {},
   "outputs": [
    {
     "name": "stdout",
     "output_type": "stream",
     "text": [
      "<class 'pandas.core.frame.DataFrame'>\n",
      "RangeIndex: 62 entries, 0 to 61\n",
      "Data columns (total 5 columns):\n",
      " #   Column       Non-Null Count  Dtype \n",
      "---  ------       --------------  ----- \n",
      " 0   ProductID    62 non-null     object\n",
      " 1   ProductName  62 non-null     object\n",
      " 2   Category     62 non-null     object\n",
      " 3   SubCategory  62 non-null     object\n",
      " 4   CategoryOrd  62 non-null     int64 \n",
      "dtypes: int64(1), object(4)\n",
      "memory usage: 2.5+ KB\n"
     ]
    }
   ],
   "source": [
    "products.info()"
   ]
  },
  {
   "cell_type": "markdown",
   "metadata": {},
   "source": [
    "**2-5) 기초 통계정보 확인**"
   ]
  },
  {
   "cell_type": "code",
   "execution_count": 306,
   "metadata": {},
   "outputs": [
    {
     "data": {
      "text/html": [
       "<div>\n",
       "<style scoped>\n",
       "    .dataframe tbody tr th:only-of-type {\n",
       "        vertical-align: middle;\n",
       "    }\n",
       "\n",
       "    .dataframe tbody tr th {\n",
       "        vertical-align: top;\n",
       "    }\n",
       "\n",
       "    .dataframe thead th {\n",
       "        text-align: right;\n",
       "    }\n",
       "</style>\n",
       "<table border=\"1\" class=\"dataframe\">\n",
       "  <thead>\n",
       "    <tr style=\"text-align: right;\">\n",
       "      <th></th>\n",
       "      <th>CategoryOrd</th>\n",
       "    </tr>\n",
       "  </thead>\n",
       "  <tbody>\n",
       "    <tr>\n",
       "      <th>count</th>\n",
       "      <td>62.000000</td>\n",
       "    </tr>\n",
       "    <tr>\n",
       "      <th>mean</th>\n",
       "      <td>3.612903</td>\n",
       "    </tr>\n",
       "    <tr>\n",
       "      <th>std</th>\n",
       "      <td>1.406715</td>\n",
       "    </tr>\n",
       "    <tr>\n",
       "      <th>min</th>\n",
       "      <td>1.000000</td>\n",
       "    </tr>\n",
       "    <tr>\n",
       "      <th>25%</th>\n",
       "      <td>3.000000</td>\n",
       "    </tr>\n",
       "    <tr>\n",
       "      <th>50%</th>\n",
       "      <td>4.000000</td>\n",
       "    </tr>\n",
       "    <tr>\n",
       "      <th>75%</th>\n",
       "      <td>5.000000</td>\n",
       "    </tr>\n",
       "    <tr>\n",
       "      <th>max</th>\n",
       "      <td>5.000000</td>\n",
       "    </tr>\n",
       "  </tbody>\n",
       "</table>\n",
       "</div>"
      ],
      "text/plain": [
       "       CategoryOrd\n",
       "count    62.000000\n",
       "mean      3.612903\n",
       "std       1.406715\n",
       "min       1.000000\n",
       "25%       3.000000\n",
       "50%       4.000000\n",
       "75%       5.000000\n",
       "max       5.000000"
      ]
     },
     "execution_count": 306,
     "metadata": {},
     "output_type": "execute_result"
    }
   ],
   "source": [
    "# customers 데이터 프레임과 마찬가지로, \n",
    "# 정수형 데이터 형식이 CategoryOrd만 있기 때문에 통계정보도 1개의 열만 조회 가능하다.\n",
    "products.describe()"
   ]
  },
  {
   "cell_type": "markdown",
   "metadata": {},
   "source": [
    "**2-6) 결측치 확인**"
   ]
  },
  {
   "cell_type": "code",
   "execution_count": 307,
   "metadata": {},
   "outputs": [
    {
     "data": {
      "text/plain": [
       "ProductID      0\n",
       "ProductName    0\n",
       "Category       0\n",
       "SubCategory    0\n",
       "CategoryOrd    0\n",
       "dtype: int64"
      ]
     },
     "execution_count": 307,
     "metadata": {},
     "output_type": "execute_result"
    }
   ],
   "source": [
    "# 결측치가 없음을 확인할 수 있다.\n",
    "products.isnull().sum()"
   ]
  },
  {
   "cell_type": "markdown",
   "metadata": {},
   "source": [
    "**2-7) 범주형 데이터 확인**"
   ]
  },
  {
   "cell_type": "code",
   "execution_count": 308,
   "metadata": {},
   "outputs": [
    {
     "data": {
      "text/plain": [
       "p1013251    1\n",
       "p1149381    1\n",
       "p1133371    1\n",
       "p1144661    1\n",
       "p1072601    1\n",
       "           ..\n",
       "p1149411    1\n",
       "p1012761    1\n",
       "p1012581    1\n",
       "p1052661    1\n",
       "p1097821    1\n",
       "Name: ProductID, Length: 62, dtype: int64"
      ]
     },
     "execution_count": 308,
     "metadata": {},
     "output_type": "execute_result"
    }
   ],
   "source": [
    "# ProductID\n",
    "products['ProductID'].value_counts()"
   ]
  },
  {
   "cell_type": "code",
   "execution_count": 309,
   "metadata": {
    "scrolled": true
   },
   "outputs": [
    {
     "data": {
      "text/plain": [
       "당근         3\n",
       "감자칩        2\n",
       "청오이        1\n",
       "애호박        1\n",
       "브로컬리       1\n",
       "딸기아이스크림    1\n",
       "유기농우유      1\n",
       "저지방우유      1\n",
       "통단팥빵       1\n",
       "두부_소       1\n",
       "팽이버섯       1\n",
       "사과_소       1\n",
       "콘칩         1\n",
       "딸기요거트      1\n",
       "백오이        1\n",
       "초코아이스크림    1\n",
       "뿌셔뿌셔       1\n",
       "우유200      1\n",
       "딸기_소       1\n",
       "사과아이스크림    1\n",
       "양파         1\n",
       "시금치        1\n",
       "초코우유       1\n",
       "열무         1\n",
       "딸기_대       1\n",
       "부침용두부      1\n",
       "짱구         1\n",
       "두부_대       1\n",
       "상추         1\n",
       "부추         1\n",
       "느타리버섯      1\n",
       "고구마스틱      1\n",
       "무농약시금치     1\n",
       "소보루빵       1\n",
       "콩나물        1\n",
       "피망         1\n",
       "마늘         1\n",
       "팥아이스크림     1\n",
       "유부         1\n",
       "초코콘        1\n",
       "연두부        1\n",
       "플레인요거트     1\n",
       "사과_대       1\n",
       "순두부        1\n",
       "참외         1\n",
       "쌈모음        1\n",
       "새우깡        1\n",
       "숙주나물       1\n",
       "깻잎         1\n",
       "포도컵푸딩      1\n",
       "우유1000     1\n",
       "감귤컵푸딩      1\n",
       "무          1\n",
       "양배출        1\n",
       "포토아이스크림    1\n",
       "파          1\n",
       "배아이스크림     1\n",
       "낱개캔디       1\n",
       "토마토        1\n",
       "Name: ProductName, dtype: int64"
      ]
     },
     "execution_count": 309,
     "metadata": {},
     "output_type": "execute_result"
    }
   ],
   "source": [
    "# ProductName\n",
    "products['ProductName'].value_counts()"
   ]
  },
  {
   "cell_type": "code",
   "execution_count": 310,
   "metadata": {},
   "outputs": [
    {
     "data": {
      "text/plain": [
       "채소     23\n",
       "유제품    14\n",
       "간식     11\n",
       "반찬류     8\n",
       "과일      6\n",
       "Name: Category, dtype: int64"
      ]
     },
     "execution_count": 310,
     "metadata": {},
     "output_type": "execute_result"
    }
   ],
   "source": [
    "# Category\n",
    "products['Category'].value_counts()"
   ]
  },
  {
   "cell_type": "code",
   "execution_count": 311,
   "metadata": {},
   "outputs": [
    {
     "data": {
      "text/plain": [
       "뿌리채소     9\n",
       "잎채소      8\n",
       "아이스크림    7\n",
       "두부       6\n",
       "과자       6\n",
       "우유       5\n",
       "과채       4\n",
       "열매채소     4\n",
       "사탕류      3\n",
       "요거트      2\n",
       "나물류      2\n",
       "버섯       2\n",
       "빵        2\n",
       "과수       2\n",
       "Name: SubCategory, dtype: int64"
      ]
     },
     "execution_count": 311,
     "metadata": {},
     "output_type": "execute_result"
    }
   ],
   "source": [
    "# SubCategory\n",
    "products['SubCategory'].value_counts()"
   ]
  },
  {
   "cell_type": "markdown",
   "metadata": {
    "id": "Ek_BgBX7gBM1"
   },
   "source": [
    "**3) 주문 정보(orders) 4가지 이상 탐색**\n",
    "\n",
    "- orders 데이터프레임을 충분히 탐색합니다.\n",
    "- 간단한 집계를 수행해 보는 것도 좋은 방법입니다."
   ]
  },
  {
   "cell_type": "markdown",
   "metadata": {
    "id": "Az3Ms14YgBM1"
   },
   "source": [
    "**3-1) 상위 데이터 확인**"
   ]
  },
  {
   "cell_type": "code",
   "execution_count": 312,
   "metadata": {
    "id": "jaTP8tS2tJOT"
   },
   "outputs": [
    {
     "data": {
      "text/html": [
       "<div>\n",
       "<style scoped>\n",
       "    .dataframe tbody tr th:only-of-type {\n",
       "        vertical-align: middle;\n",
       "    }\n",
       "\n",
       "    .dataframe tbody tr th {\n",
       "        vertical-align: top;\n",
       "    }\n",
       "\n",
       "    .dataframe thead th {\n",
       "        text-align: right;\n",
       "    }\n",
       "</style>\n",
       "<table border=\"1\" class=\"dataframe\">\n",
       "  <thead>\n",
       "    <tr style=\"text-align: right;\">\n",
       "      <th></th>\n",
       "      <th>OrderID</th>\n",
       "      <th>Seq</th>\n",
       "      <th>OrderDate</th>\n",
       "      <th>ProductID</th>\n",
       "      <th>Qty</th>\n",
       "      <th>Amt</th>\n",
       "      <th>CustomerID</th>\n",
       "    </tr>\n",
       "  </thead>\n",
       "  <tbody>\n",
       "    <tr>\n",
       "      <th>0</th>\n",
       "      <td>1</td>\n",
       "      <td>1</td>\n",
       "      <td>2016-01-02</td>\n",
       "      <td>p1030071</td>\n",
       "      <td>2</td>\n",
       "      <td>7900</td>\n",
       "      <td>c107853</td>\n",
       "    </tr>\n",
       "    <tr>\n",
       "      <th>1</th>\n",
       "      <td>2</td>\n",
       "      <td>1</td>\n",
       "      <td>2016-01-02</td>\n",
       "      <td>p1012761</td>\n",
       "      <td>1</td>\n",
       "      <td>1700</td>\n",
       "      <td>c110521</td>\n",
       "    </tr>\n",
       "    <tr>\n",
       "      <th>2</th>\n",
       "      <td>2</td>\n",
       "      <td>2</td>\n",
       "      <td>2016-01-02</td>\n",
       "      <td>p1012581</td>\n",
       "      <td>1</td>\n",
       "      <td>1000</td>\n",
       "      <td>c110521</td>\n",
       "    </tr>\n",
       "    <tr>\n",
       "      <th>3</th>\n",
       "      <td>2</td>\n",
       "      <td>3</td>\n",
       "      <td>2016-01-02</td>\n",
       "      <td>p1175481</td>\n",
       "      <td>1</td>\n",
       "      <td>1300</td>\n",
       "      <td>c110521</td>\n",
       "    </tr>\n",
       "    <tr>\n",
       "      <th>4</th>\n",
       "      <td>2</td>\n",
       "      <td>4</td>\n",
       "      <td>2016-01-02</td>\n",
       "      <td>p1178011</td>\n",
       "      <td>1</td>\n",
       "      <td>8800</td>\n",
       "      <td>c110521</td>\n",
       "    </tr>\n",
       "  </tbody>\n",
       "</table>\n",
       "</div>"
      ],
      "text/plain": [
       "   OrderID  Seq   OrderDate ProductID  Qty   Amt CustomerID\n",
       "0        1    1  2016-01-02  p1030071    2  7900    c107853\n",
       "1        2    1  2016-01-02  p1012761    1  1700    c110521\n",
       "2        2    2  2016-01-02  p1012581    1  1000    c110521\n",
       "3        2    3  2016-01-02  p1175481    1  1300    c110521\n",
       "4        2    4  2016-01-02  p1178011    1  8800    c110521"
      ]
     },
     "execution_count": 312,
     "metadata": {},
     "output_type": "execute_result"
    }
   ],
   "source": [
    "orders.head()"
   ]
  },
  {
   "cell_type": "markdown",
   "metadata": {
    "id": "Gb4qRTALgBM2"
   },
   "source": [
    "**3-2) 하위 데이터 확인**"
   ]
  },
  {
   "cell_type": "code",
   "execution_count": 313,
   "metadata": {
    "id": "9HLuVi0UgBM2"
   },
   "outputs": [
    {
     "data": {
      "text/html": [
       "<div>\n",
       "<style scoped>\n",
       "    .dataframe tbody tr th:only-of-type {\n",
       "        vertical-align: middle;\n",
       "    }\n",
       "\n",
       "    .dataframe tbody tr th {\n",
       "        vertical-align: top;\n",
       "    }\n",
       "\n",
       "    .dataframe thead th {\n",
       "        text-align: right;\n",
       "    }\n",
       "</style>\n",
       "<table border=\"1\" class=\"dataframe\">\n",
       "  <thead>\n",
       "    <tr style=\"text-align: right;\">\n",
       "      <th></th>\n",
       "      <th>OrderID</th>\n",
       "      <th>Seq</th>\n",
       "      <th>OrderDate</th>\n",
       "      <th>ProductID</th>\n",
       "      <th>Qty</th>\n",
       "      <th>Amt</th>\n",
       "      <th>CustomerID</th>\n",
       "    </tr>\n",
       "  </thead>\n",
       "  <tbody>\n",
       "    <tr>\n",
       "      <th>68834</th>\n",
       "      <td>76</td>\n",
       "      <td>1</td>\n",
       "      <td>2017-03-31</td>\n",
       "      <td>p1201601</td>\n",
       "      <td>1</td>\n",
       "      <td>2100</td>\n",
       "      <td>c302834</td>\n",
       "    </tr>\n",
       "    <tr>\n",
       "      <th>68835</th>\n",
       "      <td>77</td>\n",
       "      <td>1</td>\n",
       "      <td>2017-03-31</td>\n",
       "      <td>p1002841</td>\n",
       "      <td>1</td>\n",
       "      <td>10700</td>\n",
       "      <td>c343734</td>\n",
       "    </tr>\n",
       "    <tr>\n",
       "      <th>68836</th>\n",
       "      <td>78</td>\n",
       "      <td>1</td>\n",
       "      <td>2017-03-31</td>\n",
       "      <td>p1012761</td>\n",
       "      <td>1</td>\n",
       "      <td>1900</td>\n",
       "      <td>c354639</td>\n",
       "    </tr>\n",
       "    <tr>\n",
       "      <th>68837</th>\n",
       "      <td>79</td>\n",
       "      <td>1</td>\n",
       "      <td>2017-03-31</td>\n",
       "      <td>p1005891</td>\n",
       "      <td>1</td>\n",
       "      <td>1950</td>\n",
       "      <td>c394131</td>\n",
       "    </tr>\n",
       "    <tr>\n",
       "      <th>68838</th>\n",
       "      <td>79</td>\n",
       "      <td>2</td>\n",
       "      <td>2017-03-31</td>\n",
       "      <td>p1179241</td>\n",
       "      <td>1</td>\n",
       "      <td>2200</td>\n",
       "      <td>c394131</td>\n",
       "    </tr>\n",
       "  </tbody>\n",
       "</table>\n",
       "</div>"
      ],
      "text/plain": [
       "       OrderID  Seq   OrderDate ProductID  Qty    Amt CustomerID\n",
       "68834       76    1  2017-03-31  p1201601    1   2100    c302834\n",
       "68835       77    1  2017-03-31  p1002841    1  10700    c343734\n",
       "68836       78    1  2017-03-31  p1012761    1   1900    c354639\n",
       "68837       79    1  2017-03-31  p1005891    1   1950    c394131\n",
       "68838       79    2  2017-03-31  p1179241    1   2200    c394131"
      ]
     },
     "execution_count": 313,
     "metadata": {},
     "output_type": "execute_result"
    }
   ],
   "source": [
    "orders.tail()"
   ]
  },
  {
   "cell_type": "markdown",
   "metadata": {
    "id": "Dz8NnIutGMwy"
   },
   "source": [
    "**3-3) 데이터프레임 크기 확인**"
   ]
  },
  {
   "cell_type": "code",
   "execution_count": 314,
   "metadata": {
    "id": "wSVyCChjGMw4"
   },
   "outputs": [
    {
     "data": {
      "text/plain": [
       "(68839, 7)"
      ]
     },
     "execution_count": 314,
     "metadata": {},
     "output_type": "execute_result"
    }
   ],
   "source": [
    "orders.shape"
   ]
  },
  {
   "cell_type": "markdown",
   "metadata": {
    "id": "-FqyrV5RGMw5"
   },
   "source": [
    "**3-4) 열 이름, 데이터 형식, 값 개수 등 확인**"
   ]
  },
  {
   "cell_type": "code",
   "execution_count": 315,
   "metadata": {},
   "outputs": [
    {
     "name": "stdout",
     "output_type": "stream",
     "text": [
      "<class 'pandas.core.frame.DataFrame'>\n",
      "RangeIndex: 68839 entries, 0 to 68838\n",
      "Data columns (total 7 columns):\n",
      " #   Column      Non-Null Count  Dtype \n",
      "---  ------      --------------  ----- \n",
      " 0   OrderID     68839 non-null  int64 \n",
      " 1   Seq         68839 non-null  int64 \n",
      " 2   OrderDate   68839 non-null  object\n",
      " 3   ProductID   68839 non-null  object\n",
      " 4   Qty         68839 non-null  int64 \n",
      " 5   Amt         68839 non-null  int64 \n",
      " 6   CustomerID  68839 non-null  object\n",
      "dtypes: int64(4), object(3)\n",
      "memory usage: 3.7+ MB\n"
     ]
    }
   ],
   "source": [
    "orders.info()"
   ]
  },
  {
   "cell_type": "markdown",
   "metadata": {},
   "source": [
    "**3-5) 기초 통계정보 확인**"
   ]
  },
  {
   "cell_type": "code",
   "execution_count": 316,
   "metadata": {},
   "outputs": [
    {
     "data": {
      "text/html": [
       "<div>\n",
       "<style scoped>\n",
       "    .dataframe tbody tr th:only-of-type {\n",
       "        vertical-align: middle;\n",
       "    }\n",
       "\n",
       "    .dataframe tbody tr th {\n",
       "        vertical-align: top;\n",
       "    }\n",
       "\n",
       "    .dataframe thead th {\n",
       "        text-align: right;\n",
       "    }\n",
       "</style>\n",
       "<table border=\"1\" class=\"dataframe\">\n",
       "  <thead>\n",
       "    <tr style=\"text-align: right;\">\n",
       "      <th></th>\n",
       "      <th>OrderID</th>\n",
       "      <th>Seq</th>\n",
       "      <th>Qty</th>\n",
       "      <th>Amt</th>\n",
       "    </tr>\n",
       "  </thead>\n",
       "  <tbody>\n",
       "    <tr>\n",
       "      <th>count</th>\n",
       "      <td>68839.000000</td>\n",
       "      <td>68839.000000</td>\n",
       "      <td>68839.000000</td>\n",
       "      <td>68839.000000</td>\n",
       "    </tr>\n",
       "    <tr>\n",
       "      <th>mean</th>\n",
       "      <td>38.551519</td>\n",
       "      <td>2.082628</td>\n",
       "      <td>1.266985</td>\n",
       "      <td>2847.057990</td>\n",
       "    </tr>\n",
       "    <tr>\n",
       "      <th>std</th>\n",
       "      <td>23.952370</td>\n",
       "      <td>1.469644</td>\n",
       "      <td>1.372289</td>\n",
       "      <td>2634.378327</td>\n",
       "    </tr>\n",
       "    <tr>\n",
       "      <th>min</th>\n",
       "      <td>1.000000</td>\n",
       "      <td>1.000000</td>\n",
       "      <td>1.000000</td>\n",
       "      <td>250.000000</td>\n",
       "    </tr>\n",
       "    <tr>\n",
       "      <th>25%</th>\n",
       "      <td>18.000000</td>\n",
       "      <td>1.000000</td>\n",
       "      <td>1.000000</td>\n",
       "      <td>1300.000000</td>\n",
       "    </tr>\n",
       "    <tr>\n",
       "      <th>50%</th>\n",
       "      <td>37.000000</td>\n",
       "      <td>2.000000</td>\n",
       "      <td>1.000000</td>\n",
       "      <td>1950.000000</td>\n",
       "    </tr>\n",
       "    <tr>\n",
       "      <th>75%</th>\n",
       "      <td>56.000000</td>\n",
       "      <td>3.000000</td>\n",
       "      <td>1.000000</td>\n",
       "      <td>3227.000000</td>\n",
       "    </tr>\n",
       "    <tr>\n",
       "      <th>max</th>\n",
       "      <td>122.000000</td>\n",
       "      <td>15.000000</td>\n",
       "      <td>200.000000</td>\n",
       "      <td>109100.000000</td>\n",
       "    </tr>\n",
       "  </tbody>\n",
       "</table>\n",
       "</div>"
      ],
      "text/plain": [
       "            OrderID           Seq           Qty            Amt\n",
       "count  68839.000000  68839.000000  68839.000000   68839.000000\n",
       "mean      38.551519      2.082628      1.266985    2847.057990\n",
       "std       23.952370      1.469644      1.372289    2634.378327\n",
       "min        1.000000      1.000000      1.000000     250.000000\n",
       "25%       18.000000      1.000000      1.000000    1300.000000\n",
       "50%       37.000000      2.000000      1.000000    1950.000000\n",
       "75%       56.000000      3.000000      1.000000    3227.000000\n",
       "max      122.000000     15.000000    200.000000  109100.000000"
      ]
     },
     "execution_count": 316,
     "metadata": {},
     "output_type": "execute_result"
    }
   ],
   "source": [
    "orders.describe()"
   ]
  },
  {
   "cell_type": "markdown",
   "metadata": {},
   "source": [
    "**3-6) 결측치 확인**"
   ]
  },
  {
   "cell_type": "code",
   "execution_count": 317,
   "metadata": {},
   "outputs": [
    {
     "data": {
      "text/plain": [
       "OrderID       0\n",
       "Seq           0\n",
       "OrderDate     0\n",
       "ProductID     0\n",
       "Qty           0\n",
       "Amt           0\n",
       "CustomerID    0\n",
       "dtype: int64"
      ]
     },
     "execution_count": 317,
     "metadata": {},
     "output_type": "execute_result"
    }
   ],
   "source": [
    "orders.isnull().sum()"
   ]
  },
  {
   "cell_type": "markdown",
   "metadata": {},
   "source": [
    "**3-7) 범주형 데이터 확인**"
   ]
  },
  {
   "cell_type": "code",
   "execution_count": 318,
   "metadata": {},
   "outputs": [
    {
     "data": {
      "text/plain": [
       "13     1006\n",
       "31     1005\n",
       "16     1002\n",
       "3      1000\n",
       "15      999\n",
       "       ... \n",
       "120       2\n",
       "116       2\n",
       "119       1\n",
       "122       1\n",
       "117       1\n",
       "Name: OrderID, Length: 122, dtype: int64"
      ]
     },
     "execution_count": 318,
     "metadata": {},
     "output_type": "execute_result"
    }
   ],
   "source": [
    "# OrderID\n",
    "orders['OrderID'].value_counts()"
   ]
  },
  {
   "cell_type": "code",
   "execution_count": 319,
   "metadata": {
    "scrolled": true
   },
   "outputs": [
    {
     "data": {
      "text/plain": [
       "1      57483\n",
       "2       8292\n",
       "3       1683\n",
       "4        697\n",
       "5        321\n",
       "6        144\n",
       "10        71\n",
       "8         51\n",
       "7         48\n",
       "9         14\n",
       "12        10\n",
       "16         4\n",
       "60         4\n",
       "15         2\n",
       "100        2\n",
       "50         2\n",
       "200        1\n",
       "72         1\n",
       "70         1\n",
       "14         1\n",
       "18         1\n",
       "19         1\n",
       "20         1\n",
       "21         1\n",
       "22         1\n",
       "25         1\n",
       "30         1\n",
       "Name: Qty, dtype: int64"
      ]
     },
     "execution_count": 319,
     "metadata": {},
     "output_type": "execute_result"
    }
   ],
   "source": [
    "# Qty\n",
    "orders['Qty'].value_counts()"
   ]
  },
  {
   "cell_type": "code",
   "execution_count": 320,
   "metadata": {},
   "outputs": [
    {
     "data": {
      "text/plain": [
       "1850     4453\n",
       "1300     3864\n",
       "1950     3338\n",
       "4600     2916\n",
       "1000     1967\n",
       "         ... \n",
       "86400       1\n",
       "2244        1\n",
       "2564        1\n",
       "3880        1\n",
       "12299       1\n",
       "Name: Amt, Length: 789, dtype: int64"
      ]
     },
     "execution_count": 320,
     "metadata": {},
     "output_type": "execute_result"
    }
   ],
   "source": [
    "# Amt\n",
    "orders['Amt'].value_counts()"
   ]
  },
  {
   "cell_type": "markdown",
   "metadata": {
    "id": "Ssb_UpOagBM2"
   },
   "source": [
    "## 3.데이터 전처리\n",
    "\n",
    "전처리 과정에서 다음과 같은 처리를 할 수 있습니다.\n",
    "\n",
    "- 결측치 처리\n",
    "- 값 변경\n",
    "- 열 추가\n",
    "- 불필요한 열 제거\n",
    "- 열 이름 변경\n",
    "- 데이터 통합(연결 또는 조인)\n",
    "- 가변수화 등"
   ]
  },
  {
   "cell_type": "markdown",
   "metadata": {
    "id": "XDI0-X06gBM3"
   },
   "source": [
    "**1) 데이터 통합 --> sales 데이터프레임**\n",
    "\n",
    "- 각 데이터프레임의 모든 열을 통합 할 것이 아니면 \n",
    "    - 필요한 열만 추출해 별도 데이터프레임을 선언한 후 통합하거나\n",
    "    - 또는 모두 통합 후 불필요한 열을 제거하는 방법을 사용합니다.\n",
    "- 통합 방안\n",
    "    - merge를 이용하여 한 번에 통합을 합니다.\n",
    "    - customers, orders은 CustomerID를 기준으로 통합하여 sales 데이터 프레임을 만들고,\n",
    "    - sales, products는 ProductID를 기준으로 통합합니다."
   ]
  },
  {
   "cell_type": "code",
   "execution_count": 321,
   "metadata": {
    "id": "NW7N_xeVgBM4"
   },
   "outputs": [],
   "source": [
    "sales = pd.merge(customers, orders, on='CustomerID', how='inner')\n",
    "sales = pd.merge(sales, products, on='ProductID', how='inner')"
   ]
  },
  {
   "cell_type": "markdown",
   "metadata": {
    "id": "RvrfT0pRgBM4"
   },
   "source": [
    "**2) 결과 확인**"
   ]
  },
  {
   "cell_type": "code",
   "execution_count": 322,
   "metadata": {
    "id": "j-24yh-wgBM4"
   },
   "outputs": [
    {
     "data": {
      "text/html": [
       "<div>\n",
       "<style scoped>\n",
       "    .dataframe tbody tr th:only-of-type {\n",
       "        vertical-align: middle;\n",
       "    }\n",
       "\n",
       "    .dataframe tbody tr th {\n",
       "        vertical-align: top;\n",
       "    }\n",
       "\n",
       "    .dataframe thead th {\n",
       "        text-align: right;\n",
       "    }\n",
       "</style>\n",
       "<table border=\"1\" class=\"dataframe\">\n",
       "  <thead>\n",
       "    <tr style=\"text-align: right;\">\n",
       "      <th></th>\n",
       "      <th>CustomerID</th>\n",
       "      <th>RegisterDate</th>\n",
       "      <th>Address</th>\n",
       "      <th>Gender</th>\n",
       "      <th>BirthYear</th>\n",
       "      <th>Addr1</th>\n",
       "      <th>Addr2</th>\n",
       "      <th>OrderID</th>\n",
       "      <th>Seq</th>\n",
       "      <th>OrderDate</th>\n",
       "      <th>ProductID</th>\n",
       "      <th>Qty</th>\n",
       "      <th>Amt</th>\n",
       "      <th>ProductName</th>\n",
       "      <th>Category</th>\n",
       "      <th>SubCategory</th>\n",
       "      <th>CategoryOrd</th>\n",
       "    </tr>\n",
       "  </thead>\n",
       "  <tbody>\n",
       "    <tr>\n",
       "      <th>0</th>\n",
       "      <td>c017487</td>\n",
       "      <td>2002-07-31</td>\n",
       "      <td>경기 성남시 중원구 둔촌대로190번길</td>\n",
       "      <td>F</td>\n",
       "      <td>1968</td>\n",
       "      <td>경기도</td>\n",
       "      <td>성남시</td>\n",
       "      <td>46</td>\n",
       "      <td>1</td>\n",
       "      <td>2016-01-14</td>\n",
       "      <td>p1013161</td>\n",
       "      <td>1</td>\n",
       "      <td>2900</td>\n",
       "      <td>느타리버섯</td>\n",
       "      <td>채소</td>\n",
       "      <td>버섯</td>\n",
       "      <td>5</td>\n",
       "    </tr>\n",
       "    <tr>\n",
       "      <th>1</th>\n",
       "      <td>c017487</td>\n",
       "      <td>2002-07-31</td>\n",
       "      <td>경기 성남시 중원구 둔촌대로190번길</td>\n",
       "      <td>F</td>\n",
       "      <td>1968</td>\n",
       "      <td>경기도</td>\n",
       "      <td>성남시</td>\n",
       "      <td>37</td>\n",
       "      <td>2</td>\n",
       "      <td>2016-09-18</td>\n",
       "      <td>p1013161</td>\n",
       "      <td>2</td>\n",
       "      <td>5900</td>\n",
       "      <td>느타리버섯</td>\n",
       "      <td>채소</td>\n",
       "      <td>버섯</td>\n",
       "      <td>5</td>\n",
       "    </tr>\n",
       "    <tr>\n",
       "      <th>2</th>\n",
       "      <td>c017517</td>\n",
       "      <td>2002-07-31</td>\n",
       "      <td>경기도 남양주시 와부읍 덕소로</td>\n",
       "      <td>M</td>\n",
       "      <td>1967</td>\n",
       "      <td>경기도</td>\n",
       "      <td>남양주시</td>\n",
       "      <td>31</td>\n",
       "      <td>2</td>\n",
       "      <td>2016-01-23</td>\n",
       "      <td>p1013161</td>\n",
       "      <td>1</td>\n",
       "      <td>2900</td>\n",
       "      <td>느타리버섯</td>\n",
       "      <td>채소</td>\n",
       "      <td>버섯</td>\n",
       "      <td>5</td>\n",
       "    </tr>\n",
       "    <tr>\n",
       "      <th>3</th>\n",
       "      <td>c017517</td>\n",
       "      <td>2002-07-31</td>\n",
       "      <td>경기도 남양주시 와부읍 덕소로</td>\n",
       "      <td>M</td>\n",
       "      <td>1967</td>\n",
       "      <td>경기도</td>\n",
       "      <td>남양주시</td>\n",
       "      <td>19</td>\n",
       "      <td>3</td>\n",
       "      <td>2016-07-24</td>\n",
       "      <td>p1013161</td>\n",
       "      <td>1</td>\n",
       "      <td>2950</td>\n",
       "      <td>느타리버섯</td>\n",
       "      <td>채소</td>\n",
       "      <td>버섯</td>\n",
       "      <td>5</td>\n",
       "    </tr>\n",
       "    <tr>\n",
       "      <th>4</th>\n",
       "      <td>c017517</td>\n",
       "      <td>2002-07-31</td>\n",
       "      <td>경기도 남양주시 와부읍 덕소로</td>\n",
       "      <td>M</td>\n",
       "      <td>1967</td>\n",
       "      <td>경기도</td>\n",
       "      <td>남양주시</td>\n",
       "      <td>78</td>\n",
       "      <td>2</td>\n",
       "      <td>2017-01-02</td>\n",
       "      <td>p1013161</td>\n",
       "      <td>1</td>\n",
       "      <td>2950</td>\n",
       "      <td>느타리버섯</td>\n",
       "      <td>채소</td>\n",
       "      <td>버섯</td>\n",
       "      <td>5</td>\n",
       "    </tr>\n",
       "    <tr>\n",
       "      <th>...</th>\n",
       "      <td>...</td>\n",
       "      <td>...</td>\n",
       "      <td>...</td>\n",
       "      <td>...</td>\n",
       "      <td>...</td>\n",
       "      <td>...</td>\n",
       "      <td>...</td>\n",
       "      <td>...</td>\n",
       "      <td>...</td>\n",
       "      <td>...</td>\n",
       "      <td>...</td>\n",
       "      <td>...</td>\n",
       "      <td>...</td>\n",
       "      <td>...</td>\n",
       "      <td>...</td>\n",
       "      <td>...</td>\n",
       "      <td>...</td>\n",
       "    </tr>\n",
       "    <tr>\n",
       "      <th>68834</th>\n",
       "      <td>c366986</td>\n",
       "      <td>2015-12-28</td>\n",
       "      <td>서울특별시 마포구 성미산로23길</td>\n",
       "      <td>F</td>\n",
       "      <td>1973</td>\n",
       "      <td>서울특별시</td>\n",
       "      <td>마포구</td>\n",
       "      <td>66</td>\n",
       "      <td>2</td>\n",
       "      <td>2016-05-28</td>\n",
       "      <td>p1152861</td>\n",
       "      <td>1</td>\n",
       "      <td>1091</td>\n",
       "      <td>포토아이스크림</td>\n",
       "      <td>유제품</td>\n",
       "      <td>아이스크림</td>\n",
       "      <td>4</td>\n",
       "    </tr>\n",
       "    <tr>\n",
       "      <th>68835</th>\n",
       "      <td>c366986</td>\n",
       "      <td>2015-12-28</td>\n",
       "      <td>서울특별시 마포구 성미산로23길</td>\n",
       "      <td>F</td>\n",
       "      <td>1973</td>\n",
       "      <td>서울특별시</td>\n",
       "      <td>마포구</td>\n",
       "      <td>23</td>\n",
       "      <td>3</td>\n",
       "      <td>2016-08-08</td>\n",
       "      <td>p1152861</td>\n",
       "      <td>1</td>\n",
       "      <td>1091</td>\n",
       "      <td>포토아이스크림</td>\n",
       "      <td>유제품</td>\n",
       "      <td>아이스크림</td>\n",
       "      <td>4</td>\n",
       "    </tr>\n",
       "    <tr>\n",
       "      <th>68836</th>\n",
       "      <td>c367093</td>\n",
       "      <td>2015-12-29</td>\n",
       "      <td>서울 영등포구 여의나루로</td>\n",
       "      <td>F</td>\n",
       "      <td>1985</td>\n",
       "      <td>서울특별시</td>\n",
       "      <td>영등포구</td>\n",
       "      <td>5</td>\n",
       "      <td>4</td>\n",
       "      <td>2016-03-19</td>\n",
       "      <td>p1152861</td>\n",
       "      <td>1</td>\n",
       "      <td>1091</td>\n",
       "      <td>포토아이스크림</td>\n",
       "      <td>유제품</td>\n",
       "      <td>아이스크림</td>\n",
       "      <td>4</td>\n",
       "    </tr>\n",
       "    <tr>\n",
       "      <th>68837</th>\n",
       "      <td>c372461</td>\n",
       "      <td>2016-03-08</td>\n",
       "      <td>경기도 부천시 원미구 장말로</td>\n",
       "      <td>F</td>\n",
       "      <td>1986</td>\n",
       "      <td>경기도</td>\n",
       "      <td>부천시</td>\n",
       "      <td>71</td>\n",
       "      <td>2</td>\n",
       "      <td>2016-08-10</td>\n",
       "      <td>p1152861</td>\n",
       "      <td>1</td>\n",
       "      <td>1091</td>\n",
       "      <td>포토아이스크림</td>\n",
       "      <td>유제품</td>\n",
       "      <td>아이스크림</td>\n",
       "      <td>4</td>\n",
       "    </tr>\n",
       "    <tr>\n",
       "      <th>68838</th>\n",
       "      <td>c376203</td>\n",
       "      <td>2016-04-17</td>\n",
       "      <td>경기도 시흥시 매화우회로</td>\n",
       "      <td>F</td>\n",
       "      <td>1978</td>\n",
       "      <td>경기도</td>\n",
       "      <td>시흥시</td>\n",
       "      <td>28</td>\n",
       "      <td>1</td>\n",
       "      <td>2016-05-25</td>\n",
       "      <td>p1152861</td>\n",
       "      <td>1</td>\n",
       "      <td>1091</td>\n",
       "      <td>포토아이스크림</td>\n",
       "      <td>유제품</td>\n",
       "      <td>아이스크림</td>\n",
       "      <td>4</td>\n",
       "    </tr>\n",
       "  </tbody>\n",
       "</table>\n",
       "<p>68839 rows × 17 columns</p>\n",
       "</div>"
      ],
      "text/plain": [
       "      CustomerID RegisterDate               Address Gender  BirthYear  Addr1  \\\n",
       "0        c017487   2002-07-31  경기 성남시 중원구 둔촌대로190번길      F       1968    경기도   \n",
       "1        c017487   2002-07-31  경기 성남시 중원구 둔촌대로190번길      F       1968    경기도   \n",
       "2        c017517   2002-07-31      경기도 남양주시 와부읍 덕소로      M       1967    경기도   \n",
       "3        c017517   2002-07-31      경기도 남양주시 와부읍 덕소로      M       1967    경기도   \n",
       "4        c017517   2002-07-31      경기도 남양주시 와부읍 덕소로      M       1967    경기도   \n",
       "...          ...          ...                   ...    ...        ...    ...   \n",
       "68834    c366986   2015-12-28     서울특별시 마포구 성미산로23길      F       1973  서울특별시   \n",
       "68835    c366986   2015-12-28     서울특별시 마포구 성미산로23길      F       1973  서울특별시   \n",
       "68836    c367093   2015-12-29         서울 영등포구 여의나루로      F       1985  서울특별시   \n",
       "68837    c372461   2016-03-08       경기도 부천시 원미구 장말로      F       1986    경기도   \n",
       "68838    c376203   2016-04-17         경기도 시흥시 매화우회로      F       1978    경기도   \n",
       "\n",
       "      Addr2  OrderID  Seq   OrderDate ProductID  Qty   Amt ProductName  \\\n",
       "0       성남시       46    1  2016-01-14  p1013161    1  2900       느타리버섯   \n",
       "1       성남시       37    2  2016-09-18  p1013161    2  5900       느타리버섯   \n",
       "2      남양주시       31    2  2016-01-23  p1013161    1  2900       느타리버섯   \n",
       "3      남양주시       19    3  2016-07-24  p1013161    1  2950       느타리버섯   \n",
       "4      남양주시       78    2  2017-01-02  p1013161    1  2950       느타리버섯   \n",
       "...     ...      ...  ...         ...       ...  ...   ...         ...   \n",
       "68834   마포구       66    2  2016-05-28  p1152861    1  1091     포토아이스크림   \n",
       "68835   마포구       23    3  2016-08-08  p1152861    1  1091     포토아이스크림   \n",
       "68836  영등포구        5    4  2016-03-19  p1152861    1  1091     포토아이스크림   \n",
       "68837   부천시       71    2  2016-08-10  p1152861    1  1091     포토아이스크림   \n",
       "68838   시흥시       28    1  2016-05-25  p1152861    1  1091     포토아이스크림   \n",
       "\n",
       "      Category SubCategory  CategoryOrd  \n",
       "0           채소          버섯            5  \n",
       "1           채소          버섯            5  \n",
       "2           채소          버섯            5  \n",
       "3           채소          버섯            5  \n",
       "4           채소          버섯            5  \n",
       "...        ...         ...          ...  \n",
       "68834      유제품       아이스크림            4  \n",
       "68835      유제품       아이스크림            4  \n",
       "68836      유제품       아이스크림            4  \n",
       "68837      유제품       아이스크림            4  \n",
       "68838      유제품       아이스크림            4  \n",
       "\n",
       "[68839 rows x 17 columns]"
      ]
     },
     "execution_count": 322,
     "metadata": {},
     "output_type": "execute_result"
    }
   ],
   "source": [
    "sales"
   ]
  },
  {
   "cell_type": "markdown",
   "metadata": {
    "id": "Ll_SMqdOgBM5"
   },
   "source": [
    "**3) 열 추가**\n",
    "\n",
    "- 분석을 위해 필요한 열을 추가합니다.\n",
    "- 예를 들어 다음과 같은 열들이 필요하다고 판단할 수 있습니다.\n",
    "    - OrderYear: 주문연도, 주문연도별 분석이 용이하게 하기 위함\n",
    "    - OrderMonth: 주문월, 주문년월 분석이 용이하게 하기 위함\n",
    "    - OrderDay: 주문일 분석이 용이하게 하기 위함\n",
    "    - OrderWeekday : 휴일에 많은 사람이 이용하는지 파악하기 위함\n",
    "    - Age: 연령별 분석을 하기 위함(2017 - 출생년도)"
   ]
  },
  {
   "cell_type": "code",
   "execution_count": 323,
   "metadata": {
    "id": "ICHfbKB2gBM5",
    "scrolled": true
   },
   "outputs": [],
   "source": [
    "sales['OrderYear'] =  pd.to_datetime(orders['OrderDate']).dt.year\n",
    "sales['OrderMonth'] =  pd.to_datetime(orders['OrderDate']).dt.month\n",
    "sales['OrderDay'] =  pd.to_datetime(orders['OrderDate']).dt.day\n",
    "sales['OrderWeekday'] =  pd.to_datetime(orders['OrderDate']).dt.weekday\n",
    "sales['Age'] = 2017 - sales['BirthYear']"
   ]
  },
  {
   "cell_type": "markdown",
   "metadata": {
    "id": "DBX8rt-PgBM5"
   },
   "source": [
    "**4) 불필요한 열 제거**\n",
    "\n",
    "- 분석에 필요가 없다고 생각되는 열은 제거합니다.\n",
    "- 새로운 열을 추가하면 기존 열이 필요하지 않을 수 있습니다.\n",
    "- 예를 들어 다음 열들이 필요하지 않다고 판단할 수 있습니다.\n",
    "    - OrderDate: 새로 추가한 OrderYear, OrderMonth 열 사용\n",
    "    - ProductID: ProductName 열 사용\n",
    "    - SubCategory: 분석 대상에서 제외 등등\n",
    "    - CategoryOrd : 의미 없는 칼럼\n",
    "    - Address : Addr1, Addr2로 나와있기 때문"
   ]
  },
  {
   "cell_type": "code",
   "execution_count": 324,
   "metadata": {
    "id": "OiIofiMIgBM5"
   },
   "outputs": [],
   "source": [
    "del_col = ['OrderDate', 'ProductID', 'CategoryOrd' , 'Address', 'SubCategory']\n",
    "sales.drop(columns=del_col, axis=1, inplace=True)"
   ]
  },
  {
   "cell_type": "code",
   "execution_count": 325,
   "metadata": {},
   "outputs": [
    {
     "data": {
      "text/html": [
       "<div>\n",
       "<style scoped>\n",
       "    .dataframe tbody tr th:only-of-type {\n",
       "        vertical-align: middle;\n",
       "    }\n",
       "\n",
       "    .dataframe tbody tr th {\n",
       "        vertical-align: top;\n",
       "    }\n",
       "\n",
       "    .dataframe thead th {\n",
       "        text-align: right;\n",
       "    }\n",
       "</style>\n",
       "<table border=\"1\" class=\"dataframe\">\n",
       "  <thead>\n",
       "    <tr style=\"text-align: right;\">\n",
       "      <th></th>\n",
       "      <th>CustomerID</th>\n",
       "      <th>RegisterDate</th>\n",
       "      <th>Gender</th>\n",
       "      <th>BirthYear</th>\n",
       "      <th>Addr1</th>\n",
       "      <th>Addr2</th>\n",
       "      <th>OrderID</th>\n",
       "      <th>Seq</th>\n",
       "      <th>Qty</th>\n",
       "      <th>Amt</th>\n",
       "      <th>ProductName</th>\n",
       "      <th>Category</th>\n",
       "      <th>OrderYear</th>\n",
       "      <th>OrderMonth</th>\n",
       "      <th>OrderDay</th>\n",
       "      <th>OrderWeekday</th>\n",
       "      <th>Age</th>\n",
       "    </tr>\n",
       "  </thead>\n",
       "  <tbody>\n",
       "    <tr>\n",
       "      <th>0</th>\n",
       "      <td>c017487</td>\n",
       "      <td>2002-07-31</td>\n",
       "      <td>F</td>\n",
       "      <td>1968</td>\n",
       "      <td>경기도</td>\n",
       "      <td>성남시</td>\n",
       "      <td>46</td>\n",
       "      <td>1</td>\n",
       "      <td>1</td>\n",
       "      <td>2900</td>\n",
       "      <td>느타리버섯</td>\n",
       "      <td>채소</td>\n",
       "      <td>2016</td>\n",
       "      <td>1</td>\n",
       "      <td>2</td>\n",
       "      <td>5</td>\n",
       "      <td>49</td>\n",
       "    </tr>\n",
       "    <tr>\n",
       "      <th>1</th>\n",
       "      <td>c017487</td>\n",
       "      <td>2002-07-31</td>\n",
       "      <td>F</td>\n",
       "      <td>1968</td>\n",
       "      <td>경기도</td>\n",
       "      <td>성남시</td>\n",
       "      <td>37</td>\n",
       "      <td>2</td>\n",
       "      <td>2</td>\n",
       "      <td>5900</td>\n",
       "      <td>느타리버섯</td>\n",
       "      <td>채소</td>\n",
       "      <td>2016</td>\n",
       "      <td>1</td>\n",
       "      <td>2</td>\n",
       "      <td>5</td>\n",
       "      <td>49</td>\n",
       "    </tr>\n",
       "    <tr>\n",
       "      <th>2</th>\n",
       "      <td>c017517</td>\n",
       "      <td>2002-07-31</td>\n",
       "      <td>M</td>\n",
       "      <td>1967</td>\n",
       "      <td>경기도</td>\n",
       "      <td>남양주시</td>\n",
       "      <td>31</td>\n",
       "      <td>2</td>\n",
       "      <td>1</td>\n",
       "      <td>2900</td>\n",
       "      <td>느타리버섯</td>\n",
       "      <td>채소</td>\n",
       "      <td>2016</td>\n",
       "      <td>1</td>\n",
       "      <td>2</td>\n",
       "      <td>5</td>\n",
       "      <td>50</td>\n",
       "    </tr>\n",
       "    <tr>\n",
       "      <th>3</th>\n",
       "      <td>c017517</td>\n",
       "      <td>2002-07-31</td>\n",
       "      <td>M</td>\n",
       "      <td>1967</td>\n",
       "      <td>경기도</td>\n",
       "      <td>남양주시</td>\n",
       "      <td>19</td>\n",
       "      <td>3</td>\n",
       "      <td>1</td>\n",
       "      <td>2950</td>\n",
       "      <td>느타리버섯</td>\n",
       "      <td>채소</td>\n",
       "      <td>2016</td>\n",
       "      <td>1</td>\n",
       "      <td>2</td>\n",
       "      <td>5</td>\n",
       "      <td>50</td>\n",
       "    </tr>\n",
       "    <tr>\n",
       "      <th>4</th>\n",
       "      <td>c017517</td>\n",
       "      <td>2002-07-31</td>\n",
       "      <td>M</td>\n",
       "      <td>1967</td>\n",
       "      <td>경기도</td>\n",
       "      <td>남양주시</td>\n",
       "      <td>78</td>\n",
       "      <td>2</td>\n",
       "      <td>1</td>\n",
       "      <td>2950</td>\n",
       "      <td>느타리버섯</td>\n",
       "      <td>채소</td>\n",
       "      <td>2016</td>\n",
       "      <td>1</td>\n",
       "      <td>2</td>\n",
       "      <td>5</td>\n",
       "      <td>50</td>\n",
       "    </tr>\n",
       "  </tbody>\n",
       "</table>\n",
       "</div>"
      ],
      "text/plain": [
       "  CustomerID RegisterDate Gender  BirthYear Addr1 Addr2  OrderID  Seq  Qty  \\\n",
       "0    c017487   2002-07-31      F       1968   경기도   성남시       46    1    1   \n",
       "1    c017487   2002-07-31      F       1968   경기도   성남시       37    2    2   \n",
       "2    c017517   2002-07-31      M       1967   경기도  남양주시       31    2    1   \n",
       "3    c017517   2002-07-31      M       1967   경기도  남양주시       19    3    1   \n",
       "4    c017517   2002-07-31      M       1967   경기도  남양주시       78    2    1   \n",
       "\n",
       "    Amt ProductName Category  OrderYear  OrderMonth  OrderDay  OrderWeekday  \\\n",
       "0  2900       느타리버섯       채소       2016           1         2             5   \n",
       "1  5900       느타리버섯       채소       2016           1         2             5   \n",
       "2  2900       느타리버섯       채소       2016           1         2             5   \n",
       "3  2950       느타리버섯       채소       2016           1         2             5   \n",
       "4  2950       느타리버섯       채소       2016           1         2             5   \n",
       "\n",
       "   Age  \n",
       "0   49  \n",
       "1   49  \n",
       "2   50  \n",
       "3   50  \n",
       "4   50  "
      ]
     },
     "execution_count": 325,
     "metadata": {},
     "output_type": "execute_result"
    }
   ],
   "source": [
    "sales.head()"
   ]
  },
  {
   "cell_type": "markdown",
   "metadata": {},
   "source": [
    "**4) 열 이름 변경**"
   ]
  },
  {
   "cell_type": "code",
   "execution_count": 326,
   "metadata": {},
   "outputs": [],
   "source": [
    "name = {'Addr1' : '시도', \n",
    "       'Addr2' : '구군'}\n",
    "sales.rename(columns=name, inplace=True)"
   ]
  },
  {
   "cell_type": "markdown",
   "metadata": {},
   "source": [
    "**5) 결측치 확인**"
   ]
  },
  {
   "cell_type": "code",
   "execution_count": 327,
   "metadata": {},
   "outputs": [
    {
     "data": {
      "text/plain": [
       "CustomerID      0\n",
       "RegisterDate    0\n",
       "Gender          0\n",
       "BirthYear       0\n",
       "시도              0\n",
       "구군              0\n",
       "OrderID         0\n",
       "Seq             0\n",
       "Qty             0\n",
       "Amt             0\n",
       "ProductName     0\n",
       "Category        0\n",
       "OrderYear       0\n",
       "OrderMonth      0\n",
       "OrderDay        0\n",
       "OrderWeekday    0\n",
       "Age             0\n",
       "dtype: int64"
      ]
     },
     "execution_count": 327,
     "metadata": {},
     "output_type": "execute_result"
    }
   ],
   "source": [
    "sales.isna().sum()"
   ]
  },
  {
   "cell_type": "markdown",
   "metadata": {
    "id": "m6GXYXOTgBM6"
   },
   "source": [
    "## 4.데이터 분석 : 4가지 이상\n",
    "\n",
    "- 현재 판매 현황을 분석해 향후 판매 전략 수립에 중요한 정보로 활용할 것입니다.\n",
    "- 데이터를 집계하고 간단히 시각화하여 판매 현황을 분석합니다.\n",
    "- 연속형 값은 선 그래프, 범주형 값은 막대 그래프로 시각화함이 일반적입니다."
   ]
  },
  {
   "cell_type": "markdown",
   "metadata": {
    "id": "xnAS4-iJgBM6"
   },
   "source": [
    "**1) 남녀별 판매 현황**\n",
    "\n",
    "- 남녀별 판매 현황을 막대 그래프로 시각화해 확인합니다."
   ]
  },
  {
   "cell_type": "code",
   "execution_count": 328,
   "metadata": {
    "id": "WEvcSWHSgBM6"
   },
   "outputs": [
    {
     "data": {
      "image/png": "[encoded data removed]",
      "text/plain": [
       "<Figure size 432x288 with 1 Axes>"
      ]
     },
     "metadata": {
      "image/png": {
       "height": 279,
       "width": 398
      },
      "needs_background": "light"
     },
     "output_type": "display_data"
    }
   ],
   "source": [
    "# 남녀별 판매 현황 tmp_g 데이터셋\n",
    "tmp_g = sales.groupby(by='Gender', as_index=False)['Qty'].count()\n",
    "\n",
    "plt.bar(tmp_g['Gender'], tmp_g['Qty'])\n",
    "plt.title('남녀별 판매 현황')\n",
    "plt.xlabel('남녀')\n",
    "plt.ylabel('판매 개수')\n",
    "plt.show()"
   ]
  },
  {
   "cell_type": "markdown",
   "metadata": {
    "id": "cN83XzDHgBM7"
   },
   "source": [
    "**2) 지역별 판매 현황**\n",
    "\n",
    "- 지역별 판매 현황을 막대 그래프로 시각화해 확인합니다."
   ]
  },
  {
   "cell_type": "code",
   "execution_count": 329,
   "metadata": {
    "id": "bvPb1xzogBM7",
    "scrolled": false
   },
   "outputs": [
    {
     "data": {
      "image/png": "[encoded data removed]",
      "text/plain": [
       "<Figure size 576x432 with 1 Axes>"
      ]
     },
     "metadata": {
      "image/png": {
       "height": 428,
       "width": 509
      },
      "needs_background": "light"
     },
     "output_type": "display_data"
    }
   ],
   "source": [
    "# 지역별 판매 현황 tmp_a 데이터셋\n",
    "tmp_a = sales.groupby(by='시도', as_index=False)['Qty'].count()\n",
    "tmp_a = tmp_a.sort_values(by='Qty', ascending=False)\n",
    "\n",
    "plt.figure(figsize=(8,6))\n",
    "plt.bar(tmp_a['시도'], tmp_a['Qty'])\n",
    "plt.title('지역별 판매 현황')\n",
    "plt.xlabel('시도')\n",
    "plt.ylabel('판매 개수')\n",
    "plt.xticks(rotation=70)\n",
    "plt.show()"
   ]
  },
  {
   "cell_type": "markdown",
   "metadata": {
    "id": "tOUH5zU8zf9k"
   },
   "source": [
    "**3) 경기도 지역의 세부적인 판매현황**\n",
    "- 경기도 지역의 판매 현황을 막대 그래프로 시각화해 확인합니다."
   ]
  },
  {
   "cell_type": "code",
   "execution_count": 330,
   "metadata": {
    "id": "mjefn46bzjWW"
   },
   "outputs": [
    {
     "data": {
      "image/png": "[encoded data removed]",
      "text/plain": [
       "<Figure size 720x576 with 1 Axes>"
      ]
     },
     "metadata": {
      "image/png": {
       "height": 527,
       "width": 615
      },
      "needs_background": "light"
     },
     "output_type": "display_data"
    }
   ],
   "source": [
    "# 경기도 지역 판매 현황 tmp_gg 데이터셋\n",
    "tmp_gg = sales.loc[sales['시도']=='경기도',:]\n",
    "tmp_gg = tmp_gg.groupby(by='구군', as_index=False)['Qty'].count()\n",
    "tmp_gg = tmp_gg.sort_values(by='Qty', ascending=False)\n",
    "\n",
    "plt.figure(figsize=(10, 8))\n",
    "plt.bar(tmp_gg['구군'], tmp_gg['Qty'])\n",
    "plt.title('경기도 지역 판매 현황')\n",
    "plt.xlabel('구군')\n",
    "plt.ylabel('판매 개수')\n",
    "plt.xticks(rotation=70)\n",
    "plt.show()"
   ]
  },
  {
   "cell_type": "markdown",
   "metadata": {
    "id": "RXHtLPhzzj-d"
   },
   "source": [
    "**4) (추가) 연도별 판매 현황**\n",
    "- 연도별 판매 현황을 막대 그래프로 시각화해 확인합니다."
   ]
  },
  {
   "cell_type": "code",
   "execution_count": 331,
   "metadata": {
    "id": "WaqWFfhazj-e"
   },
   "outputs": [
    {
     "data": {
      "image/png": "[encoded data removed]",
      "text/plain": [
       "<Figure size 576x432 with 1 Axes>"
      ]
     },
     "metadata": {
      "image/png": {
       "height": 392,
       "width": 509
      },
      "needs_background": "light"
     },
     "output_type": "display_data"
    }
   ],
   "source": [
    "# 연도별 판매 현황 tmp_y 데이터셋\n",
    "tmp_y = sales.groupby(by='OrderYear', as_index=False)['Qty'].count()\n",
    "tmp_y = tmp_y.sort_values(by='Qty', ascending=False)\n",
    "# tmp_y.value_counts()\n",
    "\n",
    "plt.figure(figsize=(8,6))\n",
    "plt.bar(tmp_y['OrderYear'], tmp_y['Qty'], width=0.5)\n",
    "plt.title('연도별 판매 현황')\n",
    "plt.xlabel('연도')\n",
    "plt.ylabel('판매 개수')\n",
    "plt.xticks(tmp_y['OrderYear'],[2016, 2017], fontsize=15)\n",
    "plt.show()"
   ]
  },
  {
   "cell_type": "markdown",
   "metadata": {
    "id": "whE4SZXmzkQR"
   },
   "source": [
    "**5) (추가) 월별 판매 현황**\n",
    "- 월별 판매 현황을 막대 그래프로 시각화해 확인합니다."
   ]
  },
  {
   "cell_type": "code",
   "execution_count": 332,
   "metadata": {
    "id": "PWk4bHvFzkQU",
    "scrolled": true
   },
   "outputs": [
    {
     "data": {
      "image/png": "[encoded data removed]",
      "text/plain": [
       "<Figure size 576x432 with 1 Axes>"
      ]
     },
     "metadata": {
      "image/png": {
       "height": 392,
       "width": 509
      },
      "needs_background": "light"
     },
     "output_type": "display_data"
    }
   ],
   "source": [
    "# 월별 판매 현황 tmp_y 데이터셋\n",
    "tmp_m = sales.groupby(by='OrderMonth', as_index=False)['Qty'].count()\n",
    "\n",
    "plt.figure(figsize=(8,6))\n",
    "plt.bar(tmp_m['OrderMonth'], tmp_m['Qty'], width=0.5)\n",
    "plt.title('월별 판매 현황')\n",
    "plt.xlabel('월')\n",
    "plt.ylabel('판매 개수')\n",
    "plt.xticks(tmp_m['OrderMonth'],range(1,13), fontsize=15)\n",
    "plt.grid(axis='y')\n",
    "plt.show()"
   ]
  },
  {
   "cell_type": "markdown",
   "metadata": {},
   "source": [
    "6) (추가) 요일별 판매 현황\n",
    "\n",
    "- 요일별 판매 현황을 막대 그래프로 시각화해 확인합니다."
   ]
  },
  {
   "cell_type": "code",
   "execution_count": 333,
   "metadata": {},
   "outputs": [
    {
     "data": {
      "image/png": "[encoded data removed]",
      "text/plain": [
       "<Figure size 576x432 with 1 Axes>"
      ]
     },
     "metadata": {
      "image/png": {
       "height": 392,
       "width": 509
      },
      "needs_background": "light"
     },
     "output_type": "display_data"
    }
   ],
   "source": [
    "# 요일별 판매 현황 tmp_y 데이터셋\n",
    "tmp_w = sales.groupby(by='OrderWeekday', as_index=False)['Qty'].count()\n",
    "\n",
    "plt.figure(figsize=(8,6))\n",
    "plt.bar(tmp_w['OrderWeekday'], tmp_w['Qty'], width=0.5)\n",
    "plt.title('요일별 판매 현황')\n",
    "plt.xlabel('요일')\n",
    "plt.ylabel('판매 개수')\n",
    "plt.xticks(tmp_w['OrderWeekday'],list('월화수목금토일'), fontsize=15)\n",
    "plt.show()"
   ]
  },
  {
   "cell_type": "markdown",
   "metadata": {
    "id": "ajTIZ9gNgBM7"
   },
   "source": [
    "## 5.고객 분류\n",
    "\n",
    "* 고객을 등급을 나눠 판매 현황을 분석하고 이에 따른 판매 전략을 수립하려합니다.\n",
    "- 우선 고객을 일정 기준에 따라 분류하고 등급을 지정해야 합니다.\n",
    "- 다음과 같은 순서로 처리하면 될 것입니다.\n",
    "    - 고객별 주문 수량 합, 판매 금액 합을 갖는 데이터프레임 선언\n",
    "    - 고객 분류 기준과 이 기준에 따른 등급 이름 정의\n",
    "    - 고객 등급을 갖는 새로운 Level 열 추가"
   ]
  },
  {
   "cell_type": "markdown",
   "metadata": {
    "id": "oYwVs7u2gBM7"
   },
   "source": [
    "**1) 고객별 집계**\n",
    "\n",
    "* 고객별 주문 수량 합, 판매 금액 합을 갖는 cst 데이터프레임을 선언합니다."
   ]
  },
  {
   "cell_type": "code",
   "execution_count": 334,
   "metadata": {
    "id": "JHF506hggBM8"
   },
   "outputs": [
    {
     "data": {
      "text/html": [
       "<div>\n",
       "<style scoped>\n",
       "    .dataframe tbody tr th:only-of-type {\n",
       "        vertical-align: middle;\n",
       "    }\n",
       "\n",
       "    .dataframe tbody tr th {\n",
       "        vertical-align: top;\n",
       "    }\n",
       "\n",
       "    .dataframe thead th {\n",
       "        text-align: right;\n",
       "    }\n",
       "</style>\n",
       "<table border=\"1\" class=\"dataframe\">\n",
       "  <thead>\n",
       "    <tr style=\"text-align: right;\">\n",
       "      <th></th>\n",
       "      <th>CustomerID</th>\n",
       "      <th>Seq</th>\n",
       "      <th>Amt</th>\n",
       "    </tr>\n",
       "  </thead>\n",
       "  <tbody>\n",
       "    <tr>\n",
       "      <th>0</th>\n",
       "      <td>c017487</td>\n",
       "      <td>158</td>\n",
       "      <td>296447</td>\n",
       "    </tr>\n",
       "    <tr>\n",
       "      <th>1</th>\n",
       "      <td>c017503</td>\n",
       "      <td>53</td>\n",
       "      <td>160444</td>\n",
       "    </tr>\n",
       "    <tr>\n",
       "      <th>2</th>\n",
       "      <td>c017517</td>\n",
       "      <td>243</td>\n",
       "      <td>317590</td>\n",
       "    </tr>\n",
       "    <tr>\n",
       "      <th>3</th>\n",
       "      <td>c017522</td>\n",
       "      <td>85</td>\n",
       "      <td>219849</td>\n",
       "    </tr>\n",
       "    <tr>\n",
       "      <th>4</th>\n",
       "      <td>c017526</td>\n",
       "      <td>40</td>\n",
       "      <td>48881</td>\n",
       "    </tr>\n",
       "    <tr>\n",
       "      <th>...</th>\n",
       "      <td>...</td>\n",
       "      <td>...</td>\n",
       "      <td>...</td>\n",
       "    </tr>\n",
       "    <tr>\n",
       "      <th>2232</th>\n",
       "      <td>c400937</td>\n",
       "      <td>1</td>\n",
       "      <td>1650</td>\n",
       "    </tr>\n",
       "    <tr>\n",
       "      <th>2233</th>\n",
       "      <td>c401555</td>\n",
       "      <td>4</td>\n",
       "      <td>11940</td>\n",
       "    </tr>\n",
       "    <tr>\n",
       "      <th>2234</th>\n",
       "      <td>c401584</td>\n",
       "      <td>3</td>\n",
       "      <td>6509</td>\n",
       "    </tr>\n",
       "    <tr>\n",
       "      <th>2235</th>\n",
       "      <td>c402010</td>\n",
       "      <td>6</td>\n",
       "      <td>20650</td>\n",
       "    </tr>\n",
       "    <tr>\n",
       "      <th>2236</th>\n",
       "      <td>c402634</td>\n",
       "      <td>6</td>\n",
       "      <td>4850</td>\n",
       "    </tr>\n",
       "  </tbody>\n",
       "</table>\n",
       "<p>2237 rows × 3 columns</p>\n",
       "</div>"
      ],
      "text/plain": [
       "     CustomerID  Seq     Amt\n",
       "0       c017487  158  296447\n",
       "1       c017503   53  160444\n",
       "2       c017517  243  317590\n",
       "3       c017522   85  219849\n",
       "4       c017526   40   48881\n",
       "...         ...  ...     ...\n",
       "2232    c400937    1    1650\n",
       "2233    c401555    4   11940\n",
       "2234    c401584    3    6509\n",
       "2235    c402010    6   20650\n",
       "2236    c402634    6    4850\n",
       "\n",
       "[2237 rows x 3 columns]"
      ]
     },
     "execution_count": 334,
     "metadata": {},
     "output_type": "execute_result"
    }
   ],
   "source": [
    "cst = sales.groupby(by='CustomerID', as_index=False)[['Seq','Amt']].sum()\n",
    "cst"
   ]
  },
  {
   "cell_type": "markdown",
   "metadata": {
    "id": "Se7JGfL4gBM8"
   },
   "source": [
    "**2) 고객 분류 기준 찾기**\n",
    "\n",
    "- 고객 등급 분류 기준을 찾기 위해 관련 데이터를 확인합니다."
   ]
  },
  {
   "cell_type": "code",
   "execution_count": 335,
   "metadata": {
    "id": "OjoihrbtgBM8"
   },
   "outputs": [
    {
     "data": {
      "text/html": [
       "<div>\n",
       "<style scoped>\n",
       "    .dataframe tbody tr th:only-of-type {\n",
       "        vertical-align: middle;\n",
       "    }\n",
       "\n",
       "    .dataframe tbody tr th {\n",
       "        vertical-align: top;\n",
       "    }\n",
       "\n",
       "    .dataframe thead th {\n",
       "        text-align: right;\n",
       "    }\n",
       "</style>\n",
       "<table border=\"1\" class=\"dataframe\">\n",
       "  <thead>\n",
       "    <tr style=\"text-align: right;\">\n",
       "      <th></th>\n",
       "      <th>Seq</th>\n",
       "      <th>Amt</th>\n",
       "    </tr>\n",
       "  </thead>\n",
       "  <tbody>\n",
       "    <tr>\n",
       "      <th>count</th>\n",
       "      <td>2237.000000</td>\n",
       "      <td>2.237000e+03</td>\n",
       "    </tr>\n",
       "    <tr>\n",
       "      <th>mean</th>\n",
       "      <td>64.088511</td>\n",
       "      <td>8.761226e+04</td>\n",
       "    </tr>\n",
       "    <tr>\n",
       "      <th>std</th>\n",
       "      <td>114.006650</td>\n",
       "      <td>1.401784e+05</td>\n",
       "    </tr>\n",
       "    <tr>\n",
       "      <th>min</th>\n",
       "      <td>1.000000</td>\n",
       "      <td>2.730000e+02</td>\n",
       "    </tr>\n",
       "    <tr>\n",
       "      <th>25%</th>\n",
       "      <td>4.000000</td>\n",
       "      <td>8.450000e+03</td>\n",
       "    </tr>\n",
       "    <tr>\n",
       "      <th>50%</th>\n",
       "      <td>19.000000</td>\n",
       "      <td>3.015000e+04</td>\n",
       "    </tr>\n",
       "    <tr>\n",
       "      <th>75%</th>\n",
       "      <td>68.000000</td>\n",
       "      <td>1.026730e+05</td>\n",
       "    </tr>\n",
       "    <tr>\n",
       "      <th>max</th>\n",
       "      <td>1612.000000</td>\n",
       "      <td>1.245250e+06</td>\n",
       "    </tr>\n",
       "  </tbody>\n",
       "</table>\n",
       "</div>"
      ],
      "text/plain": [
       "               Seq           Amt\n",
       "count  2237.000000  2.237000e+03\n",
       "mean     64.088511  8.761226e+04\n",
       "std     114.006650  1.401784e+05\n",
       "min       1.000000  2.730000e+02\n",
       "25%       4.000000  8.450000e+03\n",
       "50%      19.000000  3.015000e+04\n",
       "75%      68.000000  1.026730e+05\n",
       "max    1612.000000  1.245250e+06"
      ]
     },
     "execution_count": 335,
     "metadata": {},
     "output_type": "execute_result"
    }
   ],
   "source": [
    "cst.describe()"
   ]
  },
  {
   "cell_type": "code",
   "execution_count": 336,
   "metadata": {},
   "outputs": [
    {
     "data": {
      "text/plain": [
       "count    2237.000000\n",
       "mean       64.088511\n",
       "std       114.006650\n",
       "min         1.000000\n",
       "25%         4.000000\n",
       "50%        19.000000\n",
       "75%        68.000000\n",
       "90%       194.000000\n",
       "max      1612.000000\n",
       "Name: Seq, dtype: float64"
      ]
     },
     "execution_count": 336,
     "metadata": {},
     "output_type": "execute_result"
    }
   ],
   "source": [
    "# 주문 수량 분위수\n",
    "cst.Seq.describe(percentiles=[0.25,0.75,.9])"
   ]
  },
  {
   "cell_type": "code",
   "execution_count": 337,
   "metadata": {},
   "outputs": [
    {
     "data": {
      "text/plain": [
       "count    2.237000e+03\n",
       "mean     8.761226e+04\n",
       "std      1.401784e+05\n",
       "min      2.730000e+02\n",
       "25%      8.450000e+03\n",
       "50%      3.015000e+04\n",
       "75%      1.026730e+05\n",
       "90%      2.604376e+05\n",
       "max      1.245250e+06\n",
       "Name: Amt, dtype: float64"
      ]
     },
     "execution_count": 337,
     "metadata": {},
     "output_type": "execute_result"
    }
   ],
   "source": [
    "# 주문 금액 분위수\n",
    "cst.Amt.describe(percentiles=[0.25,0.75,.9])"
   ]
  },
  {
   "cell_type": "markdown",
   "metadata": {
    "id": "OqXtZMluFrHv"
   },
   "source": [
    "**3) 고객 분류 기준 정리**\n",
    "\n",
    "- 고객 등급 분류 기준과 그 기준에 따른 등급 이름을 정리합니다.\n",
    "- 예를 들면 다음과 같은 기준과 등급 이름을 정의할 수 있을 것입니다.\n",
    "    - ~ 30,000: Family\n",
    "    - 30,000 ~ 100,000: Bronze\n",
    "    - 100,000 ~ 300,000: Silver\n",
    "    - 300,000 ~ : Gold\n",
    "    - 600,000 ~ : Platinum\n",
    "- 분류 기준과 등급 이름\n",
    "    -  [총 주문 수량] 5 ~ 20  & [총 주문 금액] 8,500 ~ 30,000 : Bronze\n",
    "    -  [총 주문 수량] 20 ~ 70 & [총 주문 금액] 30,000 ~ 100,000 : Silver\n",
    "    -  [총 주문 수량] 70 ~ 200 & [총 주문 금액] 100,000 ~ 250,000 : Gold\n",
    "    -  [총 주문 수량] 200 ~  & [총 주문 금액] 250,000 ~ : Platinum"
   ]
  },
  {
   "cell_type": "markdown",
   "metadata": {
    "id": "aav9vJSTgBM8"
   },
   "source": [
    "**4) 고객 등급 반영**\n",
    "\n",
    "- 각자 정의한 기준에 따라 고객 등급을 Level 열로 저장합니다."
   ]
  },
  {
   "cell_type": "code",
   "execution_count": 338,
   "metadata": {
    "id": "QgxDdl-EgBM8"
   },
   "outputs": [],
   "source": [
    "# q1 = cst.describe().loc['25%',:'Seq']\n",
    "# q2 = cst.describe().loc['50%',:'Seq']\n",
    "# q3 = cst.describe().loc['75%',:'Seq']\n",
    "# q4 = cst.Amt.describe(percentiles=[.9])\n",
    "# print(q3,q4)\n",
    "# bin = [-np.inf, q1, q2, q3, q4, np.inf]\n",
    "# label = ['Family','bronze','silver','gold','platinum']\n",
    "\n",
    "# cst['Label'] = pd.cut(cst['Seq'], bins=bin, labels=label)\n",
    "# cst['Level'] = 1\n",
    "# cst['Level'][cst.loc[(cst['Seq']<5) & (cst['Amt']<8500) , : ]] = 'Family'\n",
    "# cst['Level'][cst.loc[(5<=cst['Seq']<20) & (8500<=cst['Amt']<30000) , : ]] = 'Bronze'\n",
    "# cst['Level'][cst.loc[(20<=cst['Seq']<70) & (30000<=cst['Amt']<100000) , : ]] = 'Silver'\n",
    "# cst['Level'][cst.loc[(70<=cst['Seq']<200) & (100000<=cst['Amt']<250000) , : ]] = 'Gold'\n",
    "# cst['Level'][cst.loc[(200<=cst['Seq']<5) & (250000<=cst['Amt']<8500) , : ]] = 'Platinum'\n",
    "\n",
    "# for i in range(len(cst)):\n",
    "#     if cst['Seq']<5 & cst['Amt']<8500 :\n",
    "#         cst['Level'] = 'Family'\n",
    "#     elif 5<=cst['Seq']<20 & 8500<=cst['Amt']<30000 : \n",
    "#         cst['Level'] = 'Bronze'\n",
    "#     elif 20<=cst['Seq']<70 & 30000<=cst['Amt']<100000 : \n",
    "#         cst['Level'] = 'Silver'\n",
    "#     elif 70<=cst['Seq']<200 & 100000<=cst['Amt']<250000 : \n",
    "#         cst['Level'] = 'Gold'\n",
    "#     else : \n",
    "#         cst['Level'] = 'Platinum'"
   ]
  },
  {
   "cell_type": "code",
   "execution_count": 339,
   "metadata": {},
   "outputs": [],
   "source": [
    "q1 = cst.describe().loc['25%','Seq']\n",
    "q2 = cst.describe().loc['50%','Seq']\n",
    "q3 = cst.describe().loc['75%','Seq']\n",
    "\n",
    "bin = [-np.inf, q1, q2, q3, np.inf]\n",
    "label = ['bronze','silver','gold','platinum']\n",
    "# [cst['Seq'],cst['Amt']]\n",
    "cst['Level'] = pd.cut(cst['Seq'], bins=bin, labels=label )"
   ]
  },
  {
   "cell_type": "markdown",
   "metadata": {
    "id": "krCEvndzGUiq"
   },
   "source": [
    "- 등급별 고객 수를 확인해 등급이 적절히 나뉘었는지 검증합니다.\n",
    "- 검증 결과가 적절하지 않다면 위 기준을 변경해 등급을 다시 나눕니다."
   ]
  },
  {
   "cell_type": "code",
   "execution_count": 340,
   "metadata": {
    "id": "6G2TSGW1gBM8"
   },
   "outputs": [
    {
     "data": {
      "text/plain": [
       "bronze      601\n",
       "platinum    556\n",
       "gold        545\n",
       "silver      535\n",
       "Name: Level, dtype: int64"
      ]
     },
     "execution_count": 340,
     "metadata": {},
     "output_type": "execute_result"
    }
   ],
   "source": [
    "cst['Level'].value_counts()"
   ]
  },
  {
   "cell_type": "markdown",
   "metadata": {
    "id": "xRweF7aygBM9"
   },
   "source": [
    "## 6.등급별 고객 분석 : 4가지 이상\n",
    "\n",
    "- 고객 등급을 기준으로 다양한 분석을 진행합니다.\n",
    "- 등급 별 분석은 판매 전략을 새롭게 수립하는 데 중요한 자료가 될 것입니다.\n",
    "- 분석 과정에서 판매 전략에 대한 부분을 고민해 보시기 바랍니다."
   ]
  },
  {
   "cell_type": "markdown",
   "metadata": {
    "id": "FhuIC1EigBM9"
   },
   "source": [
    "**1) 등급별 판매 수량**\n",
    "\n",
    "- 고객 등급별 판매 수량을 막대 그래프로 시각화해 확인합니다."
   ]
  },
  {
   "cell_type": "code",
   "execution_count": 341,
   "metadata": {
    "id": "fQMK4rnLgBM9"
   },
   "outputs": [
    {
     "data": {
      "image/png": "[encoded data removed]",
      "text/plain": [
       "<Figure size 576x432 with 1 Axes>"
      ]
     },
     "metadata": {
      "image/png": {
       "height": 392,
       "width": 504
      },
      "needs_background": "light"
     },
     "output_type": "display_data"
    }
   ],
   "source": [
    "plt.figure(figsize=(8,6))\n",
    "plt.bar(cst['Level'], cst['Seq'], width=0.5)\n",
    "plt.title('고객 등급별 판매 수량')\n",
    "plt.xlabel('고객 등급')\n",
    "plt.ylabel('판매 수량')\n",
    "plt.xticks(fontsize=15)\n",
    "plt.show()"
   ]
  },
  {
   "cell_type": "markdown",
   "metadata": {
    "id": "hOZBoX2KgBM9"
   },
   "source": [
    "**2) 등급별 판매 금액**\n",
    "\n",
    "- 고객 등급별 판매 금액을 막대 그래프로 시각화해 확인합니다. "
   ]
  },
  {
   "cell_type": "code",
   "execution_count": 342,
   "metadata": {
    "id": "pSovttlfgBM-",
    "scrolled": false
   },
   "outputs": [
    {
     "data": {
      "image/png": "[encoded data removed]",
      "text/plain": [
       "<Figure size 576x432 with 1 Axes>"
      ]
     },
     "metadata": {
      "image/png": {
       "height": 392,
       "width": 520
      },
      "needs_background": "light"
     },
     "output_type": "display_data"
    }
   ],
   "source": [
    "plt.figure(figsize=(8,6))\n",
    "plt.bar(cst['Level'], cst['Amt'], width=0.5)\n",
    "plt.title('고객 등급별 판매 금액')\n",
    "plt.xlabel('고객 등급')\n",
    "plt.ylabel('판매 금액')\n",
    "plt.xticks(fontsize=15)\n",
    "plt.ticklabel_format(axis='y', style='plain')\n",
    "plt.show()"
   ]
  },
  {
   "cell_type": "markdown",
   "metadata": {
    "id": "roH6tulQz6ib"
   },
   "source": [
    "**3) (추가) 등급별 고객 비율**"
   ]
  },
  {
   "cell_type": "code",
   "execution_count": 343,
   "metadata": {
    "id": "8ZBjHX04z6ie"
   },
   "outputs": [
    {
     "data": {
      "image/png": "[encoded data removed]",
      "text/plain": [
       "<Figure size 432x288 with 1 Axes>"
      ]
     },
     "metadata": {
      "image/png": {
       "height": 279,
       "width": 372
      },
      "needs_background": "light"
     },
     "output_type": "display_data"
    }
   ],
   "source": [
    "cst_new = pd.merge(cst, customers, on='CustomerID', how='inner')\n",
    "tmp = cst_new.groupby(by='Level', as_index=False)['Gender'].count()\n",
    "tmp\n",
    "\n",
    "plt.bar(tmp['Level'], tmp['Gender'])\n",
    "plt.title('등급별 고객 비율')\n",
    "plt.xlabel('등급')\n",
    "plt.show()"
   ]
  },
  {
   "cell_type": "markdown",
   "metadata": {
    "id": "Kzbj_osuz9uj"
   },
   "source": [
    "**4) (추가) 등급별 평균 판매 금액 **"
   ]
  },
  {
   "cell_type": "code",
   "execution_count": 346,
   "metadata": {
    "id": "UrsREvDFz9uk"
   },
   "outputs": [
    {
     "data": {
      "image/png": "[encoded data removed]",
      "text/plain": [
       "<Figure size 576x432 with 1 Axes>"
      ]
     },
     "metadata": {
      "image/png": {
       "height": 392,
       "width": 509
      },
      "needs_background": "light"
     },
     "output_type": "display_data"
    }
   ],
   "source": [
    "plt.figure(figsize=(8,6))\n",
    "plt.bar(cst['Level'], cst['Amt']/cst['Seq'], width=0.5)\n",
    "plt.title('고객 등급별 평균 판매 금액')\n",
    "plt.xlabel('고객 등급')\n",
    "plt.ylabel('평균 판매 금액')\n",
    "plt.xticks(fontsize=15)\n",
    "plt.ticklabel_format(axis='y', style='plain')\n",
    "plt.show()"
   ]
  },
  {
   "cell_type": "markdown",
   "metadata": {
    "id": "yoSBcxGigBM-"
   },
   "source": [
    "## 7.정리\n",
    "\n",
    "- 분석을 통해 확인한 내용을 정리합니다."
   ]
  },
  {
   "cell_type": "markdown",
   "metadata": {
    "id": "dVvspGWngBM-"
   },
   "source": [
    "**1) 의견**\n",
    "\n",
    "\n",
    "\n",
    "\n"
   ]
  },
  {
   "cell_type": "markdown",
   "metadata": {
    "id": "127KsaRJgBM-"
   },
   "source": [
    "- 소매점에서의 판매가 수도권을 중심으로 많이 이뤄지는 것으로 파악된다.\n",
    "- 시도 중 경기도에서 판매가 가장 많이 이뤄지는데, 경기도 구군 단위로 파악하면 모든 경기도 구군에서 판매가 이뤄지는 것이 아닌 특정 지역에서 많이 이뤄지는 것으로 보아 그 지역을 중심에 인구가 밀집되어 있고 경제활동이 많이 이뤄지는 것으로 보인다.\n",
    "- 연도별 판매에서 2017년에 판매량 수가 급감을 했음을 알 수 있다. 소매점의 판매전략, 홍보방법, 판매제품의 신선도 관리 등 다방면에서 관리가 이뤄져야 할 필요가 보인다.\n",
    "- 월별 판매에서 1분기인 1~3월까지 판매량 수가 가장 많음을 알 수 있다. 나머지 분기에 대한 전략이 필요해보인다."
   ]
  }
 ],
 "metadata": {
  "colab": {
   "collapsed_sections": [],
   "name": "X04 - [레벨업] 소매점 판매 현황.ipynb",
   "provenance": []
  },
  "kernelspec": {
   "display_name": "Python 3",
   "language": "python",
   "name": "python3"
  },
  "language_info": {
   "codemirror_mode": {
    "name": "ipython",
    "version": 3
   },
   "file_extension": ".py",
   "mimetype": "text/x-python",
   "name": "python",
   "nbconvert_exporter": "python",
   "pygments_lexer": "ipython3",
   "version": "3.8.8"
  }
 },
 "nbformat": 4,
 "nbformat_minor": 1
}
