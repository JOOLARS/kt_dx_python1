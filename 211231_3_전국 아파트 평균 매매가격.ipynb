{
 "cells": [
  {
   "cell_type": "markdown",
   "metadata": {
    "id": "E-qoYWgOC_yk"
   },
   "source": [
    "<center><img src='https://raw.githubusercontent.com/Jangrae/img/master/title.png' width=500/></center>"
   ]
  },
  {
   "cell_type": "markdown",
   "metadata": {
    "id": "BFhIXgdYoYGp"
   },
   "source": [
    "<center><img src='https://raw.githubusercontent.com/Jangrae/img/master/practice3.png' width=300/></center>"
   ]
  },
  {
   "cell_type": "markdown",
   "metadata": {
    "id": "TwTW06tUyUxp"
   },
   "source": [
    "<center>본 실습에서 요구하는 내용 외에도 다양한 내용을 스스로 추가하여  탐색하고 분석해 보기를 권고합니다.</center>"
   ]
  },
  {
   "cell_type": "markdown",
   "metadata": {
    "id": "Xi_yurwiORB7"
   },
   "source": [
    "# 전국 아파트 평균 매매가격"
   ]
  },
  {
   "cell_type": "markdown",
   "metadata": {
    "id": "9D-jtyRW6hjJ"
   },
   "source": [
    "<img src='https://raw.githubusercontent.com/Jangrae/img/master/apart.png' width=\"650\" align=\"left\">"
   ]
  },
  {
   "cell_type": "markdown",
   "metadata": {
    "id": "qb1iLyXwGlnw"
   },
   "source": [
    "## 1.환경 설정\n",
    "\n",
    "- 데이터 탐색과 전처리를 하기 전 라이브러리와 파일을 읽어옵니다.\n",
    "- 시각화에 한글이 포함된 경우 이에 대한 설정을 진행합니다."
   ]
  },
  {
   "cell_type": "markdown",
   "metadata": {
    "id": "PK8ZI9P5mRV8"
   },
   "source": [
    "**1) 한글 설정**\n",
    "\n",
    "- Jupyter Notebook 시각화에 한글이 표시되게 설정합니다."
   ]
  },
  {
   "cell_type": "code",
   "execution_count": 1,
   "metadata": {
    "id": "lyk2U1RZmRV9"
   },
   "outputs": [],
   "source": [
    "# 라이브러리 불러오기\n",
    "import matplotlib \n",
    "import matplotlib.pyplot as plt\n",
    "\n",
    "# 폰트설정\n",
    "matplotlib.font_manager._rebuild()\n",
    "plt.rc('font', family='Malgun Gothic')\n",
    "plt.rcParams['axes.unicode_minus'] = False"
   ]
  },
  {
   "cell_type": "markdown",
   "metadata": {
    "id": "0uNXxebRGrd8"
   },
   "source": [
    "**2) 라이브러리 불러오기**\n",
    "\n",
    "- 사용할 라이브러리를 불러옵니다."
   ]
  },
  {
   "cell_type": "code",
   "execution_count": 2,
   "metadata": {
    "id": "p3lUS_fyqvnh"
   },
   "outputs": [],
   "source": [
    "# 라이브러리 불러오기\n",
    "import numpy as np\n",
    "import pandas as pd\n",
    "import matplotlib.pyplot as plt\n",
    "\n",
    "%config InlineBackend.figure_format = 'retina'"
   ]
  },
  {
   "cell_type": "markdown",
   "metadata": {
    "id": "ul8zKgxCqvnh"
   },
   "source": [
    "**3) 데이터 읽어오기**\n",
    "\n",
    "- 다음 경로의 파일을 읽어와 apart 데이터프레임을 만드세요.\n",
    "- 파일 경로: 'https://raw.githubusercontent.com/Jangrae/csv/master/apart_price.csv\n",
    "- 단축 경로: 'https://bit.ly/ApartFile'\n",
    "- Decoding 오류가 발생하면 encoding='CP949' 옵션을 지정해 읽어옵니다."
   ]
  },
  {
   "cell_type": "code",
   "execution_count": 131,
   "metadata": {
    "id": "enhGxkyt0KcI"
   },
   "outputs": [],
   "source": [
    "# 데이터 읽어오기\n",
    "path = 'https://bit.ly/ApartFile'\n",
    "apart = pd.read_csv(path, encoding='CP949')"
   ]
  },
  {
   "cell_type": "markdown",
   "metadata": {
    "id": "1O_usuOg0KcP"
   },
   "source": [
    "## 2.데이터 탐색\n",
    "\n",
    "다음과 같은 정보 확인을 통해 처리할 대상 데이터를 이해합니다.\n",
    "- 상/하위 데이터 확인\n",
    "- 데이터프레임 크기 확인\n",
    "- 열 이름, 데이터 형식, 값 개수 등 확인\n",
    "- 기초 통계정보 확인\n",
    "- 결측치 확인\n",
    "- 범주형 데이터 확인\n",
    "- 개별 열 값 상세 확인 등"
   ]
  },
  {
   "cell_type": "markdown",
   "metadata": {
    "id": "Lxus78Ii0KcR"
   },
   "source": [
    "**1) 상/하위 데이터 확인**\n",
    "\n",
    "- 상/하위 데이터를 확인합니다."
   ]
  },
  {
   "cell_type": "code",
   "execution_count": 7,
   "metadata": {
    "id": "L10e2SPG0KcS",
    "scrolled": true
   },
   "outputs": [
    {
     "data": {
      "text/html": [
       "<div>\n",
       "<style scoped>\n",
       "    .dataframe tbody tr th:only-of-type {\n",
       "        vertical-align: middle;\n",
       "    }\n",
       "\n",
       "    .dataframe tbody tr th {\n",
       "        vertical-align: top;\n",
       "    }\n",
       "\n",
       "    .dataframe thead th {\n",
       "        text-align: right;\n",
       "    }\n",
       "</style>\n",
       "<table border=\"1\" class=\"dataframe\">\n",
       "  <thead>\n",
       "    <tr style=\"text-align: right;\">\n",
       "      <th></th>\n",
       "      <th>지역1</th>\n",
       "      <th>지역2</th>\n",
       "      <th>2020-08</th>\n",
       "      <th>2020-09</th>\n",
       "      <th>2020-10</th>\n",
       "      <th>2020-11</th>\n",
       "      <th>2020-12</th>\n",
       "      <th>2021-01</th>\n",
       "      <th>2021-02</th>\n",
       "      <th>2021-03</th>\n",
       "      <th>2021-04</th>\n",
       "      <th>2021-05</th>\n",
       "      <th>2021-06</th>\n",
       "      <th>2021-07</th>\n",
       "    </tr>\n",
       "  </thead>\n",
       "  <tbody>\n",
       "    <tr>\n",
       "      <th>0</th>\n",
       "      <td>서울</td>\n",
       "      <td>종로구</td>\n",
       "      <td>1029542</td>\n",
       "      <td>1033625</td>\n",
       "      <td>1036486</td>\n",
       "      <td>1036681</td>\n",
       "      <td>1037986</td>\n",
       "      <td>1039903</td>\n",
       "      <td>1041444</td>\n",
       "      <td>1044347</td>\n",
       "      <td>1045819</td>\n",
       "      <td>1047819</td>\n",
       "      <td>1048722</td>\n",
       "      <td>1050750</td>\n",
       "    </tr>\n",
       "    <tr>\n",
       "      <th>1</th>\n",
       "      <td>서울</td>\n",
       "      <td>중구</td>\n",
       "      <td>802257</td>\n",
       "      <td>806143</td>\n",
       "      <td>807771</td>\n",
       "      <td>808743</td>\n",
       "      <td>809900</td>\n",
       "      <td>812157</td>\n",
       "      <td>814614</td>\n",
       "      <td>820100</td>\n",
       "      <td>822257</td>\n",
       "      <td>823314</td>\n",
       "      <td>824371</td>\n",
       "      <td>829486</td>\n",
       "    </tr>\n",
       "    <tr>\n",
       "      <th>2</th>\n",
       "      <td>서울</td>\n",
       "      <td>용산구</td>\n",
       "      <td>1399354</td>\n",
       "      <td>1406439</td>\n",
       "      <td>1411232</td>\n",
       "      <td>1412659</td>\n",
       "      <td>1413768</td>\n",
       "      <td>1416951</td>\n",
       "      <td>1421012</td>\n",
       "      <td>1427366</td>\n",
       "      <td>1430780</td>\n",
       "      <td>1434768</td>\n",
       "      <td>1439390</td>\n",
       "      <td>1445073</td>\n",
       "    </tr>\n",
       "    <tr>\n",
       "      <th>3</th>\n",
       "      <td>서울</td>\n",
       "      <td>성동구</td>\n",
       "      <td>910716</td>\n",
       "      <td>916402</td>\n",
       "      <td>918667</td>\n",
       "      <td>920020</td>\n",
       "      <td>921108</td>\n",
       "      <td>923402</td>\n",
       "      <td>927029</td>\n",
       "      <td>934049</td>\n",
       "      <td>938029</td>\n",
       "      <td>940000</td>\n",
       "      <td>942235</td>\n",
       "      <td>947157</td>\n",
       "    </tr>\n",
       "    <tr>\n",
       "      <th>4</th>\n",
       "      <td>서울</td>\n",
       "      <td>광진구</td>\n",
       "      <td>1021037</td>\n",
       "      <td>1025866</td>\n",
       "      <td>1029256</td>\n",
       "      <td>1030878</td>\n",
       "      <td>1032220</td>\n",
       "      <td>1034524</td>\n",
       "      <td>1038378</td>\n",
       "      <td>1047439</td>\n",
       "      <td>1053024</td>\n",
       "      <td>1056524</td>\n",
       "      <td>1059476</td>\n",
       "      <td>1063805</td>\n",
       "    </tr>\n",
       "  </tbody>\n",
       "</table>\n",
       "</div>"
      ],
      "text/plain": [
       "  지역1  지역2  2020-08  2020-09  2020-10  2020-11  2020-12  2021-01  2021-02  \\\n",
       "0  서울  종로구  1029542  1033625  1036486  1036681  1037986  1039903  1041444   \n",
       "1  서울   중구   802257   806143   807771   808743   809900   812157   814614   \n",
       "2  서울  용산구  1399354  1406439  1411232  1412659  1413768  1416951  1421012   \n",
       "3  서울  성동구   910716   916402   918667   920020   921108   923402   927029   \n",
       "4  서울  광진구  1021037  1025866  1029256  1030878  1032220  1034524  1038378   \n",
       "\n",
       "   2021-03  2021-04  2021-05  2021-06  2021-07  \n",
       "0  1044347  1045819  1047819  1048722  1050750  \n",
       "1   820100   822257   823314   824371   829486  \n",
       "2  1427366  1430780  1434768  1439390  1445073  \n",
       "3   934049   938029   940000   942235   947157  \n",
       "4  1047439  1053024  1056524  1059476  1063805  "
      ]
     },
     "execution_count": 7,
     "metadata": {},
     "output_type": "execute_result"
    }
   ],
   "source": [
    "# 상위 5개 행 확인\n",
    "apart.head()"
   ]
  },
  {
   "cell_type": "code",
   "execution_count": 8,
   "metadata": {
    "id": "r6tiodOr0KcZ",
    "scrolled": true
   },
   "outputs": [
    {
     "data": {
      "text/html": [
       "<div>\n",
       "<style scoped>\n",
       "    .dataframe tbody tr th:only-of-type {\n",
       "        vertical-align: middle;\n",
       "    }\n",
       "\n",
       "    .dataframe tbody tr th {\n",
       "        vertical-align: top;\n",
       "    }\n",
       "\n",
       "    .dataframe thead th {\n",
       "        text-align: right;\n",
       "    }\n",
       "</style>\n",
       "<table border=\"1\" class=\"dataframe\">\n",
       "  <thead>\n",
       "    <tr style=\"text-align: right;\">\n",
       "      <th></th>\n",
       "      <th>지역1</th>\n",
       "      <th>지역2</th>\n",
       "      <th>2020-08</th>\n",
       "      <th>2020-09</th>\n",
       "      <th>2020-10</th>\n",
       "      <th>2020-11</th>\n",
       "      <th>2020-12</th>\n",
       "      <th>2021-01</th>\n",
       "      <th>2021-02</th>\n",
       "      <th>2021-03</th>\n",
       "      <th>2021-04</th>\n",
       "      <th>2021-05</th>\n",
       "      <th>2021-06</th>\n",
       "      <th>2021-07</th>\n",
       "    </tr>\n",
       "  </thead>\n",
       "  <tbody>\n",
       "    <tr>\n",
       "      <th>182</th>\n",
       "      <td>경남</td>\n",
       "      <td>밀양시</td>\n",
       "      <td>126455</td>\n",
       "      <td>126261</td>\n",
       "      <td>125989</td>\n",
       "      <td>125727</td>\n",
       "      <td>125773</td>\n",
       "      <td>125625</td>\n",
       "      <td>125977</td>\n",
       "      <td>126977</td>\n",
       "      <td>127614</td>\n",
       "      <td>127932</td>\n",
       "      <td>128364</td>\n",
       "      <td>129125</td>\n",
       "    </tr>\n",
       "    <tr>\n",
       "      <th>183</th>\n",
       "      <td>경남</td>\n",
       "      <td>거제시</td>\n",
       "      <td>155274</td>\n",
       "      <td>155921</td>\n",
       "      <td>156366</td>\n",
       "      <td>156543</td>\n",
       "      <td>156165</td>\n",
       "      <td>155616</td>\n",
       "      <td>156555</td>\n",
       "      <td>157811</td>\n",
       "      <td>159494</td>\n",
       "      <td>160220</td>\n",
       "      <td>160549</td>\n",
       "      <td>161079</td>\n",
       "    </tr>\n",
       "    <tr>\n",
       "      <th>184</th>\n",
       "      <td>경남</td>\n",
       "      <td>양산시</td>\n",
       "      <td>172574</td>\n",
       "      <td>172582</td>\n",
       "      <td>172828</td>\n",
       "      <td>173383</td>\n",
       "      <td>174672</td>\n",
       "      <td>181445</td>\n",
       "      <td>187973</td>\n",
       "      <td>191410</td>\n",
       "      <td>194660</td>\n",
       "      <td>197867</td>\n",
       "      <td>201191</td>\n",
       "      <td>204215</td>\n",
       "    </tr>\n",
       "    <tr>\n",
       "      <th>185</th>\n",
       "      <td>제주</td>\n",
       "      <td>제주시</td>\n",
       "      <td>303871</td>\n",
       "      <td>303757</td>\n",
       "      <td>303757</td>\n",
       "      <td>303800</td>\n",
       "      <td>303771</td>\n",
       "      <td>304414</td>\n",
       "      <td>306314</td>\n",
       "      <td>308871</td>\n",
       "      <td>310943</td>\n",
       "      <td>313814</td>\n",
       "      <td>324614</td>\n",
       "      <td>344400</td>\n",
       "    </tr>\n",
       "    <tr>\n",
       "      <th>186</th>\n",
       "      <td>제주</td>\n",
       "      <td>서귀포시</td>\n",
       "      <td>223087</td>\n",
       "      <td>222696</td>\n",
       "      <td>222196</td>\n",
       "      <td>221685</td>\n",
       "      <td>221457</td>\n",
       "      <td>221500</td>\n",
       "      <td>222043</td>\n",
       "      <td>222913</td>\n",
       "      <td>223370</td>\n",
       "      <td>224065</td>\n",
       "      <td>224913</td>\n",
       "      <td>231457</td>\n",
       "    </tr>\n",
       "  </tbody>\n",
       "</table>\n",
       "</div>"
      ],
      "text/plain": [
       "    지역1   지역2  2020-08  2020-09  2020-10  2020-11  2020-12  2021-01  2021-02  \\\n",
       "182  경남   밀양시   126455   126261   125989   125727   125773   125625   125977   \n",
       "183  경남   거제시   155274   155921   156366   156543   156165   155616   156555   \n",
       "184  경남   양산시   172574   172582   172828   173383   174672   181445   187973   \n",
       "185  제주   제주시   303871   303757   303757   303800   303771   304414   306314   \n",
       "186  제주  서귀포시   223087   222696   222196   221685   221457   221500   222043   \n",
       "\n",
       "     2021-03  2021-04  2021-05  2021-06  2021-07  \n",
       "182   126977   127614   127932   128364   129125  \n",
       "183   157811   159494   160220   160549   161079  \n",
       "184   191410   194660   197867   201191   204215  \n",
       "185   308871   310943   313814   324614   344400  \n",
       "186   222913   223370   224065   224913   231457  "
      ]
     },
     "execution_count": 8,
     "metadata": {},
     "output_type": "execute_result"
    }
   ],
   "source": [
    "# 하위 5개 행 확인\n",
    "apart.tail()"
   ]
  },
  {
   "cell_type": "markdown",
   "metadata": {
    "id": "KXhMyTdu0Kcf"
   },
   "source": [
    "**2) 열 데이터 형식, 값 개수 확인**\n",
    "\n",
    "- 어떤 열이 있고, 맻 개의 값들을 갖는지, 데이터 형식은 어떠한 지 확인합니다."
   ]
  },
  {
   "cell_type": "code",
   "execution_count": 9,
   "metadata": {
    "id": "1YeG0s8p0Kcg",
    "scrolled": false
   },
   "outputs": [
    {
     "name": "stdout",
     "output_type": "stream",
     "text": [
      "<class 'pandas.core.frame.DataFrame'>\n",
      "RangeIndex: 187 entries, 0 to 186\n",
      "Data columns (total 14 columns):\n",
      " #   Column   Non-Null Count  Dtype \n",
      "---  ------   --------------  ----- \n",
      " 0   지역1      187 non-null    object\n",
      " 1   지역2      187 non-null    object\n",
      " 2   2020-08  187 non-null    int64 \n",
      " 3   2020-09  187 non-null    int64 \n",
      " 4   2020-10  187 non-null    int64 \n",
      " 5   2020-11  187 non-null    int64 \n",
      " 6   2020-12  187 non-null    int64 \n",
      " 7   2021-01  187 non-null    int64 \n",
      " 8   2021-02  187 non-null    int64 \n",
      " 9   2021-03  187 non-null    int64 \n",
      " 10  2021-04  187 non-null    int64 \n",
      " 11  2021-05  187 non-null    int64 \n",
      " 12  2021-06  187 non-null    int64 \n",
      " 13  2021-07  187 non-null    int64 \n",
      "dtypes: int64(12), object(2)\n",
      "memory usage: 20.6+ KB\n"
     ]
    }
   ],
   "source": [
    "# 열 정보 확인\n",
    "apart.info()"
   ]
  },
  {
   "cell_type": "markdown",
   "metadata": {
    "id": "etPLyqBrXLY0"
   },
   "source": [
    "**3) 결측치 확인**\n",
    "\n",
    "- 결측치가 있는 지 확인합니다."
   ]
  },
  {
   "cell_type": "code",
   "execution_count": 10,
   "metadata": {
    "id": "JNjUwfhwXPjq"
   },
   "outputs": [
    {
     "name": "stdout",
     "output_type": "stream",
     "text": [
      "지역1        0\n",
      "지역2        0\n",
      "2020-08    0\n",
      "2020-09    0\n",
      "2020-10    0\n",
      "2020-11    0\n",
      "2020-12    0\n",
      "2021-01    0\n",
      "2021-02    0\n",
      "2021-03    0\n",
      "2021-04    0\n",
      "2021-05    0\n",
      "2021-06    0\n",
      "2021-07    0\n",
      "dtype: int64\n"
     ]
    }
   ],
   "source": [
    "# 결측치 확인\n",
    "print(apart.isnull().sum())"
   ]
  },
  {
   "cell_type": "markdown",
   "metadata": {},
   "source": [
    "**4) 데이터프레임 크기 확인**\n",
    "- 데이터프레임 크기를 확인합니다. 행과 열의 개수를 파악합니다."
   ]
  },
  {
   "cell_type": "code",
   "execution_count": 12,
   "metadata": {},
   "outputs": [
    {
     "name": "stdout",
     "output_type": "stream",
     "text": [
      "(187, 14)\n"
     ]
    }
   ],
   "source": [
    "print(apart.shape)"
   ]
  },
  {
   "cell_type": "markdown",
   "metadata": {},
   "source": [
    "**5) 기초 통계정보 확인**\n",
    "- 각 열의 데이터 개수, 평균, 표준편차, 최솟값, 1~3 분위수, 최댓값의 정보를 파악합니다."
   ]
  },
  {
   "cell_type": "code",
   "execution_count": 73,
   "metadata": {},
   "outputs": [
    {
     "data": {
      "text/html": [
       "<div>\n",
       "<style scoped>\n",
       "    .dataframe tbody tr th:only-of-type {\n",
       "        vertical-align: middle;\n",
       "    }\n",
       "\n",
       "    .dataframe tbody tr th {\n",
       "        vertical-align: top;\n",
       "    }\n",
       "\n",
       "    .dataframe thead th {\n",
       "        text-align: right;\n",
       "    }\n",
       "</style>\n",
       "<table border=\"1\" class=\"dataframe\">\n",
       "  <thead>\n",
       "    <tr style=\"text-align: right;\">\n",
       "      <th></th>\n",
       "      <th>2020-08</th>\n",
       "      <th>2020-09</th>\n",
       "      <th>2020-10</th>\n",
       "      <th>2020-11</th>\n",
       "      <th>2020-12</th>\n",
       "      <th>2021-01</th>\n",
       "      <th>2021-02</th>\n",
       "      <th>2021-03</th>\n",
       "      <th>2021-04</th>\n",
       "      <th>2021-05</th>\n",
       "      <th>2021-06</th>\n",
       "      <th>2021-07</th>\n",
       "      <th>증가액</th>\n",
       "      <th>증가율</th>\n",
       "    </tr>\n",
       "  </thead>\n",
       "  <tbody>\n",
       "    <tr>\n",
       "      <th>count</th>\n",
       "      <td>1.870000e+02</td>\n",
       "      <td>1.870000e+02</td>\n",
       "      <td>1.870000e+02</td>\n",
       "      <td>1.870000e+02</td>\n",
       "      <td>1.870000e+02</td>\n",
       "      <td>1.870000e+02</td>\n",
       "      <td>1.870000e+02</td>\n",
       "      <td>1.870000e+02</td>\n",
       "      <td>1.870000e+02</td>\n",
       "      <td>1.870000e+02</td>\n",
       "      <td>1.870000e+02</td>\n",
       "      <td>1.870000e+02</td>\n",
       "      <td>187.000000</td>\n",
       "      <td>187.000000</td>\n",
       "    </tr>\n",
       "    <tr>\n",
       "      <th>mean</th>\n",
       "      <td>3.429660e+05</td>\n",
       "      <td>3.456397e+05</td>\n",
       "      <td>3.478531e+05</td>\n",
       "      <td>3.492826e+05</td>\n",
       "      <td>3.518816e+05</td>\n",
       "      <td>3.563870e+05</td>\n",
       "      <td>3.603933e+05</td>\n",
       "      <td>3.653163e+05</td>\n",
       "      <td>3.688655e+05</td>\n",
       "      <td>3.723293e+05</td>\n",
       "      <td>3.757256e+05</td>\n",
       "      <td>3.816681e+05</td>\n",
       "      <td>38702.064171</td>\n",
       "      <td>11.634708</td>\n",
       "    </tr>\n",
       "    <tr>\n",
       "      <th>std</th>\n",
       "      <td>2.835917e+05</td>\n",
       "      <td>2.855867e+05</td>\n",
       "      <td>2.868470e+05</td>\n",
       "      <td>2.873621e+05</td>\n",
       "      <td>2.880428e+05</td>\n",
       "      <td>2.892677e+05</td>\n",
       "      <td>2.912634e+05</td>\n",
       "      <td>2.942345e+05</td>\n",
       "      <td>2.956551e+05</td>\n",
       "      <td>2.972473e+05</td>\n",
       "      <td>2.991623e+05</td>\n",
       "      <td>3.030026e+05</td>\n",
       "      <td>32514.894696</td>\n",
       "      <td>7.299609</td>\n",
       "    </tr>\n",
       "    <tr>\n",
       "      <th>min</th>\n",
       "      <td>7.837500e+04</td>\n",
       "      <td>7.837500e+04</td>\n",
       "      <td>7.818800e+04</td>\n",
       "      <td>7.820800e+04</td>\n",
       "      <td>7.825000e+04</td>\n",
       "      <td>7.814600e+04</td>\n",
       "      <td>7.812500e+04</td>\n",
       "      <td>7.818800e+04</td>\n",
       "      <td>7.831300e+04</td>\n",
       "      <td>7.812500e+04</td>\n",
       "      <td>7.820800e+04</td>\n",
       "      <td>7.833300e+04</td>\n",
       "      <td>-5264.000000</td>\n",
       "      <td>-3.192857</td>\n",
       "    </tr>\n",
       "    <tr>\n",
       "      <th>25%</th>\n",
       "      <td>1.618390e+05</td>\n",
       "      <td>1.626765e+05</td>\n",
       "      <td>1.633895e+05</td>\n",
       "      <td>1.635535e+05</td>\n",
       "      <td>1.632735e+05</td>\n",
       "      <td>1.637785e+05</td>\n",
       "      <td>1.641690e+05</td>\n",
       "      <td>1.663785e+05</td>\n",
       "      <td>1.683925e+05</td>\n",
       "      <td>1.702530e+05</td>\n",
       "      <td>1.719605e+05</td>\n",
       "      <td>1.744370e+05</td>\n",
       "      <td>14643.500000</td>\n",
       "      <td>5.434298</td>\n",
       "    </tr>\n",
       "    <tr>\n",
       "      <th>50%</th>\n",
       "      <td>2.469320e+05</td>\n",
       "      <td>2.493830e+05</td>\n",
       "      <td>2.500550e+05</td>\n",
       "      <td>2.523670e+05</td>\n",
       "      <td>2.529710e+05</td>\n",
       "      <td>2.557350e+05</td>\n",
       "      <td>2.577230e+05</td>\n",
       "      <td>2.612110e+05</td>\n",
       "      <td>2.661170e+05</td>\n",
       "      <td>2.703280e+05</td>\n",
       "      <td>2.763280e+05</td>\n",
       "      <td>2.807330e+05</td>\n",
       "      <td>29261.000000</td>\n",
       "      <td>11.557457</td>\n",
       "    </tr>\n",
       "    <tr>\n",
       "      <th>75%</th>\n",
       "      <td>4.236115e+05</td>\n",
       "      <td>4.269300e+05</td>\n",
       "      <td>4.318980e+05</td>\n",
       "      <td>4.385925e+05</td>\n",
       "      <td>4.446290e+05</td>\n",
       "      <td>4.549485e+05</td>\n",
       "      <td>4.633750e+05</td>\n",
       "      <td>4.712285e+05</td>\n",
       "      <td>4.768195e+05</td>\n",
       "      <td>4.827720e+05</td>\n",
       "      <td>4.873345e+05</td>\n",
       "      <td>4.946470e+05</td>\n",
       "      <td>54982.000000</td>\n",
       "      <td>16.633131</td>\n",
       "    </tr>\n",
       "    <tr>\n",
       "      <th>max</th>\n",
       "      <td>1.751014e+06</td>\n",
       "      <td>1.757795e+06</td>\n",
       "      <td>1.759164e+06</td>\n",
       "      <td>1.759747e+06</td>\n",
       "      <td>1.761322e+06</td>\n",
       "      <td>1.771322e+06</td>\n",
       "      <td>1.783411e+06</td>\n",
       "      <td>1.797521e+06</td>\n",
       "      <td>1.807781e+06</td>\n",
       "      <td>1.818192e+06</td>\n",
       "      <td>1.834199e+06</td>\n",
       "      <td>1.873390e+06</td>\n",
       "      <td>144265.000000</td>\n",
       "      <td>30.789194</td>\n",
       "    </tr>\n",
       "  </tbody>\n",
       "</table>\n",
       "</div>"
      ],
      "text/plain": [
       "            2020-08       2020-09       2020-10       2020-11       2020-12  \\\n",
       "count  1.870000e+02  1.870000e+02  1.870000e+02  1.870000e+02  1.870000e+02   \n",
       "mean   3.429660e+05  3.456397e+05  3.478531e+05  3.492826e+05  3.518816e+05   \n",
       "std    2.835917e+05  2.855867e+05  2.868470e+05  2.873621e+05  2.880428e+05   \n",
       "min    7.837500e+04  7.837500e+04  7.818800e+04  7.820800e+04  7.825000e+04   \n",
       "25%    1.618390e+05  1.626765e+05  1.633895e+05  1.635535e+05  1.632735e+05   \n",
       "50%    2.469320e+05  2.493830e+05  2.500550e+05  2.523670e+05  2.529710e+05   \n",
       "75%    4.236115e+05  4.269300e+05  4.318980e+05  4.385925e+05  4.446290e+05   \n",
       "max    1.751014e+06  1.757795e+06  1.759164e+06  1.759747e+06  1.761322e+06   \n",
       "\n",
       "            2021-01       2021-02       2021-03       2021-04       2021-05  \\\n",
       "count  1.870000e+02  1.870000e+02  1.870000e+02  1.870000e+02  1.870000e+02   \n",
       "mean   3.563870e+05  3.603933e+05  3.653163e+05  3.688655e+05  3.723293e+05   \n",
       "std    2.892677e+05  2.912634e+05  2.942345e+05  2.956551e+05  2.972473e+05   \n",
       "min    7.814600e+04  7.812500e+04  7.818800e+04  7.831300e+04  7.812500e+04   \n",
       "25%    1.637785e+05  1.641690e+05  1.663785e+05  1.683925e+05  1.702530e+05   \n",
       "50%    2.557350e+05  2.577230e+05  2.612110e+05  2.661170e+05  2.703280e+05   \n",
       "75%    4.549485e+05  4.633750e+05  4.712285e+05  4.768195e+05  4.827720e+05   \n",
       "max    1.771322e+06  1.783411e+06  1.797521e+06  1.807781e+06  1.818192e+06   \n",
       "\n",
       "            2021-06       2021-07            증가액         증가율  \n",
       "count  1.870000e+02  1.870000e+02     187.000000  187.000000  \n",
       "mean   3.757256e+05  3.816681e+05   38702.064171   11.634708  \n",
       "std    2.991623e+05  3.030026e+05   32514.894696    7.299609  \n",
       "min    7.820800e+04  7.833300e+04   -5264.000000   -3.192857  \n",
       "25%    1.719605e+05  1.744370e+05   14643.500000    5.434298  \n",
       "50%    2.763280e+05  2.807330e+05   29261.000000   11.557457  \n",
       "75%    4.873345e+05  4.946470e+05   54982.000000   16.633131  \n",
       "max    1.834199e+06  1.873390e+06  144265.000000   30.789194  "
      ]
     },
     "execution_count": 73,
     "metadata": {},
     "output_type": "execute_result"
    }
   ],
   "source": [
    "apart.describe()"
   ]
  },
  {
   "cell_type": "markdown",
   "metadata": {},
   "source": [
    "**6) 고유값 확인**"
   ]
  },
  {
   "cell_type": "code",
   "execution_count": 132,
   "metadata": {},
   "outputs": [
    {
     "data": {
      "text/plain": [
       "동구     6\n",
       "남구     6\n",
       "중구     6\n",
       "북구     5\n",
       "서구     5\n",
       "      ..\n",
       "청주시    1\n",
       "영통구    1\n",
       "상주시    1\n",
       "안성시    1\n",
       "파주시    1\n",
       "Name: 지역2, Length: 163, dtype: int64"
      ]
     },
     "execution_count": 132,
     "metadata": {},
     "output_type": "execute_result"
    }
   ],
   "source": [
    "apart['지역2'].value_counts()"
   ]
  },
  {
   "cell_type": "markdown",
   "metadata": {
    "id": "YNUv-USzuLiW"
   },
   "source": [
    "## 3.데이터 전처리\n",
    "전처리 과정에서 다음과 같은 처리를 할 수 있습니다.\n",
    "\n",
    "- 결측치 처리\n",
    "- 값 변경\n",
    "- 열 추가\n",
    "- 불필요한 열 제거\n",
    "- 열 이름 변경\n",
    "- 데이터 통합(연결 또는 조인)\n",
    "- 가변수화 등"
   ]
  },
  {
   "cell_type": "markdown",
   "metadata": {
    "id": "eIFnXi_b0Kcy"
   },
   "source": [
    "**1) 열 이름 변경**\n",
    "\n",
    "- 지역1, 지역2 열 이름을 각각 '시도', '구군'으로 변경합니다."
   ]
  },
  {
   "cell_type": "code",
   "execution_count": 22,
   "metadata": {
    "id": "lg7oeEFuXzam"
   },
   "outputs": [
    {
     "data": {
      "text/html": [
       "<div>\n",
       "<style scoped>\n",
       "    .dataframe tbody tr th:only-of-type {\n",
       "        vertical-align: middle;\n",
       "    }\n",
       "\n",
       "    .dataframe tbody tr th {\n",
       "        vertical-align: top;\n",
       "    }\n",
       "\n",
       "    .dataframe thead th {\n",
       "        text-align: right;\n",
       "    }\n",
       "</style>\n",
       "<table border=\"1\" class=\"dataframe\">\n",
       "  <thead>\n",
       "    <tr style=\"text-align: right;\">\n",
       "      <th></th>\n",
       "      <th>시도</th>\n",
       "      <th>구군</th>\n",
       "      <th>2020-08</th>\n",
       "      <th>2020-09</th>\n",
       "      <th>2020-10</th>\n",
       "      <th>2020-11</th>\n",
       "      <th>2020-12</th>\n",
       "      <th>2021-01</th>\n",
       "      <th>2021-02</th>\n",
       "      <th>2021-03</th>\n",
       "      <th>2021-04</th>\n",
       "      <th>2021-05</th>\n",
       "      <th>2021-06</th>\n",
       "      <th>2021-07</th>\n",
       "    </tr>\n",
       "  </thead>\n",
       "  <tbody>\n",
       "    <tr>\n",
       "      <th>0</th>\n",
       "      <td>서울</td>\n",
       "      <td>종로구</td>\n",
       "      <td>1029542</td>\n",
       "      <td>1033625</td>\n",
       "      <td>1036486</td>\n",
       "      <td>1036681</td>\n",
       "      <td>1037986</td>\n",
       "      <td>1039903</td>\n",
       "      <td>1041444</td>\n",
       "      <td>1044347</td>\n",
       "      <td>1045819</td>\n",
       "      <td>1047819</td>\n",
       "      <td>1048722</td>\n",
       "      <td>1050750</td>\n",
       "    </tr>\n",
       "    <tr>\n",
       "      <th>1</th>\n",
       "      <td>서울</td>\n",
       "      <td>중구</td>\n",
       "      <td>802257</td>\n",
       "      <td>806143</td>\n",
       "      <td>807771</td>\n",
       "      <td>808743</td>\n",
       "      <td>809900</td>\n",
       "      <td>812157</td>\n",
       "      <td>814614</td>\n",
       "      <td>820100</td>\n",
       "      <td>822257</td>\n",
       "      <td>823314</td>\n",
       "      <td>824371</td>\n",
       "      <td>829486</td>\n",
       "    </tr>\n",
       "    <tr>\n",
       "      <th>2</th>\n",
       "      <td>서울</td>\n",
       "      <td>용산구</td>\n",
       "      <td>1399354</td>\n",
       "      <td>1406439</td>\n",
       "      <td>1411232</td>\n",
       "      <td>1412659</td>\n",
       "      <td>1413768</td>\n",
       "      <td>1416951</td>\n",
       "      <td>1421012</td>\n",
       "      <td>1427366</td>\n",
       "      <td>1430780</td>\n",
       "      <td>1434768</td>\n",
       "      <td>1439390</td>\n",
       "      <td>1445073</td>\n",
       "    </tr>\n",
       "    <tr>\n",
       "      <th>3</th>\n",
       "      <td>서울</td>\n",
       "      <td>성동구</td>\n",
       "      <td>910716</td>\n",
       "      <td>916402</td>\n",
       "      <td>918667</td>\n",
       "      <td>920020</td>\n",
       "      <td>921108</td>\n",
       "      <td>923402</td>\n",
       "      <td>927029</td>\n",
       "      <td>934049</td>\n",
       "      <td>938029</td>\n",
       "      <td>940000</td>\n",
       "      <td>942235</td>\n",
       "      <td>947157</td>\n",
       "    </tr>\n",
       "    <tr>\n",
       "      <th>4</th>\n",
       "      <td>서울</td>\n",
       "      <td>광진구</td>\n",
       "      <td>1021037</td>\n",
       "      <td>1025866</td>\n",
       "      <td>1029256</td>\n",
       "      <td>1030878</td>\n",
       "      <td>1032220</td>\n",
       "      <td>1034524</td>\n",
       "      <td>1038378</td>\n",
       "      <td>1047439</td>\n",
       "      <td>1053024</td>\n",
       "      <td>1056524</td>\n",
       "      <td>1059476</td>\n",
       "      <td>1063805</td>\n",
       "    </tr>\n",
       "  </tbody>\n",
       "</table>\n",
       "</div>"
      ],
      "text/plain": [
       "   시도   구군  2020-08  2020-09  2020-10  2020-11  2020-12  2021-01  2021-02  \\\n",
       "0  서울  종로구  1029542  1033625  1036486  1036681  1037986  1039903  1041444   \n",
       "1  서울   중구   802257   806143   807771   808743   809900   812157   814614   \n",
       "2  서울  용산구  1399354  1406439  1411232  1412659  1413768  1416951  1421012   \n",
       "3  서울  성동구   910716   916402   918667   920020   921108   923402   927029   \n",
       "4  서울  광진구  1021037  1025866  1029256  1030878  1032220  1034524  1038378   \n",
       "\n",
       "   2021-03  2021-04  2021-05  2021-06  2021-07  \n",
       "0  1044347  1045819  1047819  1048722  1050750  \n",
       "1   820100   822257   823314   824371   829486  \n",
       "2  1427366  1430780  1434768  1439390  1445073  \n",
       "3   934049   938029   940000   942235   947157  \n",
       "4  1047439  1053024  1056524  1059476  1063805  "
      ]
     },
     "execution_count": 22,
     "metadata": {},
     "output_type": "execute_result"
    }
   ],
   "source": [
    "# 열 이름 변경\n",
    "apart.rename(columns={'지역1':'시도', '지역2':'구군'}, inplace=True)\n",
    "\n",
    "# 확인\n",
    "apart.head()"
   ]
  },
  {
   "cell_type": "markdown",
   "metadata": {
    "id": "JqEsMLNpYMcx"
   },
   "source": [
    "**2) 열 추가**\n",
    "\n",
    "- 다음 공식을 사용해 '증가액', '증가율' 열을 추가합니다.\n",
    "\n",
    "    - 증가액: 2021년 7월 가격 - 2020년 8월 가격\n",
    "    - 증가율: (2021년 7월 가격 - 2020년 8월 가격) * 100 / 2020년 8월 가격"
   ]
  },
  {
   "cell_type": "code",
   "execution_count": 23,
   "metadata": {
    "id": "jnp3AuOoYKJK"
   },
   "outputs": [
    {
     "data": {
      "text/html": [
       "<div>\n",
       "<style scoped>\n",
       "    .dataframe tbody tr th:only-of-type {\n",
       "        vertical-align: middle;\n",
       "    }\n",
       "\n",
       "    .dataframe tbody tr th {\n",
       "        vertical-align: top;\n",
       "    }\n",
       "\n",
       "    .dataframe thead th {\n",
       "        text-align: right;\n",
       "    }\n",
       "</style>\n",
       "<table border=\"1\" class=\"dataframe\">\n",
       "  <thead>\n",
       "    <tr style=\"text-align: right;\">\n",
       "      <th></th>\n",
       "      <th>시도</th>\n",
       "      <th>구군</th>\n",
       "      <th>2020-08</th>\n",
       "      <th>2020-09</th>\n",
       "      <th>2020-10</th>\n",
       "      <th>2020-11</th>\n",
       "      <th>2020-12</th>\n",
       "      <th>2021-01</th>\n",
       "      <th>2021-02</th>\n",
       "      <th>2021-03</th>\n",
       "      <th>2021-04</th>\n",
       "      <th>2021-05</th>\n",
       "      <th>2021-06</th>\n",
       "      <th>2021-07</th>\n",
       "      <th>증가액</th>\n",
       "      <th>증가율</th>\n",
       "    </tr>\n",
       "  </thead>\n",
       "  <tbody>\n",
       "    <tr>\n",
       "      <th>0</th>\n",
       "      <td>서울</td>\n",
       "      <td>종로구</td>\n",
       "      <td>1029542</td>\n",
       "      <td>1033625</td>\n",
       "      <td>1036486</td>\n",
       "      <td>1036681</td>\n",
       "      <td>1037986</td>\n",
       "      <td>1039903</td>\n",
       "      <td>1041444</td>\n",
       "      <td>1044347</td>\n",
       "      <td>1045819</td>\n",
       "      <td>1047819</td>\n",
       "      <td>1048722</td>\n",
       "      <td>1050750</td>\n",
       "      <td>21208</td>\n",
       "      <td>2.059945</td>\n",
       "    </tr>\n",
       "    <tr>\n",
       "      <th>1</th>\n",
       "      <td>서울</td>\n",
       "      <td>중구</td>\n",
       "      <td>802257</td>\n",
       "      <td>806143</td>\n",
       "      <td>807771</td>\n",
       "      <td>808743</td>\n",
       "      <td>809900</td>\n",
       "      <td>812157</td>\n",
       "      <td>814614</td>\n",
       "      <td>820100</td>\n",
       "      <td>822257</td>\n",
       "      <td>823314</td>\n",
       "      <td>824371</td>\n",
       "      <td>829486</td>\n",
       "      <td>27229</td>\n",
       "      <td>3.394050</td>\n",
       "    </tr>\n",
       "    <tr>\n",
       "      <th>2</th>\n",
       "      <td>서울</td>\n",
       "      <td>용산구</td>\n",
       "      <td>1399354</td>\n",
       "      <td>1406439</td>\n",
       "      <td>1411232</td>\n",
       "      <td>1412659</td>\n",
       "      <td>1413768</td>\n",
       "      <td>1416951</td>\n",
       "      <td>1421012</td>\n",
       "      <td>1427366</td>\n",
       "      <td>1430780</td>\n",
       "      <td>1434768</td>\n",
       "      <td>1439390</td>\n",
       "      <td>1445073</td>\n",
       "      <td>45719</td>\n",
       "      <td>3.267150</td>\n",
       "    </tr>\n",
       "    <tr>\n",
       "      <th>3</th>\n",
       "      <td>서울</td>\n",
       "      <td>성동구</td>\n",
       "      <td>910716</td>\n",
       "      <td>916402</td>\n",
       "      <td>918667</td>\n",
       "      <td>920020</td>\n",
       "      <td>921108</td>\n",
       "      <td>923402</td>\n",
       "      <td>927029</td>\n",
       "      <td>934049</td>\n",
       "      <td>938029</td>\n",
       "      <td>940000</td>\n",
       "      <td>942235</td>\n",
       "      <td>947157</td>\n",
       "      <td>36441</td>\n",
       "      <td>4.001357</td>\n",
       "    </tr>\n",
       "    <tr>\n",
       "      <th>4</th>\n",
       "      <td>서울</td>\n",
       "      <td>광진구</td>\n",
       "      <td>1021037</td>\n",
       "      <td>1025866</td>\n",
       "      <td>1029256</td>\n",
       "      <td>1030878</td>\n",
       "      <td>1032220</td>\n",
       "      <td>1034524</td>\n",
       "      <td>1038378</td>\n",
       "      <td>1047439</td>\n",
       "      <td>1053024</td>\n",
       "      <td>1056524</td>\n",
       "      <td>1059476</td>\n",
       "      <td>1063805</td>\n",
       "      <td>42768</td>\n",
       "      <td>4.188683</td>\n",
       "    </tr>\n",
       "  </tbody>\n",
       "</table>\n",
       "</div>"
      ],
      "text/plain": [
       "   시도   구군  2020-08  2020-09  2020-10  2020-11  2020-12  2021-01  2021-02  \\\n",
       "0  서울  종로구  1029542  1033625  1036486  1036681  1037986  1039903  1041444   \n",
       "1  서울   중구   802257   806143   807771   808743   809900   812157   814614   \n",
       "2  서울  용산구  1399354  1406439  1411232  1412659  1413768  1416951  1421012   \n",
       "3  서울  성동구   910716   916402   918667   920020   921108   923402   927029   \n",
       "4  서울  광진구  1021037  1025866  1029256  1030878  1032220  1034524  1038378   \n",
       "\n",
       "   2021-03  2021-04  2021-05  2021-06  2021-07    증가액       증가율  \n",
       "0  1044347  1045819  1047819  1048722  1050750  21208  2.059945  \n",
       "1   820100   822257   823314   824371   829486  27229  3.394050  \n",
       "2  1427366  1430780  1434768  1439390  1445073  45719  3.267150  \n",
       "3   934049   938029   940000   942235   947157  36441  4.001357  \n",
       "4  1047439  1053024  1056524  1059476  1063805  42768  4.188683  "
      ]
     },
     "execution_count": 23,
     "metadata": {},
     "output_type": "execute_result"
    }
   ],
   "source": [
    "# 연간 증가액\n",
    "apart['증가액'] = apart['2021-07'] - apart['2020-08']\n",
    "\n",
    "# 연간 증가율\n",
    "apart['증가율'] = ( apart['2021-07']-apart['2020-08'] )*100/apart['2020-08']\n",
    "\n",
    "# 확인\n",
    "apart.head()"
   ]
  },
  {
   "cell_type": "markdown",
   "metadata": {
    "id": "tJXf7lyZr0SV"
   },
   "source": [
    "**3) 불필요한 열 제거**\n",
    "\n",
    "- 시도, 구군, 증가액, 증가율 열만 추출하여 apart2 데이터프레임을 선언합니다.\n",
    "- 이후 모든 작업은 apart2 데이터프레임을 대상으로 합니다."
   ]
  },
  {
   "cell_type": "code",
   "execution_count": 24,
   "metadata": {},
   "outputs": [
    {
     "data": {
      "text/plain": [
       "Index(['시도', '구군', '2020-08', '2020-09', '2020-10', '2020-11', '2020-12',\n",
       "       '2021-01', '2021-02', '2021-03', '2021-04', '2021-05', '2021-06',\n",
       "       '2021-07', '증가액', '증가율'],\n",
       "      dtype='object')"
      ]
     },
     "execution_count": 24,
     "metadata": {},
     "output_type": "execute_result"
    }
   ],
   "source": [
    "apart.columns"
   ]
  },
  {
   "cell_type": "code",
   "execution_count": 26,
   "metadata": {
    "id": "Q0T85iQAZ_Ye"
   },
   "outputs": [
    {
     "data": {
      "text/html": [
       "<div>\n",
       "<style scoped>\n",
       "    .dataframe tbody tr th:only-of-type {\n",
       "        vertical-align: middle;\n",
       "    }\n",
       "\n",
       "    .dataframe tbody tr th {\n",
       "        vertical-align: top;\n",
       "    }\n",
       "\n",
       "    .dataframe thead th {\n",
       "        text-align: right;\n",
       "    }\n",
       "</style>\n",
       "<table border=\"1\" class=\"dataframe\">\n",
       "  <thead>\n",
       "    <tr style=\"text-align: right;\">\n",
       "      <th></th>\n",
       "      <th>시도</th>\n",
       "      <th>구군</th>\n",
       "      <th>2021-07</th>\n",
       "      <th>증가액</th>\n",
       "      <th>증가율</th>\n",
       "    </tr>\n",
       "  </thead>\n",
       "  <tbody>\n",
       "    <tr>\n",
       "      <th>0</th>\n",
       "      <td>서울</td>\n",
       "      <td>종로구</td>\n",
       "      <td>1050750</td>\n",
       "      <td>21208</td>\n",
       "      <td>2.059945</td>\n",
       "    </tr>\n",
       "    <tr>\n",
       "      <th>1</th>\n",
       "      <td>서울</td>\n",
       "      <td>중구</td>\n",
       "      <td>829486</td>\n",
       "      <td>27229</td>\n",
       "      <td>3.394050</td>\n",
       "    </tr>\n",
       "    <tr>\n",
       "      <th>2</th>\n",
       "      <td>서울</td>\n",
       "      <td>용산구</td>\n",
       "      <td>1445073</td>\n",
       "      <td>45719</td>\n",
       "      <td>3.267150</td>\n",
       "    </tr>\n",
       "    <tr>\n",
       "      <th>3</th>\n",
       "      <td>서울</td>\n",
       "      <td>성동구</td>\n",
       "      <td>947157</td>\n",
       "      <td>36441</td>\n",
       "      <td>4.001357</td>\n",
       "    </tr>\n",
       "    <tr>\n",
       "      <th>4</th>\n",
       "      <td>서울</td>\n",
       "      <td>광진구</td>\n",
       "      <td>1063805</td>\n",
       "      <td>42768</td>\n",
       "      <td>4.188683</td>\n",
       "    </tr>\n",
       "  </tbody>\n",
       "</table>\n",
       "</div>"
      ],
      "text/plain": [
       "   시도   구군  2021-07    증가액       증가율\n",
       "0  서울  종로구  1050750  21208  2.059945\n",
       "1  서울   중구   829486  27229  3.394050\n",
       "2  서울  용산구  1445073  45719  3.267150\n",
       "3  서울  성동구   947157  36441  4.001357\n",
       "4  서울  광진구  1063805  42768  4.188683"
      ]
     },
     "execution_count": 26,
     "metadata": {},
     "output_type": "execute_result"
    }
   ],
   "source": [
    "# 분석 대상 열 지정\n",
    "del_col = ['2020-08', '2020-09', '2020-10', '2020-11', '2020-12',\n",
    "       '2021-01', '2021-02', '2021-03', '2021-04', '2021-05', '2021-06']\n",
    "\n",
    "apart2=apart.drop(columns=del_col, axis=1)\n",
    "\n",
    "# 확인\n",
    "apart2.head()"
   ]
  },
  {
   "cell_type": "markdown",
   "metadata": {
    "id": "gAYdREQRrqyC"
   },
   "source": [
    "## 4.데이터 분석\n",
    "\n",
    "- 데이터를 집계하고 간단히 시각화하여 분석합니다.\n",
    "- 연속형 값은 선 그래프, 범주형 값은 막대 그래프로 시각화함이 일반적입니다."
   ]
  },
  {
   "cell_type": "markdown",
   "metadata": {
    "id": "qhlQ77OmKeTp"
   },
   "source": [
    "### 4.1.전국 분석"
   ]
  },
  {
   "cell_type": "markdown",
   "metadata": {
    "id": "EejrutyKKjLO"
   },
   "source": [
    "**1) 가격 변동 현황**\n",
    "\n",
    "- 구군의 아파트 매매가 증가액을 막대 그래프로 시각화해 확인합니다."
   ]
  },
  {
   "cell_type": "code",
   "execution_count": 39,
   "metadata": {
    "id": "w3IYrva6t9BV"
   },
   "outputs": [
    {
     "data": {
      "image/png": "[encoded data removed]",
      "text/plain": [
       "<Figure size 720x360 with 1 Axes>"
      ]
     },
     "metadata": {
      "image/png": {
       "height": 364,
       "width": 626
      },
      "needs_background": "light"
     },
     "output_type": "display_data"
    }
   ],
   "source": [
    "# 차트 그리기(25개 정도)\n",
    "plt.figure(figsize=(10, 5))\n",
    "plt.bar(apart2['구군'].head(25), apart2['증가액'].head(25))\n",
    "plt.xticks(rotation=70)\n",
    "plt.title('구군의 아파트 매매가 증가액')\n",
    "plt.ylabel('아파트 매매가')\n",
    "plt.xlabel('구군')\n",
    "plt.show()"
   ]
  },
  {
   "cell_type": "markdown",
   "metadata": {
    "id": "4DNG6jQ9LUnl"
   },
   "source": [
    "**2) 가격 변동 TOP 25**\n",
    "\n",
    "- 증가액 기준으로 상위 25개 행을 추출해 tmp 데이터프레임을 선언합니다."
   ]
  },
  {
   "cell_type": "code",
   "execution_count": 41,
   "metadata": {
    "id": "dVOBScV1Lu5x"
   },
   "outputs": [
    {
     "data": {
      "text/html": [
       "<div>\n",
       "<style scoped>\n",
       "    .dataframe tbody tr th:only-of-type {\n",
       "        vertical-align: middle;\n",
       "    }\n",
       "\n",
       "    .dataframe tbody tr th {\n",
       "        vertical-align: top;\n",
       "    }\n",
       "\n",
       "    .dataframe thead th {\n",
       "        text-align: right;\n",
       "    }\n",
       "</style>\n",
       "<table border=\"1\" class=\"dataframe\">\n",
       "  <thead>\n",
       "    <tr style=\"text-align: right;\">\n",
       "      <th></th>\n",
       "      <th>시도</th>\n",
       "      <th>구군</th>\n",
       "      <th>2021-07</th>\n",
       "      <th>증가액</th>\n",
       "      <th>증가율</th>\n",
       "    </tr>\n",
       "  </thead>\n",
       "  <tbody>\n",
       "    <tr>\n",
       "      <th>28</th>\n",
       "      <td>경기</td>\n",
       "      <td>동안구</td>\n",
       "      <td>720886</td>\n",
       "      <td>144265</td>\n",
       "      <td>25.019033</td>\n",
       "    </tr>\n",
       "    <tr>\n",
       "      <th>34</th>\n",
       "      <td>경기</td>\n",
       "      <td>의왕시</td>\n",
       "      <td>637225</td>\n",
       "      <td>141787</td>\n",
       "      <td>28.618515</td>\n",
       "    </tr>\n",
       "    <tr>\n",
       "      <th>99</th>\n",
       "      <td>대구</td>\n",
       "      <td>수성구</td>\n",
       "      <td>648196</td>\n",
       "      <td>132345</td>\n",
       "      <td>25.655664</td>\n",
       "    </tr>\n",
       "    <tr>\n",
       "      <th>86</th>\n",
       "      <td>부산</td>\n",
       "      <td>해운대구</td>\n",
       "      <td>526641</td>\n",
       "      <td>123977</td>\n",
       "      <td>30.789194</td>\n",
       "    </tr>\n",
       "    <tr>\n",
       "      <th>21</th>\n",
       "      <td>서울</td>\n",
       "      <td>서초구</td>\n",
       "      <td>1873390</td>\n",
       "      <td>122376</td>\n",
       "      <td>6.988865</td>\n",
       "    </tr>\n",
       "    <tr>\n",
       "      <th>26</th>\n",
       "      <td>경기</td>\n",
       "      <td>안양시</td>\n",
       "      <td>662823</td>\n",
       "      <td>120878</td>\n",
       "      <td>22.304477</td>\n",
       "    </tr>\n",
       "    <tr>\n",
       "      <th>25</th>\n",
       "      <td>경기</td>\n",
       "      <td>과천시</td>\n",
       "      <td>1368271</td>\n",
       "      <td>108063</td>\n",
       "      <td>8.575013</td>\n",
       "    </tr>\n",
       "    <tr>\n",
       "      <th>73</th>\n",
       "      <td>인천</td>\n",
       "      <td>연수구</td>\n",
       "      <td>565838</td>\n",
       "      <td>107033</td>\n",
       "      <td>23.328647</td>\n",
       "    </tr>\n",
       "    <tr>\n",
       "      <th>32</th>\n",
       "      <td>경기</td>\n",
       "      <td>분당구</td>\n",
       "      <td>1030865</td>\n",
       "      <td>104115</td>\n",
       "      <td>11.234421</td>\n",
       "    </tr>\n",
       "    <tr>\n",
       "      <th>62</th>\n",
       "      <td>경기</td>\n",
       "      <td>덕양구</td>\n",
       "      <td>487441</td>\n",
       "      <td>101934</td>\n",
       "      <td>26.441543</td>\n",
       "    </tr>\n",
       "    <tr>\n",
       "      <th>30</th>\n",
       "      <td>경기</td>\n",
       "      <td>수정구</td>\n",
       "      <td>999452</td>\n",
       "      <td>100357</td>\n",
       "      <td>11.162002</td>\n",
       "    </tr>\n",
       "    <tr>\n",
       "      <th>110</th>\n",
       "      <td>대전</td>\n",
       "      <td>유성구</td>\n",
       "      <td>514862</td>\n",
       "      <td>99153</td>\n",
       "      <td>23.851540</td>\n",
       "    </tr>\n",
       "    <tr>\n",
       "      <th>29</th>\n",
       "      <td>경기</td>\n",
       "      <td>성남시</td>\n",
       "      <td>944644</td>\n",
       "      <td>97866</td>\n",
       "      <td>11.557457</td>\n",
       "    </tr>\n",
       "    <tr>\n",
       "      <th>56</th>\n",
       "      <td>경기</td>\n",
       "      <td>하남시</td>\n",
       "      <td>788371</td>\n",
       "      <td>97673</td>\n",
       "      <td>14.141202</td>\n",
       "    </tr>\n",
       "    <tr>\n",
       "      <th>39</th>\n",
       "      <td>경기</td>\n",
       "      <td>수지구</td>\n",
       "      <td>692261</td>\n",
       "      <td>95127</td>\n",
       "      <td>15.930595</td>\n",
       "    </tr>\n",
       "    <tr>\n",
       "      <th>117</th>\n",
       "      <td>세종</td>\n",
       "      <td>세종시</td>\n",
       "      <td>545648</td>\n",
       "      <td>90169</td>\n",
       "      <td>19.796522</td>\n",
       "    </tr>\n",
       "    <tr>\n",
       "      <th>22</th>\n",
       "      <td>서울</td>\n",
       "      <td>강남구</td>\n",
       "      <td>1818801</td>\n",
       "      <td>87274</td>\n",
       "      <td>5.040291</td>\n",
       "    </tr>\n",
       "    <tr>\n",
       "      <th>61</th>\n",
       "      <td>경기</td>\n",
       "      <td>고양시</td>\n",
       "      <td>458478</td>\n",
       "      <td>85520</td>\n",
       "      <td>22.930196</td>\n",
       "    </tr>\n",
       "    <tr>\n",
       "      <th>63</th>\n",
       "      <td>경기</td>\n",
       "      <td>일산동구</td>\n",
       "      <td>506343</td>\n",
       "      <td>83863</td>\n",
       "      <td>19.850170</td>\n",
       "    </tr>\n",
       "    <tr>\n",
       "      <th>44</th>\n",
       "      <td>경기</td>\n",
       "      <td>영통구</td>\n",
       "      <td>654507</td>\n",
       "      <td>83472</td>\n",
       "      <td>14.617668</td>\n",
       "    </tr>\n",
       "    <tr>\n",
       "      <th>38</th>\n",
       "      <td>경기</td>\n",
       "      <td>기흥구</td>\n",
       "      <td>512253</td>\n",
       "      <td>83123</td>\n",
       "      <td>19.370121</td>\n",
       "    </tr>\n",
       "    <tr>\n",
       "      <th>83</th>\n",
       "      <td>부산</td>\n",
       "      <td>남구</td>\n",
       "      <td>441427</td>\n",
       "      <td>82844</td>\n",
       "      <td>23.103159</td>\n",
       "    </tr>\n",
       "    <tr>\n",
       "      <th>23</th>\n",
       "      <td>서울</td>\n",
       "      <td>송파구</td>\n",
       "      <td>1341981</td>\n",
       "      <td>81143</td>\n",
       "      <td>6.435640</td>\n",
       "    </tr>\n",
       "    <tr>\n",
       "      <th>48</th>\n",
       "      <td>경기</td>\n",
       "      <td>단원구</td>\n",
       "      <td>400306</td>\n",
       "      <td>81010</td>\n",
       "      <td>25.371442</td>\n",
       "    </tr>\n",
       "    <tr>\n",
       "      <th>36</th>\n",
       "      <td>경기</td>\n",
       "      <td>용인시</td>\n",
       "      <td>543009</td>\n",
       "      <td>79811</td>\n",
       "      <td>17.230428</td>\n",
       "    </tr>\n",
       "  </tbody>\n",
       "</table>\n",
       "</div>"
      ],
      "text/plain": [
       "     시도    구군  2021-07     증가액        증가율\n",
       "28   경기   동안구   720886  144265  25.019033\n",
       "34   경기   의왕시   637225  141787  28.618515\n",
       "99   대구   수성구   648196  132345  25.655664\n",
       "86   부산  해운대구   526641  123977  30.789194\n",
       "21   서울   서초구  1873390  122376   6.988865\n",
       "26   경기   안양시   662823  120878  22.304477\n",
       "25   경기   과천시  1368271  108063   8.575013\n",
       "73   인천   연수구   565838  107033  23.328647\n",
       "32   경기   분당구  1030865  104115  11.234421\n",
       "62   경기   덕양구   487441  101934  26.441543\n",
       "30   경기   수정구   999452  100357  11.162002\n",
       "110  대전   유성구   514862   99153  23.851540\n",
       "29   경기   성남시   944644   97866  11.557457\n",
       "56   경기   하남시   788371   97673  14.141202\n",
       "39   경기   수지구   692261   95127  15.930595\n",
       "117  세종   세종시   545648   90169  19.796522\n",
       "22   서울   강남구  1818801   87274   5.040291\n",
       "61   경기   고양시   458478   85520  22.930196\n",
       "63   경기  일산동구   506343   83863  19.850170\n",
       "44   경기   영통구   654507   83472  14.617668\n",
       "38   경기   기흥구   512253   83123  19.370121\n",
       "83   부산    남구   441427   82844  23.103159\n",
       "23   서울   송파구  1341981   81143   6.435640\n",
       "48   경기   단원구   400306   81010  25.371442\n",
       "36   경기   용인시   543009   79811  17.230428"
      ]
     },
     "execution_count": 41,
     "metadata": {},
     "output_type": "execute_result"
    }
   ],
   "source": [
    "# 가격 변동 TOP 25\n",
    "tmp = apart2.sort_values(by='증가액', ascending=False).head(25)\n",
    "\n",
    "# 확인\n",
    "tmp"
   ]
  },
  {
   "cell_type": "markdown",
   "metadata": {
    "id": "rhbqCNaMqRIG"
   },
   "source": [
    "- tmp 데이터프레임을 대상으로 구군별 매매가 증가액을 막대 그래프로 시각화해 확인합니다."
   ]
  },
  {
   "cell_type": "code",
   "execution_count": 49,
   "metadata": {
    "id": "9UB59HvXJqoc"
   },
   "outputs": [
    {
     "data": {
      "text/plain": [
       "<function matplotlib.pyplot.show(close=None, block=None)>"
      ]
     },
     "execution_count": 49,
     "metadata": {},
     "output_type": "execute_result"
    },
    {
     "data": {
      "image/png": "[encoded data removed]",
      "text/plain": [
       "<Figure size 720x576 with 1 Axes>"
      ]
     },
     "metadata": {
      "image/png": {
       "height": 527,
       "width": 626
      },
      "needs_background": "light"
     },
     "output_type": "display_data"
    }
   ],
   "source": [
    "# 차트 그리기\n",
    "plt.figure(figsize=(10, 8))\n",
    "plt.bar(tmp['구군'], tmp['증가액'])\n",
    "plt.xticks(rotation=70)\n",
    "plt.title('가격 변동 TOP 25')\n",
    "plt.xlabel('구군')\n",
    "plt.ylabel('아파트 매매가 증가액')\n",
    "plt.show"
   ]
  },
  {
   "cell_type": "markdown",
   "metadata": {
    "id": "DXKRXtE3fqOa"
   },
   "source": [
    "**3) 가격 변동 BOTTOM 25**\n",
    "\n",
    "- 증가액 기준으로 하위 25개 행을 추출해 tmp 데이터프레임을 선언합니다."
   ]
  },
  {
   "cell_type": "code",
   "execution_count": 88,
   "metadata": {
    "id": "GnO6iyHrfqOu"
   },
   "outputs": [
    {
     "data": {
      "text/html": [
       "<div>\n",
       "<style scoped>\n",
       "    .dataframe tbody tr th:only-of-type {\n",
       "        vertical-align: middle;\n",
       "    }\n",
       "\n",
       "    .dataframe tbody tr th {\n",
       "        vertical-align: top;\n",
       "    }\n",
       "\n",
       "    .dataframe thead th {\n",
       "        text-align: right;\n",
       "    }\n",
       "</style>\n",
       "<table border=\"1\" class=\"dataframe\">\n",
       "  <thead>\n",
       "    <tr style=\"text-align: right;\">\n",
       "      <th></th>\n",
       "      <th>시도</th>\n",
       "      <th>구군</th>\n",
       "      <th>2021-07</th>\n",
       "      <th>증가액</th>\n",
       "      <th>증가율</th>\n",
       "    </tr>\n",
       "  </thead>\n",
       "  <tbody>\n",
       "    <tr>\n",
       "      <th>144</th>\n",
       "      <td>충남</td>\n",
       "      <td>당진시</td>\n",
       "      <td>159604</td>\n",
       "      <td>-5264</td>\n",
       "      <td>-3.192857</td>\n",
       "    </tr>\n",
       "    <tr>\n",
       "      <th>180</th>\n",
       "      <td>경남</td>\n",
       "      <td>사천시</td>\n",
       "      <td>123093</td>\n",
       "      <td>-3527</td>\n",
       "      <td>-2.785500</td>\n",
       "    </tr>\n",
       "    <tr>\n",
       "      <th>78</th>\n",
       "      <td>부산</td>\n",
       "      <td>중구</td>\n",
       "      <td>144688</td>\n",
       "      <td>-2645</td>\n",
       "      <td>-1.795253</td>\n",
       "    </tr>\n",
       "    <tr>\n",
       "      <th>158</th>\n",
       "      <td>전남</td>\n",
       "      <td>무안군</td>\n",
       "      <td>192525</td>\n",
       "      <td>-2588</td>\n",
       "      <td>-1.326411</td>\n",
       "    </tr>\n",
       "    <tr>\n",
       "      <th>153</th>\n",
       "      <td>전남</td>\n",
       "      <td>목포시</td>\n",
       "      <td>145139</td>\n",
       "      <td>-2396</td>\n",
       "      <td>-1.624021</td>\n",
       "    </tr>\n",
       "    <tr>\n",
       "      <th>156</th>\n",
       "      <td>전남</td>\n",
       "      <td>나주시</td>\n",
       "      <td>165052</td>\n",
       "      <td>-1188</td>\n",
       "      <td>-0.714629</td>\n",
       "    </tr>\n",
       "    <tr>\n",
       "      <th>169</th>\n",
       "      <td>경북</td>\n",
       "      <td>문경시</td>\n",
       "      <td>140700</td>\n",
       "      <td>-550</td>\n",
       "      <td>-0.389381</td>\n",
       "    </tr>\n",
       "    <tr>\n",
       "      <th>167</th>\n",
       "      <td>경북</td>\n",
       "      <td>영천시</td>\n",
       "      <td>101133</td>\n",
       "      <td>-93</td>\n",
       "      <td>-0.091874</td>\n",
       "    </tr>\n",
       "    <tr>\n",
       "      <th>122</th>\n",
       "      <td>강원</td>\n",
       "      <td>태백시</td>\n",
       "      <td>78333</td>\n",
       "      <td>-42</td>\n",
       "      <td>-0.053589</td>\n",
       "    </tr>\n",
       "    <tr>\n",
       "      <th>151</th>\n",
       "      <td>전북</td>\n",
       "      <td>남원시</td>\n",
       "      <td>141221</td>\n",
       "      <td>486</td>\n",
       "      <td>0.345330</td>\n",
       "    </tr>\n",
       "    <tr>\n",
       "      <th>168</th>\n",
       "      <td>경북</td>\n",
       "      <td>상주시</td>\n",
       "      <td>135574</td>\n",
       "      <td>677</td>\n",
       "      <td>0.501864</td>\n",
       "    </tr>\n",
       "    <tr>\n",
       "      <th>121</th>\n",
       "      <td>강원</td>\n",
       "      <td>동해시</td>\n",
       "      <td>108048</td>\n",
       "      <td>1334</td>\n",
       "      <td>1.250070</td>\n",
       "    </tr>\n",
       "    <tr>\n",
       "      <th>124</th>\n",
       "      <td>강원</td>\n",
       "      <td>삼척시</td>\n",
       "      <td>101639</td>\n",
       "      <td>1472</td>\n",
       "      <td>1.469546</td>\n",
       "    </tr>\n",
       "    <tr>\n",
       "      <th>152</th>\n",
       "      <td>전북</td>\n",
       "      <td>김제시</td>\n",
       "      <td>91925</td>\n",
       "      <td>2487</td>\n",
       "      <td>2.780697</td>\n",
       "    </tr>\n",
       "    <tr>\n",
       "      <th>171</th>\n",
       "      <td>경북</td>\n",
       "      <td>칠곡군</td>\n",
       "      <td>106710</td>\n",
       "      <td>2620</td>\n",
       "      <td>2.517053</td>\n",
       "    </tr>\n",
       "    <tr>\n",
       "      <th>182</th>\n",
       "      <td>경남</td>\n",
       "      <td>밀양시</td>\n",
       "      <td>129125</td>\n",
       "      <td>2670</td>\n",
       "      <td>2.111423</td>\n",
       "    </tr>\n",
       "    <tr>\n",
       "      <th>59</th>\n",
       "      <td>경기</td>\n",
       "      <td>여주시</td>\n",
       "      <td>134433</td>\n",
       "      <td>2808</td>\n",
       "      <td>2.133333</td>\n",
       "    </tr>\n",
       "    <tr>\n",
       "      <th>166</th>\n",
       "      <td>경북</td>\n",
       "      <td>영주시</td>\n",
       "      <td>120705</td>\n",
       "      <td>3444</td>\n",
       "      <td>2.937038</td>\n",
       "    </tr>\n",
       "    <tr>\n",
       "      <th>81</th>\n",
       "      <td>부산</td>\n",
       "      <td>영도구</td>\n",
       "      <td>200742</td>\n",
       "      <td>4625</td>\n",
       "      <td>2.358286</td>\n",
       "    </tr>\n",
       "    <tr>\n",
       "      <th>150</th>\n",
       "      <td>전북</td>\n",
       "      <td>정읍시</td>\n",
       "      <td>111490</td>\n",
       "      <td>4740</td>\n",
       "      <td>4.440281</td>\n",
       "    </tr>\n",
       "    <tr>\n",
       "      <th>149</th>\n",
       "      <td>전북</td>\n",
       "      <td>익산시</td>\n",
       "      <td>148571</td>\n",
       "      <td>4821</td>\n",
       "      <td>3.353739</td>\n",
       "    </tr>\n",
       "    <tr>\n",
       "      <th>183</th>\n",
       "      <td>경남</td>\n",
       "      <td>거제시</td>\n",
       "      <td>161079</td>\n",
       "      <td>5805</td>\n",
       "      <td>3.738552</td>\n",
       "    </tr>\n",
       "    <tr>\n",
       "      <th>148</th>\n",
       "      <td>전북</td>\n",
       "      <td>군산시</td>\n",
       "      <td>120313</td>\n",
       "      <td>6152</td>\n",
       "      <td>5.388881</td>\n",
       "    </tr>\n",
       "    <tr>\n",
       "      <th>123</th>\n",
       "      <td>강원</td>\n",
       "      <td>속초시</td>\n",
       "      <td>143935</td>\n",
       "      <td>6652</td>\n",
       "      <td>4.845465</td>\n",
       "    </tr>\n",
       "    <tr>\n",
       "      <th>139</th>\n",
       "      <td>충남</td>\n",
       "      <td>서산시</td>\n",
       "      <td>154211</td>\n",
       "      <td>7133</td>\n",
       "      <td>4.849808</td>\n",
       "    </tr>\n",
       "  </tbody>\n",
       "</table>\n",
       "</div>"
      ],
      "text/plain": [
       "     시도   구군  2021-07   증가액       증가율\n",
       "144  충남  당진시   159604 -5264 -3.192857\n",
       "180  경남  사천시   123093 -3527 -2.785500\n",
       "78   부산   중구   144688 -2645 -1.795253\n",
       "158  전남  무안군   192525 -2588 -1.326411\n",
       "153  전남  목포시   145139 -2396 -1.624021\n",
       "156  전남  나주시   165052 -1188 -0.714629\n",
       "169  경북  문경시   140700  -550 -0.389381\n",
       "167  경북  영천시   101133   -93 -0.091874\n",
       "122  강원  태백시    78333   -42 -0.053589\n",
       "151  전북  남원시   141221   486  0.345330\n",
       "168  경북  상주시   135574   677  0.501864\n",
       "121  강원  동해시   108048  1334  1.250070\n",
       "124  강원  삼척시   101639  1472  1.469546\n",
       "152  전북  김제시    91925  2487  2.780697\n",
       "171  경북  칠곡군   106710  2620  2.517053\n",
       "182  경남  밀양시   129125  2670  2.111423\n",
       "59   경기  여주시   134433  2808  2.133333\n",
       "166  경북  영주시   120705  3444  2.937038\n",
       "81   부산  영도구   200742  4625  2.358286\n",
       "150  전북  정읍시   111490  4740  4.440281\n",
       "149  전북  익산시   148571  4821  3.353739\n",
       "183  경남  거제시   161079  5805  3.738552\n",
       "148  전북  군산시   120313  6152  5.388881\n",
       "123  강원  속초시   143935  6652  4.845465\n",
       "139  충남  서산시   154211  7133  4.849808"
      ]
     },
     "execution_count": 88,
     "metadata": {},
     "output_type": "execute_result"
    }
   ],
   "source": [
    "# 가격 변동 BOTTOM 25\n",
    "tmp = apart2.sort_values(by='증가액', ascending=True).head(25)\n",
    "\n",
    "# 확인\n",
    "tmp"
   ]
  },
  {
   "cell_type": "markdown",
   "metadata": {
    "id": "egYSZ7FNq5OE"
   },
   "source": [
    "- tmp 데이터프레임을 대상으로 구군별 매매가 증가액을 막대 그래프로 시각화해 확인합니다."
   ]
  },
  {
   "cell_type": "code",
   "execution_count": 89,
   "metadata": {
    "id": "FIGG1PLcfqOu",
    "scrolled": false
   },
   "outputs": [
    {
     "data": {
      "image/png": "[encoded data removed]",
      "text/plain": [
       "<Figure size 720x576 with 1 Axes>"
      ]
     },
     "metadata": {
      "image/png": {
       "height": 518,
       "width": 620
      },
      "needs_background": "light"
     },
     "output_type": "display_data"
    }
   ],
   "source": [
    "# 차트 그리기\n",
    "\n",
    "plt.figure(figsize=(10, 8))\n",
    "plt.bar(tmp['구군'], tmp['증가액'])\n",
    "plt.xticks(rotation=70)\n",
    "plt.title('가격 변동 BOTTOM 25')\n",
    "plt.xlabel('구군')\n",
    "plt.ylabel('아파트 매매가 증가액')\n",
    "plt.show()"
   ]
  },
  {
   "cell_type": "markdown",
   "metadata": {
    "id": "Cpx3PVuzN9bb"
   },
   "source": [
    "### 4.2. 부산 지역 분석"
   ]
  },
  {
   "cell_type": "markdown",
   "metadata": {},
   "source": [
    "**0) 지역 파악**"
   ]
  },
  {
   "cell_type": "code",
   "execution_count": 57,
   "metadata": {},
   "outputs": [
    {
     "data": {
      "text/plain": [
       "array(['서울', '경기', '인천', '부산', '대구', '광주', '대전', '울산', '세종', '강원', '충북',\n",
       "       '충남', '전북', '전남', '경북', '경남', '제주'], dtype=object)"
      ]
     },
     "execution_count": 57,
     "metadata": {},
     "output_type": "execute_result"
    }
   ],
   "source": [
    "apart2['시도'].unique()"
   ]
  },
  {
   "cell_type": "code",
   "execution_count": 58,
   "metadata": {},
   "outputs": [
    {
     "data": {
      "text/plain": [
       "array(['종로구', '중구', '용산구', '성동구', '광진구', '동대문구', '중랑구', '성북구', '강북구',\n",
       "       '도봉구', '노원구', '은평구', '서대문구', '마포구', '양천구', '강서구', '구로구', '금천구',\n",
       "       '영등포구', '동작구', '관악구', '서초구', '강남구', '송파구', '강동구', '과천시', '안양시',\n",
       "       '만안구', '동안구', '성남시', '수정구', '중원구', '분당구', '군포시', '의왕시', '안성시',\n",
       "       '용인시', '처인구', '기흥구', '수지구', '수원시', '장안구', '권선구', '팔달구', '영통구',\n",
       "       '부천시', '안산시', '상록구', '단원구', '시흥시', '광명시', '화성시', '오산시', '평택시',\n",
       "       '남양주시', '구리시', '하남시', '광주시', '이천시', '여주시', '김포시', '고양시', '덕양구',\n",
       "       '일산동구', '일산서구', '파주시', '포천시', '동두천시', '양주시', '의정부시', '동구', '남구',\n",
       "       '연수구', '남동구', '부평구', '계양구', '서구', '영도구', '부산진구', '연제구', '수영구',\n",
       "       '해운대구', '금정구', '동래구', '기장군', '북구', '사상구', '사하구', '수성구', '달서구',\n",
       "       '달성군', '광산구', '유성구', '대덕구', '울주군', '세종시', '춘천시', '원주시', '강릉시',\n",
       "       '동해시', '태백시', '속초시', '삼척시', '청주시', '상당구', '서원구', '흥덕구', '청원구',\n",
       "       '충주시', '제천시', '음성군', '천안시', '동남구', '서북구', '공주시', '보령시', '아산시',\n",
       "       '서산시', '논산시', '계룡시', '홍성군', '예산군', '당진시', '전주시', '완산구', '덕진구',\n",
       "       '군산시', '익산시', '정읍시', '남원시', '김제시', '목포시', '여수시', '순천시', '나주시',\n",
       "       '광양시', '무안군', '포항시', '경주시', '김천시', '안동시', '구미시', '영주시', '영천시',\n",
       "       '상주시', '문경시', '경산시', '칠곡군', '창원시', '의창구', '성산구', '마산합포구', '마산회원구',\n",
       "       '진해구', '진주시', '통영시', '사천시', '김해시', '밀양시', '거제시', '양산시', '제주시',\n",
       "       '서귀포시'], dtype=object)"
      ]
     },
     "execution_count": 58,
     "metadata": {},
     "output_type": "execute_result"
    }
   ],
   "source": [
    "apart2['구군'].unique()"
   ]
  },
  {
   "cell_type": "markdown",
   "metadata": {
    "id": "pc5kSybgOEWu"
   },
   "source": [
    "**1) 부산 지역 데이터 추출**\n",
    "\n",
    "- apart2 데이터프레임에서 부산 지역 데이터만 추출해 새로운 데이터프레임을 선언합니다."
   ]
  },
  {
   "cell_type": "code",
   "execution_count": 61,
   "metadata": {
    "id": "8gAX8HqGkyOG"
   },
   "outputs": [
    {
     "data": {
      "text/html": [
       "<div>\n",
       "<style scoped>\n",
       "    .dataframe tbody tr th:only-of-type {\n",
       "        vertical-align: middle;\n",
       "    }\n",
       "\n",
       "    .dataframe tbody tr th {\n",
       "        vertical-align: top;\n",
       "    }\n",
       "\n",
       "    .dataframe thead th {\n",
       "        text-align: right;\n",
       "    }\n",
       "</style>\n",
       "<table border=\"1\" class=\"dataframe\">\n",
       "  <thead>\n",
       "    <tr style=\"text-align: right;\">\n",
       "      <th></th>\n",
       "      <th>시도</th>\n",
       "      <th>구군</th>\n",
       "      <th>2021-07</th>\n",
       "      <th>증가액</th>\n",
       "      <th>증가율</th>\n",
       "    </tr>\n",
       "  </thead>\n",
       "  <tbody>\n",
       "    <tr>\n",
       "      <th>78</th>\n",
       "      <td>부산</td>\n",
       "      <td>중구</td>\n",
       "      <td>144688</td>\n",
       "      <td>-2645</td>\n",
       "      <td>-1.795253</td>\n",
       "    </tr>\n",
       "    <tr>\n",
       "      <th>79</th>\n",
       "      <td>부산</td>\n",
       "      <td>서구</td>\n",
       "      <td>301656</td>\n",
       "      <td>29916</td>\n",
       "      <td>11.009053</td>\n",
       "    </tr>\n",
       "    <tr>\n",
       "      <th>80</th>\n",
       "      <td>부산</td>\n",
       "      <td>동구</td>\n",
       "      <td>225986</td>\n",
       "      <td>20139</td>\n",
       "      <td>9.783480</td>\n",
       "    </tr>\n",
       "    <tr>\n",
       "      <th>81</th>\n",
       "      <td>부산</td>\n",
       "      <td>영도구</td>\n",
       "      <td>200742</td>\n",
       "      <td>4625</td>\n",
       "      <td>2.358286</td>\n",
       "    </tr>\n",
       "    <tr>\n",
       "      <th>82</th>\n",
       "      <td>부산</td>\n",
       "      <td>부산진구</td>\n",
       "      <td>299675</td>\n",
       "      <td>41122</td>\n",
       "      <td>15.904669</td>\n",
       "    </tr>\n",
       "    <tr>\n",
       "      <th>83</th>\n",
       "      <td>부산</td>\n",
       "      <td>남구</td>\n",
       "      <td>441427</td>\n",
       "      <td>82844</td>\n",
       "      <td>23.103159</td>\n",
       "    </tr>\n",
       "    <tr>\n",
       "      <th>84</th>\n",
       "      <td>부산</td>\n",
       "      <td>연제구</td>\n",
       "      <td>431333</td>\n",
       "      <td>75416</td>\n",
       "      <td>21.189210</td>\n",
       "    </tr>\n",
       "    <tr>\n",
       "      <th>85</th>\n",
       "      <td>부산</td>\n",
       "      <td>수영구</td>\n",
       "      <td>510421</td>\n",
       "      <td>79132</td>\n",
       "      <td>18.347790</td>\n",
       "    </tr>\n",
       "    <tr>\n",
       "      <th>86</th>\n",
       "      <td>부산</td>\n",
       "      <td>해운대구</td>\n",
       "      <td>526641</td>\n",
       "      <td>123977</td>\n",
       "      <td>30.789194</td>\n",
       "    </tr>\n",
       "    <tr>\n",
       "      <th>87</th>\n",
       "      <td>부산</td>\n",
       "      <td>금정구</td>\n",
       "      <td>349512</td>\n",
       "      <td>50475</td>\n",
       "      <td>16.879182</td>\n",
       "    </tr>\n",
       "    <tr>\n",
       "      <th>88</th>\n",
       "      <td>부산</td>\n",
       "      <td>동래구</td>\n",
       "      <td>425036</td>\n",
       "      <td>70500</td>\n",
       "      <td>19.885146</td>\n",
       "    </tr>\n",
       "    <tr>\n",
       "      <th>89</th>\n",
       "      <td>부산</td>\n",
       "      <td>기장군</td>\n",
       "      <td>268671</td>\n",
       "      <td>48464</td>\n",
       "      <td>22.008383</td>\n",
       "    </tr>\n",
       "    <tr>\n",
       "      <th>90</th>\n",
       "      <td>부산</td>\n",
       "      <td>북구</td>\n",
       "      <td>290632</td>\n",
       "      <td>33132</td>\n",
       "      <td>12.866796</td>\n",
       "    </tr>\n",
       "    <tr>\n",
       "      <th>91</th>\n",
       "      <td>부산</td>\n",
       "      <td>강서구</td>\n",
       "      <td>416081</td>\n",
       "      <td>64500</td>\n",
       "      <td>18.345701</td>\n",
       "    </tr>\n",
       "    <tr>\n",
       "      <th>92</th>\n",
       "      <td>부산</td>\n",
       "      <td>사상구</td>\n",
       "      <td>218326</td>\n",
       "      <td>23989</td>\n",
       "      <td>12.344021</td>\n",
       "    </tr>\n",
       "    <tr>\n",
       "      <th>93</th>\n",
       "      <td>부산</td>\n",
       "      <td>사하구</td>\n",
       "      <td>222682</td>\n",
       "      <td>32018</td>\n",
       "      <td>16.792892</td>\n",
       "    </tr>\n",
       "  </tbody>\n",
       "</table>\n",
       "</div>"
      ],
      "text/plain": [
       "    시도    구군  2021-07     증가액        증가율\n",
       "78  부산    중구   144688   -2645  -1.795253\n",
       "79  부산    서구   301656   29916  11.009053\n",
       "80  부산    동구   225986   20139   9.783480\n",
       "81  부산   영도구   200742    4625   2.358286\n",
       "82  부산  부산진구   299675   41122  15.904669\n",
       "83  부산    남구   441427   82844  23.103159\n",
       "84  부산   연제구   431333   75416  21.189210\n",
       "85  부산   수영구   510421   79132  18.347790\n",
       "86  부산  해운대구   526641  123977  30.789194\n",
       "87  부산   금정구   349512   50475  16.879182\n",
       "88  부산   동래구   425036   70500  19.885146\n",
       "89  부산   기장군   268671   48464  22.008383\n",
       "90  부산    북구   290632   33132  12.866796\n",
       "91  부산   강서구   416081   64500  18.345701\n",
       "92  부산   사상구   218326   23989  12.344021\n",
       "93  부산   사하구   222682   32018  16.792892"
      ]
     },
     "execution_count": 61,
     "metadata": {},
     "output_type": "execute_result"
    }
   ],
   "source": [
    "# 데이터프레임 만들기\n",
    "busan = apart2.loc[apart2['시도']=='부산',:]\n",
    "\n",
    "# 확인\n",
    "busan"
   ]
  },
  {
   "cell_type": "markdown",
   "metadata": {
    "id": "g1ZlK-i0QRFC"
   },
   "source": [
    "**2) 부산 지역 가격 변동 현황**\n",
    "\n",
    "- 부산 지역 아파트 매매가 증가액을 막대 그래프로 시각화해 확인합니다."
   ]
  },
  {
   "cell_type": "code",
   "execution_count": 69,
   "metadata": {
    "id": "suV6IuY7pJKe"
   },
   "outputs": [
    {
     "data": {
      "image/png": "[encoded data removed]",
      "text/plain": [
       "<Figure size 720x576 with 1 Axes>"
      ]
     },
     "metadata": {
      "image/png": {
       "height": 527,
       "width": 626
      },
      "needs_background": "light"
     },
     "output_type": "display_data"
    }
   ],
   "source": [
    "# 부산 지역 가격 변동\n",
    "\n",
    "plt.figure(figsize=(10, 8))\n",
    "plt.bar(busan['구군'], busan['증가액'])\n",
    "plt.xticks(rotation=70)\n",
    "plt.title('부산 지역 아파트 매매가')\n",
    "plt.xlabel('구군')\n",
    "plt.ylabel('아파트 매매가 증가액')\n",
    "plt.show()\n"
   ]
  },
  {
   "cell_type": "markdown",
   "metadata": {
    "id": "vZoJvQRUQV70"
   },
   "source": [
    "**3) 부산 지역 가격 변동 순위**\n",
    "\n",
    "- 아파트 매매가 증가액을 기준으로 내림차순 정렬해 tmp_b 데이터프레임을 선언합니다.\n",
    "- tmp_b 데이터프레임을 대상으로 다시 시각화해 확인합니다."
   ]
  },
  {
   "cell_type": "code",
   "execution_count": 72,
   "metadata": {
    "id": "KW1k7I3fqeDz",
    "scrolled": false
   },
   "outputs": [
    {
     "data": {
      "image/png": "[encoded data removed]",
      "text/plain": [
       "<Figure size 720x576 with 1 Axes>"
      ]
     },
     "metadata": {
      "image/png": {
       "height": 527,
       "width": 626
      },
      "needs_background": "light"
     },
     "output_type": "display_data"
    }
   ],
   "source": [
    "# 부산 지역 가격 변동 순위\n",
    "tmp_b = busan.sort_values(by='증가액', ascending=False)\n",
    "\n",
    "# 시각화\n",
    "plt.figure(figsize=(10, 8))\n",
    "plt.bar(tmp_b['구군'], tmp_b['증가액'])\n",
    "plt.xticks(rotation=70)\n",
    "plt.title('부산 지역 가격 변동 순위')\n",
    "plt.xlabel('구군')\n",
    "plt.ylabel('아파트 매매가 증가액')\n",
    "plt.show()"
   ]
  },
  {
   "cell_type": "markdown",
   "metadata": {},
   "source": [
    "### 4.3. 울산 지역 분석"
   ]
  },
  {
   "cell_type": "markdown",
   "metadata": {},
   "source": [
    "**1) 울산 지역 데이터 추출**"
   ]
  },
  {
   "cell_type": "code",
   "execution_count": 85,
   "metadata": {},
   "outputs": [
    {
     "data": {
      "text/html": [
       "<div>\n",
       "<style scoped>\n",
       "    .dataframe tbody tr th:only-of-type {\n",
       "        vertical-align: middle;\n",
       "    }\n",
       "\n",
       "    .dataframe tbody tr th {\n",
       "        vertical-align: top;\n",
       "    }\n",
       "\n",
       "    .dataframe thead th {\n",
       "        text-align: right;\n",
       "    }\n",
       "</style>\n",
       "<table border=\"1\" class=\"dataframe\">\n",
       "  <thead>\n",
       "    <tr style=\"text-align: right;\">\n",
       "      <th></th>\n",
       "      <th>시도</th>\n",
       "      <th>구군</th>\n",
       "      <th>2021-07</th>\n",
       "      <th>증가액</th>\n",
       "      <th>증가율</th>\n",
       "    </tr>\n",
       "  </thead>\n",
       "  <tbody>\n",
       "    <tr>\n",
       "      <th>112</th>\n",
       "      <td>울산</td>\n",
       "      <td>중구</td>\n",
       "      <td>337967</td>\n",
       "      <td>60506</td>\n",
       "      <td>21.807029</td>\n",
       "    </tr>\n",
       "    <tr>\n",
       "      <th>113</th>\n",
       "      <td>울산</td>\n",
       "      <td>남구</td>\n",
       "      <td>351745</td>\n",
       "      <td>67349</td>\n",
       "      <td>23.681416</td>\n",
       "    </tr>\n",
       "    <tr>\n",
       "      <th>114</th>\n",
       "      <td>울산</td>\n",
       "      <td>동구</td>\n",
       "      <td>224091</td>\n",
       "      <td>17955</td>\n",
       "      <td>8.710269</td>\n",
       "    </tr>\n",
       "    <tr>\n",
       "      <th>115</th>\n",
       "      <td>울산</td>\n",
       "      <td>북구</td>\n",
       "      <td>241496</td>\n",
       "      <td>33768</td>\n",
       "      <td>16.255873</td>\n",
       "    </tr>\n",
       "    <tr>\n",
       "      <th>116</th>\n",
       "      <td>울산</td>\n",
       "      <td>울주군</td>\n",
       "      <td>229476</td>\n",
       "      <td>29149</td>\n",
       "      <td>14.550710</td>\n",
       "    </tr>\n",
       "  </tbody>\n",
       "</table>\n",
       "</div>"
      ],
      "text/plain": [
       "     시도   구군  2021-07    증가액        증가율\n",
       "112  울산   중구   337967  60506  21.807029\n",
       "113  울산   남구   351745  67349  23.681416\n",
       "114  울산   동구   224091  17955   8.710269\n",
       "115  울산   북구   241496  33768  16.255873\n",
       "116  울산  울주군   229476  29149  14.550710"
      ]
     },
     "execution_count": 85,
     "metadata": {},
     "output_type": "execute_result"
    }
   ],
   "source": [
    "Ulsan = apart2.loc[apart2['시도']=='울산',:]\n",
    "Ulsan"
   ]
  },
  {
   "cell_type": "code",
   "execution_count": 86,
   "metadata": {},
   "outputs": [
    {
     "data": {
      "image/png": "[encoded data removed]",
      "text/plain": [
       "<Figure size 432x288 with 1 Axes>"
      ]
     },
     "metadata": {
      "image/png": {
       "height": 251,
       "width": 383
      },
      "needs_background": "light"
     },
     "output_type": "display_data"
    }
   ],
   "source": [
    "plt.bar(Ulsan['구군'], Ulsan['증가액'])\n",
    "plt.show()"
   ]
  },
  {
   "cell_type": "code",
   "execution_count": 133,
   "metadata": {},
   "outputs": [
    {
     "data": {
      "image/png": "[encoded data removed]",
      "text/plain": [
       "<Figure size 432x288 with 1 Axes>"
      ]
     },
     "metadata": {
      "image/png": {
       "height": 249,
       "width": 367
      },
      "needs_background": "light"
     },
     "output_type": "display_data"
    }
   ],
   "source": [
    "plt.bar(Ulsan['구군'], Ulsan['증가율'])\n",
    "plt.show()"
   ]
  },
  {
   "cell_type": "markdown",
   "metadata": {},
   "source": [
    "**2) 울산 지역 데이터 추출**"
   ]
  },
  {
   "cell_type": "code",
   "execution_count": 102,
   "metadata": {
    "scrolled": false
   },
   "outputs": [
    {
     "name": "stderr",
     "output_type": "stream",
     "text": [
      "C:\\Users\\User\\anaconda3\\lib\\site-packages\\pandas\\core\\frame.py:4308: SettingWithCopyWarning: \n",
      "A value is trying to be set on a copy of a slice from a DataFrame\n",
      "\n",
      "See the caveats in the documentation: https://pandas.pydata.org/pandas-docs/stable/user_guide/indexing.html#returning-a-view-versus-a-copy\n",
      "  return super().drop(\n"
     ]
    },
    {
     "data": {
      "text/html": [
       "<div>\n",
       "<style scoped>\n",
       "    .dataframe tbody tr th:only-of-type {\n",
       "        vertical-align: middle;\n",
       "    }\n",
       "\n",
       "    .dataframe tbody tr th {\n",
       "        vertical-align: top;\n",
       "    }\n",
       "\n",
       "    .dataframe thead th {\n",
       "        text-align: right;\n",
       "    }\n",
       "</style>\n",
       "<table border=\"1\" class=\"dataframe\">\n",
       "  <thead>\n",
       "    <tr style=\"text-align: right;\">\n",
       "      <th></th>\n",
       "      <th>2020-08</th>\n",
       "      <th>2020-09</th>\n",
       "      <th>2020-10</th>\n",
       "      <th>2020-11</th>\n",
       "      <th>2020-12</th>\n",
       "      <th>2021-01</th>\n",
       "      <th>2021-02</th>\n",
       "      <th>2021-03</th>\n",
       "      <th>2021-04</th>\n",
       "      <th>2021-05</th>\n",
       "      <th>2021-06</th>\n",
       "      <th>2021-07</th>\n",
       "    </tr>\n",
       "    <tr>\n",
       "      <th>구군</th>\n",
       "      <th></th>\n",
       "      <th></th>\n",
       "      <th></th>\n",
       "      <th></th>\n",
       "      <th></th>\n",
       "      <th></th>\n",
       "      <th></th>\n",
       "      <th></th>\n",
       "      <th></th>\n",
       "      <th></th>\n",
       "      <th></th>\n",
       "      <th></th>\n",
       "    </tr>\n",
       "  </thead>\n",
       "  <tbody>\n",
       "    <tr>\n",
       "      <th>중구</th>\n",
       "      <td>277461</td>\n",
       "      <td>281645</td>\n",
       "      <td>286678</td>\n",
       "      <td>290974</td>\n",
       "      <td>296914</td>\n",
       "      <td>308342</td>\n",
       "      <td>316803</td>\n",
       "      <td>323618</td>\n",
       "      <td>327125</td>\n",
       "      <td>330421</td>\n",
       "      <td>333507</td>\n",
       "      <td>337967</td>\n",
       "    </tr>\n",
       "    <tr>\n",
       "      <th>남구</th>\n",
       "      <td>284396</td>\n",
       "      <td>289047</td>\n",
       "      <td>297038</td>\n",
       "      <td>305000</td>\n",
       "      <td>314604</td>\n",
       "      <td>334047</td>\n",
       "      <td>341142</td>\n",
       "      <td>343925</td>\n",
       "      <td>345547</td>\n",
       "      <td>346943</td>\n",
       "      <td>347858</td>\n",
       "      <td>351745</td>\n",
       "    </tr>\n",
       "    <tr>\n",
       "      <th>동구</th>\n",
       "      <td>206136</td>\n",
       "      <td>204909</td>\n",
       "      <td>203582</td>\n",
       "      <td>204141</td>\n",
       "      <td>205445</td>\n",
       "      <td>213373</td>\n",
       "      <td>219855</td>\n",
       "      <td>221542</td>\n",
       "      <td>221786</td>\n",
       "      <td>222142</td>\n",
       "      <td>222405</td>\n",
       "      <td>224091</td>\n",
       "    </tr>\n",
       "    <tr>\n",
       "      <th>북구</th>\n",
       "      <td>207728</td>\n",
       "      <td>209625</td>\n",
       "      <td>212103</td>\n",
       "      <td>213848</td>\n",
       "      <td>216371</td>\n",
       "      <td>224335</td>\n",
       "      <td>231022</td>\n",
       "      <td>235223</td>\n",
       "      <td>236884</td>\n",
       "      <td>238067</td>\n",
       "      <td>239902</td>\n",
       "      <td>241496</td>\n",
       "    </tr>\n",
       "    <tr>\n",
       "      <th>울주군</th>\n",
       "      <td>200327</td>\n",
       "      <td>201952</td>\n",
       "      <td>204060</td>\n",
       "      <td>205345</td>\n",
       "      <td>207583</td>\n",
       "      <td>215399</td>\n",
       "      <td>221268</td>\n",
       "      <td>223708</td>\n",
       "      <td>226518</td>\n",
       "      <td>227369</td>\n",
       "      <td>227595</td>\n",
       "      <td>229476</td>\n",
       "    </tr>\n",
       "  </tbody>\n",
       "</table>\n",
       "</div>"
      ],
      "text/plain": [
       "     2020-08  2020-09  2020-10  2020-11  2020-12  2021-01  2021-02  2021-03  \\\n",
       "구군                                                                            \n",
       "중구    277461   281645   286678   290974   296914   308342   316803   323618   \n",
       "남구    284396   289047   297038   305000   314604   334047   341142   343925   \n",
       "동구    206136   204909   203582   204141   205445   213373   219855   221542   \n",
       "북구    207728   209625   212103   213848   216371   224335   231022   235223   \n",
       "울주군   200327   201952   204060   205345   207583   215399   221268   223708   \n",
       "\n",
       "     2021-04  2021-05  2021-06  2021-07  \n",
       "구군                                       \n",
       "중구    327125   330421   333507   337967  \n",
       "남구    345547   346943   347858   351745  \n",
       "동구    221786   222142   222405   224091  \n",
       "북구    236884   238067   239902   241496  \n",
       "울주군   226518   227369   227595   229476  "
      ]
     },
     "execution_count": 102,
     "metadata": {},
     "output_type": "execute_result"
    }
   ],
   "source": [
    "# 데이터프레임 만들기\n",
    "ulsan = apart.loc[apart2['시도']=='울산',:]\n",
    "ulsan.set_index('구군', inplace=True) \n",
    "ulsan.drop(columns=['시도', '증가액', '증가율'],axis=0,inplace=True)\n",
    "\n",
    "# 확인\n",
    "ulsan"
   ]
  },
  {
   "cell_type": "markdown",
   "metadata": {},
   "source": [
    "**3) 행과 열 변환**\n",
    "- 행렬을 변환하여 시간순으로 데이터프레임을 바꾼다."
   ]
  },
  {
   "cell_type": "code",
   "execution_count": 103,
   "metadata": {},
   "outputs": [
    {
     "data": {
      "text/html": [
       "<div>\n",
       "<style scoped>\n",
       "    .dataframe tbody tr th:only-of-type {\n",
       "        vertical-align: middle;\n",
       "    }\n",
       "\n",
       "    .dataframe tbody tr th {\n",
       "        vertical-align: top;\n",
       "    }\n",
       "\n",
       "    .dataframe thead th {\n",
       "        text-align: right;\n",
       "    }\n",
       "</style>\n",
       "<table border=\"1\" class=\"dataframe\">\n",
       "  <thead>\n",
       "    <tr style=\"text-align: right;\">\n",
       "      <th>구군</th>\n",
       "      <th>중구</th>\n",
       "      <th>남구</th>\n",
       "      <th>동구</th>\n",
       "      <th>북구</th>\n",
       "      <th>울주군</th>\n",
       "    </tr>\n",
       "  </thead>\n",
       "  <tbody>\n",
       "    <tr>\n",
       "      <th>2020-08</th>\n",
       "      <td>277461</td>\n",
       "      <td>284396</td>\n",
       "      <td>206136</td>\n",
       "      <td>207728</td>\n",
       "      <td>200327</td>\n",
       "    </tr>\n",
       "    <tr>\n",
       "      <th>2020-09</th>\n",
       "      <td>281645</td>\n",
       "      <td>289047</td>\n",
       "      <td>204909</td>\n",
       "      <td>209625</td>\n",
       "      <td>201952</td>\n",
       "    </tr>\n",
       "    <tr>\n",
       "      <th>2020-10</th>\n",
       "      <td>286678</td>\n",
       "      <td>297038</td>\n",
       "      <td>203582</td>\n",
       "      <td>212103</td>\n",
       "      <td>204060</td>\n",
       "    </tr>\n",
       "    <tr>\n",
       "      <th>2020-11</th>\n",
       "      <td>290974</td>\n",
       "      <td>305000</td>\n",
       "      <td>204141</td>\n",
       "      <td>213848</td>\n",
       "      <td>205345</td>\n",
       "    </tr>\n",
       "    <tr>\n",
       "      <th>2020-12</th>\n",
       "      <td>296914</td>\n",
       "      <td>314604</td>\n",
       "      <td>205445</td>\n",
       "      <td>216371</td>\n",
       "      <td>207583</td>\n",
       "    </tr>\n",
       "    <tr>\n",
       "      <th>2021-01</th>\n",
       "      <td>308342</td>\n",
       "      <td>334047</td>\n",
       "      <td>213373</td>\n",
       "      <td>224335</td>\n",
       "      <td>215399</td>\n",
       "    </tr>\n",
       "    <tr>\n",
       "      <th>2021-02</th>\n",
       "      <td>316803</td>\n",
       "      <td>341142</td>\n",
       "      <td>219855</td>\n",
       "      <td>231022</td>\n",
       "      <td>221268</td>\n",
       "    </tr>\n",
       "    <tr>\n",
       "      <th>2021-03</th>\n",
       "      <td>323618</td>\n",
       "      <td>343925</td>\n",
       "      <td>221542</td>\n",
       "      <td>235223</td>\n",
       "      <td>223708</td>\n",
       "    </tr>\n",
       "    <tr>\n",
       "      <th>2021-04</th>\n",
       "      <td>327125</td>\n",
       "      <td>345547</td>\n",
       "      <td>221786</td>\n",
       "      <td>236884</td>\n",
       "      <td>226518</td>\n",
       "    </tr>\n",
       "    <tr>\n",
       "      <th>2021-05</th>\n",
       "      <td>330421</td>\n",
       "      <td>346943</td>\n",
       "      <td>222142</td>\n",
       "      <td>238067</td>\n",
       "      <td>227369</td>\n",
       "    </tr>\n",
       "    <tr>\n",
       "      <th>2021-06</th>\n",
       "      <td>333507</td>\n",
       "      <td>347858</td>\n",
       "      <td>222405</td>\n",
       "      <td>239902</td>\n",
       "      <td>227595</td>\n",
       "    </tr>\n",
       "    <tr>\n",
       "      <th>2021-07</th>\n",
       "      <td>337967</td>\n",
       "      <td>351745</td>\n",
       "      <td>224091</td>\n",
       "      <td>241496</td>\n",
       "      <td>229476</td>\n",
       "    </tr>\n",
       "  </tbody>\n",
       "</table>\n",
       "</div>"
      ],
      "text/plain": [
       "구군           중구      남구      동구      북구     울주군\n",
       "2020-08  277461  284396  206136  207728  200327\n",
       "2020-09  281645  289047  204909  209625  201952\n",
       "2020-10  286678  297038  203582  212103  204060\n",
       "2020-11  290974  305000  204141  213848  205345\n",
       "2020-12  296914  314604  205445  216371  207583\n",
       "2021-01  308342  334047  213373  224335  215399\n",
       "2021-02  316803  341142  219855  231022  221268\n",
       "2021-03  323618  343925  221542  235223  223708\n",
       "2021-04  327125  345547  221786  236884  226518\n",
       "2021-05  330421  346943  222142  238067  227369\n",
       "2021-06  333507  347858  222405  239902  227595\n",
       "2021-07  337967  351745  224091  241496  229476"
      ]
     },
     "execution_count": 103,
     "metadata": {},
     "output_type": "execute_result"
    }
   ],
   "source": [
    "u1 = np.transpose(ulsan)\n",
    "u1"
   ]
  },
  {
   "cell_type": "markdown",
   "metadata": {},
   "source": [
    "**4) 울산 지역 중 '남구' 아파트 가격 추이**"
   ]
  },
  {
   "cell_type": "code",
   "execution_count": 121,
   "metadata": {},
   "outputs": [],
   "source": [
    "u_nam = u1.loc[:,'남구']"
   ]
  },
  {
   "cell_type": "code",
   "execution_count": 126,
   "metadata": {
    "scrolled": false
   },
   "outputs": [
    {
     "data": {
      "image/png": "[encoded data removed]",
      "text/plain": [
       "<Figure size 720x576 with 1 Axes>"
      ]
     },
     "metadata": {
      "image/png": {
       "height": 524,
       "width": 626
      },
      "needs_background": "light"
     },
     "output_type": "display_data"
    }
   ],
   "source": [
    "plt.figure(figsize=(10, 8))\n",
    "plt.plot(u_nam, marker='o')\n",
    "plt.xticks(rotation=70)\n",
    "plt.title('울산 남구 지역의 아파트 가격')\n",
    "plt.ylabel('아파트 매매가격')\n",
    "plt.xlabel('날짜')\n",
    "plt.show()"
   ]
  },
  {
   "cell_type": "markdown",
   "metadata": {},
   "source": [
    "**5) 울산 지역 아파트 가격 추이**"
   ]
  },
  {
   "cell_type": "code",
   "execution_count": 122,
   "metadata": {},
   "outputs": [],
   "source": [
    "u_jun = u1.loc[:,'중구']\n",
    "u_don = u1.loc[:,'동구']\n",
    "u_buk = u1.loc[:,'북구']\n",
    "u_ulj = u1.loc[:,'울주군']"
   ]
  },
  {
   "cell_type": "code",
   "execution_count": 129,
   "metadata": {},
   "outputs": [
    {
     "data": {
      "image/png": "[encoded data removed]",
      "text/plain": [
       "<Figure size 720x576 with 1 Axes>"
      ]
     },
     "metadata": {
      "image/png": {
       "height": 524,
       "width": 626
      },
      "needs_background": "light"
     },
     "output_type": "display_data"
    }
   ],
   "source": [
    "plt.figure(figsize=(10, 8))\n",
    "plt.plot(u_nam, marker='o')\n",
    "plt.plot(u_jun, marker='o')\n",
    "plt.plot(u_don, marker='o')\n",
    "plt.plot(u_buk, marker='o')\n",
    "plt.plot(u_ulj, marker='o')\n",
    "plt.xticks(rotation=70)\n",
    "plt.title('울산 지역의 아파트 가격')\n",
    "plt.ylabel('아파트 매매가격(천)')\n",
    "plt.xlabel('날짜')\n",
    "plt.legend(['남구', '중구','동구','북구','울주군'])\n",
    "plt.show()"
   ]
  },
  {
   "cell_type": "markdown",
   "metadata": {
    "id": "dzoUbxiYfdiQ"
   },
   "source": [
    "## 5.정리\n",
    "\n",
    "- 분석을 통해 확인한 내용을 정리합니다."
   ]
  },
  {
   "cell_type": "markdown",
   "metadata": {
    "id": "svu99_E3fdiR"
   },
   "source": [
    "**1) 의견**\n",
    "\n",
    "- 아파트 매매 증가액이 농촌지역을 중심으로 낮은 것으로 보아, 경제활동 인구가 적고 노령 인구가 많은 것으로 추정된다. \n",
    "- 특히, 부산 같은 대도시 지역이여도 고령화가 진행되고 있기 때문에 매매 증가액이 낮은 것을 볼 수 있다.\n",
    "- 9개 구군을 제외하고 아파트 매매가격이 모두 상승한 것은 물가 상승과 정책 변화의 이유가 있어보인다.\n",
    "- 아파트 매매가격이 대부분 상승하여 아파트 매매가격의 안정화가 필요해 보인다."
   ]
  },
  {
   "cell_type": "markdown",
   "metadata": {
    "id": "Fg5zYFiZfdiR"
   },
   "source": [
    "**2) 기타**\n",
    "\n",
    "- 살고 있는 지역의 아파트 매매가격을 낱낱이 살펴봐서 유익한 시간이었습니다ㅎㅎ 더 많은 자료를 활용하여 다방면으로 분석해보고 싶습니다!"
   ]
  }
 ],
 "metadata": {
  "colab": {
   "collapsed_sections": [],
   "name": "X02 - [레벨업] 전국 아파트  평균 매매가격.ipynb",
   "provenance": []
  },
  "kernelspec": {
   "display_name": "Python 3",
   "language": "python",
   "name": "python3"
  },
  "language_info": {
   "codemirror_mode": {
    "name": "ipython",
    "version": 3
   },
   "file_extension": ".py",
   "mimetype": "text/x-python",
   "name": "python",
   "nbconvert_exporter": "python",
   "pygments_lexer": "ipython3",
   "version": "3.8.8"
  }
 },
 "nbformat": 4,
 "nbformat_minor": 1
}
