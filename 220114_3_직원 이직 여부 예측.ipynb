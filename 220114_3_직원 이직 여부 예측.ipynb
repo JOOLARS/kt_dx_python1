{
 "cells": [
  {
   "cell_type": "markdown",
   "metadata": {
    "id": "mTt7qGUTCcFs"
   },
   "source": [
    "# 과제3. 직원 이직 분석"
   ]
  },
  {
   "cell_type": "markdown",
   "metadata": {
    "id": "wxRsRRwbEQ2K"
   },
   "source": [
    "* 여러분은 OO회사의 **데이터분석가** 입니다.\n",
    "* **인사팀**에서는 여러분에게 우리 회사 직원의 **이직(Attrition)에 영향을 주는 요인**을 분석해달라고 요청해 왔습니다."
   ]
  },
  {
   "cell_type": "markdown",
   "metadata": {
    "id": "0wuYJKZHjA3d"
   },
   "source": [
    "![](https://adoptostaging.blob.core.windows.net/media/employee-attrition-reasons-9LIqMv.jpg)"
   ]
  },
  {
   "cell_type": "markdown",
   "metadata": {
    "id": "AHmt88Q5EVsj"
   },
   "source": [
    "## 0.환경설정"
   ]
  },
  {
   "cell_type": "markdown",
   "metadata": {
    "id": "KnzVh2LmkLDU"
   },
   "source": [
    "### 1) 라이브러리 로딩"
   ]
  },
  {
   "cell_type": "code",
   "execution_count": 230,
   "metadata": {
    "colab": {
     "base_uri": "https://localhost:8080/"
    },
    "executionInfo": {
     "elapsed": 1814,
     "status": "ok",
     "timestamp": 1642116812855,
     "user": {
      "displayName": "한기영",
      "photoUrl": "https://lh3.googleusercontent.com/a/default-user=s64",
      "userId": "13049187003176135487"
     },
     "user_tz": -540
    },
    "id": "3rsQerEaELwI",
    "outputId": "311fa740-af96-4f17-df74-b950f836c97e"
   },
   "outputs": [],
   "source": [
    "import pandas as pd\n",
    "import numpy as np\n",
    "import matplotlib.pyplot as plt\n",
    "import seaborn as sns\n",
    "\n",
    "from statsmodels.graphics.mosaicplot import mosaic\n",
    "from scipy import stats as spst\n",
    "import statsmodels.api as sm"
   ]
  },
  {
   "cell_type": "markdown",
   "metadata": {
    "id": "5Qh5KYWokO_N"
   },
   "source": [
    "### 2) 데이터 로딩"
   ]
  },
  {
   "cell_type": "code",
   "execution_count": 231,
   "metadata": {
    "colab": {
     "base_uri": "https://localhost:8080/",
     "height": 427
    },
    "executionInfo": {
     "elapsed": 276,
     "status": "ok",
     "timestamp": 1642116994336,
     "user": {
      "displayName": "한기영",
      "photoUrl": "https://lh3.googleusercontent.com/a/default-user=s64",
      "userId": "13049187003176135487"
     },
     "user_tz": -540
    },
    "id": "Bw5yZwT0MJKx",
    "outputId": "197c4587-f9a3-419f-c89a-745ff72ab54a"
   },
   "outputs": [
    {
     "data": {
      "text/html": [
       "<div>\n",
       "<style scoped>\n",
       "    .dataframe tbody tr th:only-of-type {\n",
       "        vertical-align: middle;\n",
       "    }\n",
       "\n",
       "    .dataframe tbody tr th {\n",
       "        vertical-align: top;\n",
       "    }\n",
       "\n",
       "    .dataframe thead th {\n",
       "        text-align: right;\n",
       "    }\n",
       "</style>\n",
       "<table border=\"1\" class=\"dataframe\">\n",
       "  <thead>\n",
       "    <tr style=\"text-align: right;\">\n",
       "      <th></th>\n",
       "      <th>Attrition</th>\n",
       "      <th>Age</th>\n",
       "      <th>DistanceFromHome</th>\n",
       "      <th>Gender</th>\n",
       "      <th>JobSatisfaction</th>\n",
       "      <th>MaritalStatus</th>\n",
       "      <th>MonthlyIncome</th>\n",
       "      <th>NumCompaniesWorked</th>\n",
       "      <th>OverTime</th>\n",
       "      <th>PercentSalaryHike</th>\n",
       "      <th>RelationshipSatisfaction</th>\n",
       "      <th>TotalWorkingYears</th>\n",
       "      <th>WorkLifeBalance</th>\n",
       "    </tr>\n",
       "  </thead>\n",
       "  <tbody>\n",
       "    <tr>\n",
       "      <th>0</th>\n",
       "      <td>0</td>\n",
       "      <td>33</td>\n",
       "      <td>7.0</td>\n",
       "      <td>Male</td>\n",
       "      <td>3</td>\n",
       "      <td>Married</td>\n",
       "      <td>11691</td>\n",
       "      <td>0.0</td>\n",
       "      <td>No</td>\n",
       "      <td>11</td>\n",
       "      <td>4</td>\n",
       "      <td>14</td>\n",
       "      <td>4</td>\n",
       "    </tr>\n",
       "    <tr>\n",
       "      <th>1</th>\n",
       "      <td>0</td>\n",
       "      <td>35</td>\n",
       "      <td>18.0</td>\n",
       "      <td>Male</td>\n",
       "      <td>4</td>\n",
       "      <td>Single</td>\n",
       "      <td>9362</td>\n",
       "      <td>2.0</td>\n",
       "      <td>No</td>\n",
       "      <td>11</td>\n",
       "      <td>3</td>\n",
       "      <td>10</td>\n",
       "      <td>3</td>\n",
       "    </tr>\n",
       "    <tr>\n",
       "      <th>2</th>\n",
       "      <td>0</td>\n",
       "      <td>42</td>\n",
       "      <td>6.0</td>\n",
       "      <td>Male</td>\n",
       "      <td>1</td>\n",
       "      <td>Married</td>\n",
       "      <td>13348</td>\n",
       "      <td>9.0</td>\n",
       "      <td>No</td>\n",
       "      <td>13</td>\n",
       "      <td>2</td>\n",
       "      <td>18</td>\n",
       "      <td>4</td>\n",
       "    </tr>\n",
       "    <tr>\n",
       "      <th>3</th>\n",
       "      <td>0</td>\n",
       "      <td>46</td>\n",
       "      <td>2.0</td>\n",
       "      <td>Female</td>\n",
       "      <td>1</td>\n",
       "      <td>Married</td>\n",
       "      <td>17048</td>\n",
       "      <td>8.0</td>\n",
       "      <td>No</td>\n",
       "      <td>23</td>\n",
       "      <td>1</td>\n",
       "      <td>28</td>\n",
       "      <td>3</td>\n",
       "    </tr>\n",
       "    <tr>\n",
       "      <th>4</th>\n",
       "      <td>0</td>\n",
       "      <td>39</td>\n",
       "      <td>NaN</td>\n",
       "      <td>Male</td>\n",
       "      <td>4</td>\n",
       "      <td>Divorced</td>\n",
       "      <td>4127</td>\n",
       "      <td>2.0</td>\n",
       "      <td>No</td>\n",
       "      <td>18</td>\n",
       "      <td>4</td>\n",
       "      <td>7</td>\n",
       "      <td>3</td>\n",
       "    </tr>\n",
       "    <tr>\n",
       "      <th>5</th>\n",
       "      <td>1</td>\n",
       "      <td>22</td>\n",
       "      <td>4.0</td>\n",
       "      <td>Male</td>\n",
       "      <td>3</td>\n",
       "      <td>Single</td>\n",
       "      <td>3894</td>\n",
       "      <td>5.0</td>\n",
       "      <td>No</td>\n",
       "      <td>16</td>\n",
       "      <td>3</td>\n",
       "      <td>4</td>\n",
       "      <td>3</td>\n",
       "    </tr>\n",
       "    <tr>\n",
       "      <th>6</th>\n",
       "      <td>0</td>\n",
       "      <td>24</td>\n",
       "      <td>21.0</td>\n",
       "      <td>Male</td>\n",
       "      <td>1</td>\n",
       "      <td>Divorced</td>\n",
       "      <td>2296</td>\n",
       "      <td>0.0</td>\n",
       "      <td>No</td>\n",
       "      <td>14</td>\n",
       "      <td>2</td>\n",
       "      <td>2</td>\n",
       "      <td>3</td>\n",
       "    </tr>\n",
       "    <tr>\n",
       "      <th>7</th>\n",
       "      <td>0</td>\n",
       "      <td>34</td>\n",
       "      <td>8.0</td>\n",
       "      <td>Male</td>\n",
       "      <td>3</td>\n",
       "      <td>Married</td>\n",
       "      <td>4404</td>\n",
       "      <td>2.0</td>\n",
       "      <td>No</td>\n",
       "      <td>12</td>\n",
       "      <td>1</td>\n",
       "      <td>6</td>\n",
       "      <td>4</td>\n",
       "    </tr>\n",
       "    <tr>\n",
       "      <th>8</th>\n",
       "      <td>0</td>\n",
       "      <td>30</td>\n",
       "      <td>20.0</td>\n",
       "      <td>Male</td>\n",
       "      <td>1</td>\n",
       "      <td>Married</td>\n",
       "      <td>9957</td>\n",
       "      <td>0.0</td>\n",
       "      <td>No</td>\n",
       "      <td>15</td>\n",
       "      <td>3</td>\n",
       "      <td>7</td>\n",
       "      <td>2</td>\n",
       "    </tr>\n",
       "    <tr>\n",
       "      <th>9</th>\n",
       "      <td>0</td>\n",
       "      <td>26</td>\n",
       "      <td>6.0</td>\n",
       "      <td>Female</td>\n",
       "      <td>4</td>\n",
       "      <td>Married</td>\n",
       "      <td>2659</td>\n",
       "      <td>1.0</td>\n",
       "      <td>Yes</td>\n",
       "      <td>13</td>\n",
       "      <td>3</td>\n",
       "      <td>3</td>\n",
       "      <td>3</td>\n",
       "    </tr>\n",
       "  </tbody>\n",
       "</table>\n",
       "</div>"
      ],
      "text/plain": [
       "   Attrition  Age  DistanceFromHome  Gender  JobSatisfaction MaritalStatus  \\\n",
       "0          0   33               7.0    Male                3       Married   \n",
       "1          0   35              18.0    Male                4        Single   \n",
       "2          0   42               6.0    Male                1       Married   \n",
       "3          0   46               2.0  Female                1       Married   \n",
       "4          0   39               NaN    Male                4      Divorced   \n",
       "5          1   22               4.0    Male                3        Single   \n",
       "6          0   24              21.0    Male                1      Divorced   \n",
       "7          0   34               8.0    Male                3       Married   \n",
       "8          0   30              20.0    Male                1       Married   \n",
       "9          0   26               6.0  Female                4       Married   \n",
       "\n",
       "   MonthlyIncome  NumCompaniesWorked OverTime  PercentSalaryHike  \\\n",
       "0          11691                 0.0       No                 11   \n",
       "1           9362                 2.0       No                 11   \n",
       "2          13348                 9.0       No                 13   \n",
       "3          17048                 8.0       No                 23   \n",
       "4           4127                 2.0       No                 18   \n",
       "5           3894                 5.0       No                 16   \n",
       "6           2296                 0.0       No                 14   \n",
       "7           4404                 2.0       No                 12   \n",
       "8           9957                 0.0       No                 15   \n",
       "9           2659                 1.0      Yes                 13   \n",
       "\n",
       "   RelationshipSatisfaction  TotalWorkingYears  WorkLifeBalance  \n",
       "0                         4                 14                4  \n",
       "1                         3                 10                3  \n",
       "2                         2                 18                4  \n",
       "3                         1                 28                3  \n",
       "4                         4                  7                3  \n",
       "5                         3                  4                3  \n",
       "6                         2                  2                3  \n",
       "7                         1                  6                4  \n",
       "8                         3                  7                2  \n",
       "9                         3                  3                3  "
      ]
     },
     "execution_count": 231,
     "metadata": {},
     "output_type": "execute_result"
    }
   ],
   "source": [
    "# data data\n",
    "path = \"https://raw.githubusercontent.com/DA4BAM/dataset/master/Attrition_NA.CSV\"\n",
    "data = pd.read_csv(path)\n",
    "data.drop(['EducationField', 'Education','JobInvolvement', 'StockOptionLevel', 'BusinessTravel','YearsWithCurrManager'\n",
    ",'YearsInCurrentRole','JobRole', 'Department','EmployeeNumber','EnvironmentSatisfaction','TrainingTimesLastYear','YearsAtCompany']\n",
    "          , axis = 1, inplace = True)\n",
    "data['Attrition'] = np.where(data['Attrition']=='Yes', 1, 0)\n",
    "data.head(10)"
   ]
  },
  {
   "cell_type": "markdown",
   "metadata": {
    "id": "v50TP8BhMJKx"
   },
   "source": [
    "|\t구분\t|\t변수 명\t|\t내용\t|\ttype\t|\t비고\t|\n",
    "|\t----\t|\t----\t|\t----\t|\t----\t|\t----\t|\n",
    "|\t**Target**\t|\t**Attrition**\t|\t이직여부, Yes , No\t|\t범주\t| 1- 이직, 0- 잔류\t\t|\n",
    "|\tfeature\t|\tAge\t|\t나이\t|\t숫자\t|\t\t|\n",
    "|\tfeature\t|\tDistanceFromHome\t|\t집-직장 거리\t|\t숫자\t|\t마일\t|\n",
    "|\tfeature\t|\tGender\t|\t성별\t|\t범주\t| Male, Female\t\t|\n",
    "|\tfeature\t|\tJobSatisfaction\t|\t직무 만족도\t|\t범주\t|\t1 Low, 2 Medium, 3 High, 4 Very High\t|\n",
    "|\tfeature\t|\tMaritalStatus\t|\t결혼상태\t|\t범주\t| Single, Married, Divorced\t\t|\n",
    "|\tfeature\t|\tMonthlyIncome\t|\t월급\t|\t숫자\t| 달러\t|\n",
    "|\tfeature\t|\tNumCompaniesWorked\t|\t입사 전 근무한 회사 수\t|\t숫자\t|\t0 - 우리회사가 첫 직장\t|\n",
    "|\tfeature\t|\tRelationshipSatisfaction\t|\t동료와의 관계\t|\t범주\t| 1 Low, 2 Medium, 3 High, 4 Very High\t\t|\n",
    "|\tfeature\t|\tOverTime\t|\t야근여부\t|\t범주\t|\tYes, No\t|\n",
    "|\tfeature\t|\tPercentSalaryHike\t|\t전년대비 급여인상율\t|\t숫자\t|\t%\t|\n",
    "|\tfeature\t|\tTotalWorkingYears\t|\t총 경력 연수\t|\t숫자\t|\t\t|\n",
    "|\tfeature\t|\tWorkLifeBalance\t|\t워라밸. 일-삶 균형도\t|\t범주\t|\t1 Bad, 2 Good, 3 Better, 4 Best\t|"
   ]
  },
  {
   "cell_type": "markdown",
   "metadata": {},
   "source": [
    "* 분석 단위 : 직원 한사람, 한사람...\n",
    "* 설명에서 언급되어지지 않은 사항은 직접 고민하며 스스로 정해서 진행하시면 됩니다.^^\n",
    "* 자\\~! 이제 시작해 봅시다\\~!"
   ]
  },
  {
   "cell_type": "markdown",
   "metadata": {
    "id": "bKimk8qVm8oC"
   },
   "source": [
    "----"
   ]
  },
  {
   "cell_type": "markdown",
   "metadata": {
    "id": "0bouXLxGkSSd"
   },
   "source": [
    "## 1.가설수립"
   ]
  },
  {
   "cell_type": "markdown",
   "metadata": {
    "id": "nb3mes75kUSt"
   },
   "source": [
    "* 여기서는 가설을 간략히 수립합니다.\n",
    "    * 숫자형, 범주형 각각 최소 3개 이상씩, 전체 6개 이상의 변수를 도출, 가설을 수립하시오."
   ]
  },
  {
   "cell_type": "markdown",
   "metadata": {
    "id": "HoZUdXCRkjK9"
   },
   "source": [
    "* 가설1 : DistanceFromHome(집-직장 거리)에 따라 Attrition(이직 여부)는 달라진다."
   ]
  },
  {
   "cell_type": "markdown",
   "metadata": {
    "id": "l9X_boJ8kjEt"
   },
   "source": [
    "* 가설2 : MonthlyIncome(월급)에 따라 Attrition(이직 여부)는 달라진다."
   ]
  },
  {
   "cell_type": "markdown",
   "metadata": {
    "id": "3_gTMgCWki91"
   },
   "source": [
    "* 가설3 : PercentSalaryHike(전년대비 급여인상율)에 따라 Attrition(이직 여부)는 달라진다."
   ]
  },
  {
   "cell_type": "markdown",
   "metadata": {
    "id": "rSrSFnsVki2d"
   },
   "source": [
    "* 가설4 : JobSatisfaction(직무 만족도) 에 따라 Attrition(이직 여부)는 달라진다."
   ]
  },
  {
   "cell_type": "markdown",
   "metadata": {
    "id": "2lueFYjWktYt"
   },
   "source": [
    "* 가설5 : RelationshipSatisfaction(동료와의 관계)에 따라 Attrition(이직 여부)는 달라진다."
   ]
  },
  {
   "cell_type": "markdown",
   "metadata": {
    "id": "U1RiPfhgYCr_"
   },
   "source": [
    "* 가설6 : WorkLifeBalance(워라밸. 일-삶 균형도)에 따라 Attrition(이직 여부)는 달라진다."
   ]
  },
  {
   "cell_type": "markdown",
   "metadata": {
    "id": "82xzJIZhnAaX"
   },
   "source": [
    "----"
   ]
  },
  {
   "cell_type": "markdown",
   "metadata": {
    "id": "1hYPpnplEedX"
   },
   "source": [
    "## 2.단변량 분석\n",
    "\n",
    "① 변수의 비즈니스 의미  \n",
    "\n",
    "② 숫자? 범주?  \n",
    "\n",
    "③ NaN 존재 여부 및 조치 방안  \n",
    "\n",
    "④ 기초통계량  \n",
    "\n",
    "⑤ 분포  \n",
    "\n",
    "⑥ 위 정보로부터 파악한 내용(비즈니스!) 정리  \n",
    "\n",
    "⑦ 추가 분석해볼 사항 도출"
   ]
  },
  {
   "cell_type": "markdown",
   "metadata": {
    "id": "BP8iBi7We3AI"
   },
   "source": [
    "### 1) target_Attrition"
   ]
  },
  {
   "cell_type": "code",
   "execution_count": 232,
   "metadata": {
    "id": "9eV5dkLkMm78"
   },
   "outputs": [],
   "source": [
    "target = data['Attrition']"
   ]
  },
  {
   "cell_type": "markdown",
   "metadata": {
    "id": "Lysg2B-nMm3o"
   },
   "source": [
    "① 변수의 비즈니스 의미"
   ]
  },
  {
   "cell_type": "markdown",
   "metadata": {},
   "source": [
    "> - 이직여부, Yes , No"
   ]
  },
  {
   "cell_type": "markdown",
   "metadata": {},
   "source": [
    "② 숫자? 범주?"
   ]
  },
  {
   "cell_type": "markdown",
   "metadata": {},
   "source": [
    "> - 범주"
   ]
  },
  {
   "cell_type": "markdown",
   "metadata": {},
   "source": [
    "③ NaN 존재 여부 및 조치 방안"
   ]
  },
  {
   "cell_type": "code",
   "execution_count": 233,
   "metadata": {},
   "outputs": [
    {
     "data": {
      "text/plain": [
       "0"
      ]
     },
     "execution_count": 233,
     "metadata": {},
     "output_type": "execute_result"
    }
   ],
   "source": [
    "target.isna().sum()"
   ]
  },
  {
   "cell_type": "markdown",
   "metadata": {},
   "source": [
    "> NaN이 존재하지 않음"
   ]
  },
  {
   "cell_type": "markdown",
   "metadata": {
    "id": "fobisq_wMmzL"
   },
   "source": [
    "④ 기초통계량"
   ]
  },
  {
   "cell_type": "code",
   "execution_count": 234,
   "metadata": {
    "id": "42ZDPDmKMmu8"
   },
   "outputs": [
    {
     "name": "stdout",
     "output_type": "stream",
     "text": [
      "범주별 빈도수\n",
      "0    1050\n",
      "1     200\n",
      "Name: Attrition, dtype: int64\n",
      "------------------------------\n",
      "------------------------------\n",
      "범주별 비율\n",
      "0    0.84\n",
      "1    0.16\n",
      "Name: Attrition, dtype: float64\n"
     ]
    }
   ],
   "source": [
    "print('범주별 빈도수')\n",
    "print(target.value_counts())\n",
    "\n",
    "print('---'*10)\n",
    "print('---'*10)\n",
    "\n",
    "print('범주별 비율')\n",
    "print(target.value_counts() / len(target))"
   ]
  },
  {
   "cell_type": "markdown",
   "metadata": {
    "id": "1b7NizWlMmqk"
   },
   "source": [
    "⑤ 분포"
   ]
  },
  {
   "cell_type": "code",
   "execution_count": 235,
   "metadata": {},
   "outputs": [
    {
     "name": "stderr",
     "output_type": "stream",
     "text": [
      "C:\\Users\\User\\anaconda3\\lib\\site-packages\\seaborn\\_decorators.py:36: FutureWarning: Pass the following variables as keyword args: x, y. From version 0.12, the only valid positional argument will be `data`, and passing other arguments without an explicit keyword will result in an error or misinterpretation.\n",
      "  warnings.warn(\n"
     ]
    },
    {
     "data": {
      "image/png": "[encoded data removed]",
      "text/plain": [
       "<Figure size 576x432 with 1 Axes>"
      ]
     },
     "metadata": {
      "needs_background": "light"
     },
     "output_type": "display_data"
    }
   ],
   "source": [
    "plt.figure(figsize=(8, 6))\n",
    "cnt = target.value_counts()\n",
    "sns.barplot(cnt.index, cnt.values)\n",
    "plt.show()"
   ]
  },
  {
   "cell_type": "code",
   "execution_count": 236,
   "metadata": {},
   "outputs": [
    {
     "data": {
      "image/png": "[encoded data removed]",
      "text/plain": [
       "<Figure size 576x432 with 1 Axes>"
      ]
     },
     "metadata": {},
     "output_type": "display_data"
    }
   ],
   "source": [
    "plt.figure(figsize=(8, 6))\n",
    "plt.pie(cnt.values, labels = cnt.index, autopct = '%.2f%%')\n",
    "plt.show()"
   ]
  },
  {
   "cell_type": "code",
   "execution_count": 237,
   "metadata": {},
   "outputs": [
    {
     "data": {
      "image/png": "[encoded data removed]",
      "text/plain": [
       "<Figure size 1080x432 with 2 Axes>"
      ]
     },
     "metadata": {
      "needs_background": "light"
     },
     "output_type": "display_data"
    }
   ],
   "source": [
    "plt.figure(figsize=(15, 6))\n",
    "plt.subplot(1, 2, 1)\n",
    "cnt = target.value_counts()\n",
    "plt.bar(cnt.index, cnt.values)\n",
    "plt.xticks(fontsize=15,rotation=70)\n",
    "\n",
    "plt.subplot(1, 2, 2)\n",
    "plt.pie(cnt.values, labels = cnt.index, autopct = '%.2f%%')\n",
    "plt.show()"
   ]
  },
  {
   "cell_type": "markdown",
   "metadata": {},
   "source": [
    "⑥ 위 정보로부터 파악한 내용(비즈니스 인사이트) 정리"
   ]
  },
  {
   "cell_type": "markdown",
   "metadata": {},
   "source": [
    "> - 이직하는 직원이 전체의 16%로 이직율이 낮은편으로 보인다.\n",
    "> - 이직한 직원의 데이터를 분석하여 공통적인 원인을 파악해본다."
   ]
  },
  {
   "cell_type": "markdown",
   "metadata": {
    "id": "TLlMg3cNMoRg"
   },
   "source": [
    "### 2) feature1_DistanceFromHome"
   ]
  },
  {
   "cell_type": "code",
   "execution_count": 238,
   "metadata": {
    "id": "fkRE6s1WMoRh"
   },
   "outputs": [],
   "source": [
    "feature = data['DistanceFromHome']"
   ]
  },
  {
   "cell_type": "markdown",
   "metadata": {
    "id": "BlknRQSKMoRi"
   },
   "source": [
    "① 변수의 비즈니스 의미"
   ]
  },
  {
   "cell_type": "markdown",
   "metadata": {},
   "source": [
    "> - 집-직장 거리"
   ]
  },
  {
   "cell_type": "markdown",
   "metadata": {},
   "source": [
    "② 숫자? 범주?"
   ]
  },
  {
   "cell_type": "markdown",
   "metadata": {},
   "source": [
    "> - 숫자"
   ]
  },
  {
   "cell_type": "markdown",
   "metadata": {},
   "source": [
    "③ NaN 존재 여부 및 조치 방안"
   ]
  },
  {
   "cell_type": "code",
   "execution_count": 239,
   "metadata": {},
   "outputs": [
    {
     "data": {
      "text/plain": [
       "54"
      ]
     },
     "execution_count": 239,
     "metadata": {},
     "output_type": "execute_result"
    }
   ],
   "source": [
    "feature.isna().sum()"
   ]
  },
  {
   "cell_type": "markdown",
   "metadata": {},
   "source": [
    "> NaN이 54개 존재\n",
    "\n",
    "- 조치 방안 : 결측치를 평균값으로 채운다.\n",
    "\n",
    "- 이유 : 제거하기엔 54명의 데이터는 결코 작은 수가 아니고, 장기적으로 봤을 때 또 결측치가 나올 수 있는 가능성이 있기 때문에 평균값으로 채우기로 결정한다."
   ]
  },
  {
   "cell_type": "code",
   "execution_count": 240,
   "metadata": {},
   "outputs": [
    {
     "data": {
      "text/plain": [
       "0"
      ]
     },
     "execution_count": 240,
     "metadata": {},
     "output_type": "execute_result"
    }
   ],
   "source": [
    "mean_dis = data['DistanceFromHome'].mean()\n",
    "data['DistanceFromHome'].fillna(mean_dis, inplace=True)\n",
    "feature.isna().sum()"
   ]
  },
  {
   "cell_type": "markdown",
   "metadata": {},
   "source": [
    "> Nan 제거"
   ]
  },
  {
   "cell_type": "markdown",
   "metadata": {},
   "source": [
    "④ 기초통계량"
   ]
  },
  {
   "cell_type": "code",
   "execution_count": 241,
   "metadata": {},
   "outputs": [
    {
     "data": {
      "text/plain": [
       "count    1250.000000\n",
       "mean        9.258361\n",
       "std         7.987539\n",
       "min         1.000000\n",
       "25%         2.000000\n",
       "50%         7.000000\n",
       "75%        13.000000\n",
       "max        29.000000\n",
       "Name: DistanceFromHome, dtype: float64"
      ]
     },
     "execution_count": 241,
     "metadata": {},
     "output_type": "execute_result"
    }
   ],
   "source": [
    "feature.describe()"
   ]
  },
  {
   "cell_type": "markdown",
   "metadata": {
    "id": "lNQhfu9uMoRi"
   },
   "source": [
    "⑤ 분포"
   ]
  },
  {
   "cell_type": "code",
   "execution_count": 242,
   "metadata": {
    "id": "yQih09bhMoRj"
   },
   "outputs": [
    {
     "data": {
      "image/png": "[encoded data removed]",
      "text/plain": [
       "<Figure size 576x432 with 1 Axes>"
      ]
     },
     "metadata": {
      "needs_background": "light"
     },
     "output_type": "display_data"
    }
   ],
   "source": [
    "plt.figure(figsize=(8, 6))\n",
    "sns.histplot(feature, bins = 30, edgecolor = 'gray')\n",
    "plt.show()"
   ]
  },
  {
   "cell_type": "code",
   "execution_count": 243,
   "metadata": {},
   "outputs": [
    {
     "data": {
      "image/png": "[encoded data removed]",
      "text/plain": [
       "<Figure size 576x432 with 1 Axes>"
      ]
     },
     "metadata": {
      "needs_background": "light"
     },
     "output_type": "display_data"
    }
   ],
   "source": [
    "plt.figure(figsize=(8, 6))\n",
    "sns.kdeplot(feature)\n",
    "plt.show()"
   ]
  },
  {
   "cell_type": "code",
   "execution_count": 244,
   "metadata": {},
   "outputs": [
    {
     "name": "stderr",
     "output_type": "stream",
     "text": [
      "C:\\Users\\User\\anaconda3\\lib\\site-packages\\seaborn\\_decorators.py:36: FutureWarning: Pass the following variable as a keyword arg: x. From version 0.12, the only valid positional argument will be `data`, and passing other arguments without an explicit keyword will result in an error or misinterpretation.\n",
      "  warnings.warn(\n"
     ]
    },
    {
     "data": {
      "image/png": "[encoded data removed]",
      "text/plain": [
       "<Figure size 576x432 with 1 Axes>"
      ]
     },
     "metadata": {
      "needs_background": "light"
     },
     "output_type": "display_data"
    }
   ],
   "source": [
    "plt.figure(figsize=(8, 6))\n",
    "sns.boxplot(feature)\n",
    "plt.show()"
   ]
  },
  {
   "cell_type": "code",
   "execution_count": 245,
   "metadata": {},
   "outputs": [
    {
     "name": "stderr",
     "output_type": "stream",
     "text": [
      "C:\\Users\\User\\anaconda3\\lib\\site-packages\\seaborn\\_decorators.py:36: FutureWarning: Pass the following variable as a keyword arg: x. From version 0.12, the only valid positional argument will be `data`, and passing other arguments without an explicit keyword will result in an error or misinterpretation.\n",
      "  warnings.warn(\n"
     ]
    },
    {
     "data": {
      "image/png": "[encoded data removed]",
      "text/plain": [
       "<Figure size 576x432 with 1 Axes>"
      ]
     },
     "metadata": {
      "needs_background": "light"
     },
     "output_type": "display_data"
    }
   ],
   "source": [
    "plt.figure(figsize=(8, 6))\n",
    "sns.violinplot(feature)\n",
    "plt.show()"
   ]
  },
  {
   "cell_type": "code",
   "execution_count": 246,
   "metadata": {},
   "outputs": [
    {
     "data": {
      "image/png": "[encoded data removed]",
      "text/plain": [
       "<Figure size 1080x720 with 3 Axes>"
      ]
     },
     "metadata": {
      "needs_background": "light"
     },
     "output_type": "display_data"
    }
   ],
   "source": [
    "plt.figure(figsize=(15, 10))\n",
    "plt.subplot(2, 2, 1)\n",
    "plt.hist(feature, bins = 30, edgecolor = 'gray')\n",
    "\n",
    "plt.subplot(2, 2, 2)\n",
    "feature.plot(kind = 'kde')\n",
    "\n",
    "plt.subplot(2, 2, 3)\n",
    "sns.boxplot(x=feature, data=data)\n",
    "plt.show()"
   ]
  },
  {
   "cell_type": "markdown",
   "metadata": {
    "id": "zcV7pMeiMoRj"
   },
   "source": [
    "⑥ 위 정보로부터 파악한 내용(비즈니스 인사이트) 정리"
   ]
  },
  {
   "cell_type": "markdown",
   "metadata": {},
   "source": [
    "> - 집과 직장과의 거리의 분포가 5, 15 마일을 기점으로 나누어 지는 모습이 보인다.\n",
    "> -  --> 추가분석 진행\n",
    "> - 집과 직장과의 거리가 가까운 직원들이 많다.\n",
    "> - --> 회사에서 직원들을 위한 주택 제공, 보증금 대출 등의 복지를 진행하고 있는가? \n",
    "> - 멀리 사는 직원들을 위한 통근 버스 복지를 제공하면 좋을 것 같다."
   ]
  },
  {
   "cell_type": "markdown",
   "metadata": {},
   "source": [
    "⑦ 추가 분석해볼 사항 도출"
   ]
  },
  {
   "cell_type": "markdown",
   "metadata": {},
   "source": [
    "> - 5, 15마일을 기점으로 집단을 나눠서 이직여부와 분석해본다"
   ]
  },
  {
   "cell_type": "markdown",
   "metadata": {
    "id": "nJmYs7WgMzti"
   },
   "source": [
    "### 3) feature2_MonthlyIncome"
   ]
  },
  {
   "cell_type": "code",
   "execution_count": 247,
   "metadata": {
    "id": "5g4kd3rGMzti"
   },
   "outputs": [],
   "source": [
    "feature = data['MonthlyIncome']"
   ]
  },
  {
   "cell_type": "markdown",
   "metadata": {
    "id": "nrGVu8e1Mzti"
   },
   "source": [
    "① 변수의 비즈니스 의미"
   ]
  },
  {
   "cell_type": "markdown",
   "metadata": {},
   "source": [
    "> - 월급"
   ]
  },
  {
   "cell_type": "markdown",
   "metadata": {},
   "source": [
    "② 숫자? 범주?"
   ]
  },
  {
   "cell_type": "markdown",
   "metadata": {},
   "source": [
    "> - 숫자"
   ]
  },
  {
   "cell_type": "markdown",
   "metadata": {},
   "source": [
    "③ NaN 존재 여부 및 조치 방안"
   ]
  },
  {
   "cell_type": "code",
   "execution_count": 248,
   "metadata": {},
   "outputs": [
    {
     "data": {
      "text/plain": [
       "0"
      ]
     },
     "execution_count": 248,
     "metadata": {},
     "output_type": "execute_result"
    }
   ],
   "source": [
    "feature.isna().sum()"
   ]
  },
  {
   "cell_type": "markdown",
   "metadata": {},
   "source": [
    "> - NaN이 존재하지 않음"
   ]
  },
  {
   "cell_type": "markdown",
   "metadata": {},
   "source": [
    "④ 기초통계량"
   ]
  },
  {
   "cell_type": "code",
   "execution_count": 249,
   "metadata": {},
   "outputs": [
    {
     "data": {
      "text/plain": [
       "count     1250.000000\n",
       "mean      6525.548000\n",
       "std       4676.979554\n",
       "min       1009.000000\n",
       "25%       2932.250000\n",
       "50%       4988.000000\n",
       "75%       8437.500000\n",
       "max      19999.000000\n",
       "Name: MonthlyIncome, dtype: float64"
      ]
     },
     "execution_count": 249,
     "metadata": {},
     "output_type": "execute_result"
    }
   ],
   "source": [
    "feature.describe()"
   ]
  },
  {
   "cell_type": "markdown",
   "metadata": {
    "id": "1RFdrKBXMzti"
   },
   "source": [
    "⑤ 분포"
   ]
  },
  {
   "cell_type": "code",
   "execution_count": 250,
   "metadata": {
    "id": "KOaH7I74Mztj"
   },
   "outputs": [
    {
     "data": {
      "image/png": "[encoded data removed]",
      "text/plain": [
       "<Figure size 576x432 with 1 Axes>"
      ]
     },
     "metadata": {
      "needs_background": "light"
     },
     "output_type": "display_data"
    }
   ],
   "source": [
    "plt.figure(figsize=(8, 6))\n",
    "sns.histplot(feature, bins = 30, edgecolor = 'gray')\n",
    "plt.show()"
   ]
  },
  {
   "cell_type": "code",
   "execution_count": 251,
   "metadata": {},
   "outputs": [
    {
     "data": {
      "image/png": "[encoded data removed]",
      "text/plain": [
       "<Figure size 576x432 with 1 Axes>"
      ]
     },
     "metadata": {
      "needs_background": "light"
     },
     "output_type": "display_data"
    }
   ],
   "source": [
    "plt.figure(figsize=(8, 6))\n",
    "sns.kdeplot(feature)\n",
    "plt.show()"
   ]
  },
  {
   "cell_type": "code",
   "execution_count": 252,
   "metadata": {},
   "outputs": [
    {
     "name": "stderr",
     "output_type": "stream",
     "text": [
      "C:\\Users\\User\\anaconda3\\lib\\site-packages\\seaborn\\_decorators.py:36: FutureWarning: Pass the following variable as a keyword arg: x. From version 0.12, the only valid positional argument will be `data`, and passing other arguments without an explicit keyword will result in an error or misinterpretation.\n",
      "  warnings.warn(\n"
     ]
    },
    {
     "data": {
      "image/png": "[encoded data removed]",
      "text/plain": [
       "<Figure size 576x432 with 1 Axes>"
      ]
     },
     "metadata": {
      "needs_background": "light"
     },
     "output_type": "display_data"
    }
   ],
   "source": [
    "plt.figure(figsize=(8, 6))\n",
    "sns.boxplot(feature)\n",
    "plt.show()"
   ]
  },
  {
   "cell_type": "code",
   "execution_count": 253,
   "metadata": {},
   "outputs": [
    {
     "name": "stderr",
     "output_type": "stream",
     "text": [
      "C:\\Users\\User\\anaconda3\\lib\\site-packages\\seaborn\\_decorators.py:36: FutureWarning: Pass the following variable as a keyword arg: x. From version 0.12, the only valid positional argument will be `data`, and passing other arguments without an explicit keyword will result in an error or misinterpretation.\n",
      "  warnings.warn(\n"
     ]
    },
    {
     "data": {
      "image/png": "[encoded data removed]",
      "text/plain": [
       "<Figure size 576x432 with 1 Axes>"
      ]
     },
     "metadata": {
      "needs_background": "light"
     },
     "output_type": "display_data"
    }
   ],
   "source": [
    "plt.figure(figsize=(8, 6))\n",
    "sns.violinplot(feature)\n",
    "plt.show()"
   ]
  },
  {
   "cell_type": "code",
   "execution_count": 254,
   "metadata": {},
   "outputs": [
    {
     "data": {
      "image/png": "[encoded data removed]",
      "text/plain": [
       "<Figure size 1080x720 with 4 Axes>"
      ]
     },
     "metadata": {
      "needs_background": "light"
     },
     "output_type": "display_data"
    }
   ],
   "source": [
    "plt.figure(figsize=(15, 10))\n",
    "plt.subplot(2, 2, 1)\n",
    "plt.hist(feature, bins = 30, edgecolor = 'gray')\n",
    "\n",
    "plt.subplot(2, 2, 2)\n",
    "feature.plot(kind = 'kde')\n",
    "\n",
    "plt.subplot(2, 2, 3)\n",
    "sns.boxplot(x=feature, data=data)\n",
    "\n",
    "plt.subplot(2, 2, 4)\n",
    "plt.violinplot(feature, vert=False)\n",
    "plt.show()"
   ]
  },
  {
   "cell_type": "markdown",
   "metadata": {
    "id": "KnqktAYhMztj"
   },
   "source": [
    "⑥ 위 정보로부터 파악한 내용(비즈니스 인사이트) 정리"
   ]
  },
  {
   "cell_type": "markdown",
   "metadata": {},
   "source": [
    "> - 오른쪽으로 꼬리가 긴 분포 형태를 보인다. \n",
    "> - 봉우리 기점이 6지점 정도로 보이는데, 이 회사의 직급이 크게 6가지인가?\n",
    "> - 이 회사의 월급의 최솟값이 1009달러로 시작한다면, 빈도가 가장 많은 값이 2500달러인데 2500달러까지 월급 인상이 언제까지 이루어지는지??\n",
    "> - --> 그 기간이 너무 길다면 이직을 고려할 수 있지 않을까?\n",
    "> - 같은 관점에서, 2500달러에서 두 번째로 빈도가 높아보이는 5000달러까지의 기간이 어느정도??\n",
    "> - 첫번째 관점보다 두 번째 관점의 기간이 더 중요해 보이는 이유는 그 기간 동안 직원은 경력이 채워지고 업무의 경험도 쌓았기 때문에 이직할 수 있는 여건이 충분해 보이기 때문"
   ]
  },
  {
   "cell_type": "markdown",
   "metadata": {
    "id": "0q616kYrM0VR"
   },
   "source": [
    "### 4) feature3_PercentSalaryHike"
   ]
  },
  {
   "cell_type": "code",
   "execution_count": 255,
   "metadata": {
    "id": "UCxGiRZbM0VS"
   },
   "outputs": [],
   "source": [
    "feature = data['PercentSalaryHike']"
   ]
  },
  {
   "cell_type": "markdown",
   "metadata": {
    "id": "TDUbDHJYM0VS"
   },
   "source": [
    "① 변수의 비즈니스 의미"
   ]
  },
  {
   "cell_type": "markdown",
   "metadata": {},
   "source": [
    "> 전년대비 급여인상율"
   ]
  },
  {
   "cell_type": "markdown",
   "metadata": {
    "id": "zQuK2ak-M0VS"
   },
   "source": [
    "② 숫자? 범주?"
   ]
  },
  {
   "cell_type": "markdown",
   "metadata": {
    "id": "aMAsp214M0VS"
   },
   "source": [
    "> - 숫자"
   ]
  },
  {
   "cell_type": "markdown",
   "metadata": {
    "id": "AHnxbvUVM0VS"
   },
   "source": [
    "③ NaN 존재 여부 및 조치 방안"
   ]
  },
  {
   "cell_type": "code",
   "execution_count": 256,
   "metadata": {},
   "outputs": [
    {
     "data": {
      "text/plain": [
       "0"
      ]
     },
     "execution_count": 256,
     "metadata": {},
     "output_type": "execute_result"
    }
   ],
   "source": [
    "feature.isna().sum()"
   ]
  },
  {
   "cell_type": "markdown",
   "metadata": {},
   "source": [
    "> NaN이 존재하지 않음"
   ]
  },
  {
   "cell_type": "markdown",
   "metadata": {},
   "source": [
    "④ 기초통계량"
   ]
  },
  {
   "cell_type": "code",
   "execution_count": 257,
   "metadata": {},
   "outputs": [
    {
     "data": {
      "text/plain": [
       "count    1250.000000\n",
       "mean       15.216000\n",
       "std         3.625556\n",
       "min        11.000000\n",
       "25%        12.000000\n",
       "50%        14.000000\n",
       "75%        18.000000\n",
       "max        25.000000\n",
       "Name: PercentSalaryHike, dtype: float64"
      ]
     },
     "execution_count": 257,
     "metadata": {},
     "output_type": "execute_result"
    }
   ],
   "source": [
    "feature.describe()"
   ]
  },
  {
   "cell_type": "markdown",
   "metadata": {},
   "source": [
    "⑤ 분포"
   ]
  },
  {
   "cell_type": "code",
   "execution_count": 258,
   "metadata": {},
   "outputs": [
    {
     "data": {
      "image/png": "[encoded data removed]",
      "text/plain": [
       "<Figure size 576x432 with 1 Axes>"
      ]
     },
     "metadata": {
      "needs_background": "light"
     },
     "output_type": "display_data"
    }
   ],
   "source": [
    "plt.figure(figsize=(8, 6))\n",
    "sns.histplot(feature, bins = 30, edgecolor = 'gray')\n",
    "plt.show()"
   ]
  },
  {
   "cell_type": "code",
   "execution_count": 259,
   "metadata": {},
   "outputs": [
    {
     "data": {
      "image/png": "[encoded data removed]",
      "text/plain": [
       "<Figure size 576x432 with 1 Axes>"
      ]
     },
     "metadata": {
      "needs_background": "light"
     },
     "output_type": "display_data"
    }
   ],
   "source": [
    "plt.figure(figsize=(8, 6))\n",
    "sns.kdeplot(feature)\n",
    "plt.show()"
   ]
  },
  {
   "cell_type": "code",
   "execution_count": 260,
   "metadata": {},
   "outputs": [
    {
     "name": "stderr",
     "output_type": "stream",
     "text": [
      "C:\\Users\\User\\anaconda3\\lib\\site-packages\\seaborn\\_decorators.py:36: FutureWarning: Pass the following variable as a keyword arg: x. From version 0.12, the only valid positional argument will be `data`, and passing other arguments without an explicit keyword will result in an error or misinterpretation.\n",
      "  warnings.warn(\n"
     ]
    },
    {
     "data": {
      "image/png": "[encoded data removed]",
      "text/plain": [
       "<Figure size 576x432 with 1 Axes>"
      ]
     },
     "metadata": {
      "needs_background": "light"
     },
     "output_type": "display_data"
    }
   ],
   "source": [
    "plt.figure(figsize=(8, 6))\n",
    "sns.boxplot(feature)\n",
    "plt.show()"
   ]
  },
  {
   "cell_type": "code",
   "execution_count": 261,
   "metadata": {},
   "outputs": [
    {
     "name": "stderr",
     "output_type": "stream",
     "text": [
      "C:\\Users\\User\\anaconda3\\lib\\site-packages\\seaborn\\_decorators.py:36: FutureWarning: Pass the following variable as a keyword arg: x. From version 0.12, the only valid positional argument will be `data`, and passing other arguments without an explicit keyword will result in an error or misinterpretation.\n",
      "  warnings.warn(\n"
     ]
    },
    {
     "data": {
      "image/png": "[encoded data removed]",
      "text/plain": [
       "<Figure size 576x432 with 1 Axes>"
      ]
     },
     "metadata": {
      "needs_background": "light"
     },
     "output_type": "display_data"
    }
   ],
   "source": [
    "plt.figure(figsize=(8, 6))\n",
    "sns.violinplot(feature)\n",
    "plt.show()"
   ]
  },
  {
   "cell_type": "code",
   "execution_count": 262,
   "metadata": {},
   "outputs": [
    {
     "data": {
      "image/png": "[encoded data removed]",
      "text/plain": [
       "<Figure size 1080x720 with 4 Axes>"
      ]
     },
     "metadata": {
      "needs_background": "light"
     },
     "output_type": "display_data"
    }
   ],
   "source": [
    "plt.figure(figsize=(15, 10))\n",
    "plt.subplot(2, 2, 1)\n",
    "plt.hist(feature, bins = 30, edgecolor = 'gray')\n",
    "\n",
    "plt.subplot(2, 2, 2)\n",
    "feature.plot(kind = 'kde')\n",
    "\n",
    "plt.subplot(2, 2, 3)\n",
    "sns.boxplot(x=feature, data=data)\n",
    "\n",
    "plt.subplot(2, 2, 4)\n",
    "plt.violinplot(feature, vert=False)\n",
    "plt.show()"
   ]
  },
  {
   "cell_type": "markdown",
   "metadata": {},
   "source": [
    "⑥ 위 정보로부터 파악한 내용(비즈니스 인사이트) 정리"
   ]
  },
  {
   "cell_type": "markdown",
   "metadata": {},
   "source": [
    "> - 전년대비 급여인상율의 최솟값이 11%이기 때문에 이 회사가 전년에 많은 성과가 있어서 전 직원에게 급여를 인상해준 것으로 보인다.\n",
    "> - 가장 많이 나타나는 빈도는 12.5%의 급여인상율이다\n",
    "> - 급여인상율 15%를 기점으로 분포가 줄어든다.\n",
    "> - --> 15% 이상을 받은 사람은 이직율이 낮을 것으로 추정"
   ]
  },
  {
   "cell_type": "markdown",
   "metadata": {},
   "source": [
    "⑦ 추가 분석해볼 사항 도출"
   ]
  },
  {
   "cell_type": "markdown",
   "metadata": {},
   "source": [
    "> - 이번해 월급과 전년 대비 월급 인상율을 계산하여 두 분포를 파악\n",
    "> - 급여인상율 15%를 기준으로 두 분포를 나눠서 이직율 파악"
   ]
  },
  {
   "cell_type": "markdown",
   "metadata": {
    "id": "53vrba7gM04Z"
   },
   "source": [
    "### 5) feature4_JobSatisfaction"
   ]
  },
  {
   "cell_type": "code",
   "execution_count": 263,
   "metadata": {
    "id": "Oq2lskkZM04Z"
   },
   "outputs": [],
   "source": [
    "feature = data['JobSatisfaction']"
   ]
  },
  {
   "cell_type": "markdown",
   "metadata": {
    "id": "zSQou-YsM04a"
   },
   "source": [
    "① 변수의 비즈니스 의미"
   ]
  },
  {
   "cell_type": "markdown",
   "metadata": {
    "id": "npG6tj3FM04a"
   },
   "source": [
    "> - 직무 만족도"
   ]
  },
  {
   "cell_type": "markdown",
   "metadata": {
    "id": "vFdBEk1yM04a"
   },
   "source": [
    "② 숫자? 범주?"
   ]
  },
  {
   "cell_type": "markdown",
   "metadata": {
    "id": "c9ngfTdAM04a"
   },
   "source": [
    "> - 범주"
   ]
  },
  {
   "cell_type": "markdown",
   "metadata": {},
   "source": [
    "③ NaN 존재 여부 및 조치 방안"
   ]
  },
  {
   "cell_type": "code",
   "execution_count": 264,
   "metadata": {},
   "outputs": [
    {
     "data": {
      "text/plain": [
       "0"
      ]
     },
     "execution_count": 264,
     "metadata": {},
     "output_type": "execute_result"
    }
   ],
   "source": [
    "feature.isna().sum()"
   ]
  },
  {
   "cell_type": "markdown",
   "metadata": {},
   "source": [
    "> NaN이 존재하지 않음"
   ]
  },
  {
   "cell_type": "markdown",
   "metadata": {},
   "source": [
    "④ 기초통계량"
   ]
  },
  {
   "cell_type": "code",
   "execution_count": 265,
   "metadata": {},
   "outputs": [
    {
     "name": "stdout",
     "output_type": "stream",
     "text": [
      "범주별 빈도수\n",
      "4    397\n",
      "3    368\n",
      "1    250\n",
      "2    235\n",
      "Name: JobSatisfaction, dtype: int64\n",
      "------------------------------\n",
      "------------------------------\n",
      "범주별 비율\n",
      "4    0.3176\n",
      "3    0.2944\n",
      "1    0.2000\n",
      "2    0.1880\n",
      "Name: JobSatisfaction, dtype: float64\n"
     ]
    }
   ],
   "source": [
    "print('범주별 빈도수')\n",
    "print(feature.value_counts())\n",
    "\n",
    "print('---'*10)\n",
    "print('---'*10)\n",
    "\n",
    "print('범주별 비율')\n",
    "print(feature.value_counts() / len(feature))"
   ]
  },
  {
   "cell_type": "markdown",
   "metadata": {},
   "source": [
    "⑤ 분포"
   ]
  },
  {
   "cell_type": "code",
   "execution_count": 266,
   "metadata": {},
   "outputs": [
    {
     "name": "stderr",
     "output_type": "stream",
     "text": [
      "C:\\Users\\User\\anaconda3\\lib\\site-packages\\seaborn\\_decorators.py:36: FutureWarning: Pass the following variables as keyword args: x, y. From version 0.12, the only valid positional argument will be `data`, and passing other arguments without an explicit keyword will result in an error or misinterpretation.\n",
      "  warnings.warn(\n"
     ]
    },
    {
     "data": {
      "image/png": "[encoded data removed]",
      "text/plain": [
       "<Figure size 576x432 with 1 Axes>"
      ]
     },
     "metadata": {
      "needs_background": "light"
     },
     "output_type": "display_data"
    }
   ],
   "source": [
    "plt.figure(figsize=(8, 6))\n",
    "cnt = feature.value_counts()\n",
    "sns.barplot(cnt.index, cnt.values)\n",
    "plt.show()"
   ]
  },
  {
   "cell_type": "code",
   "execution_count": 267,
   "metadata": {},
   "outputs": [
    {
     "data": {
      "image/png": "[encoded data removed]",
      "text/plain": [
       "<Figure size 576x432 with 1 Axes>"
      ]
     },
     "metadata": {},
     "output_type": "display_data"
    }
   ],
   "source": [
    "plt.figure(figsize=(8, 6))\n",
    "plt.pie(cnt.values, labels = cnt.index, autopct = '%.2f%%')\n",
    "plt.show()"
   ]
  },
  {
   "cell_type": "code",
   "execution_count": 268,
   "metadata": {},
   "outputs": [
    {
     "data": {
      "image/png": "[encoded data removed]",
      "text/plain": [
       "<Figure size 1080x432 with 2 Axes>"
      ]
     },
     "metadata": {
      "needs_background": "light"
     },
     "output_type": "display_data"
    }
   ],
   "source": [
    "plt.figure(figsize=(15, 6))\n",
    "plt.subplot(1, 2, 1)\n",
    "cnt = feature.value_counts()\n",
    "plt.bar(cnt.index, cnt.values)\n",
    "plt.xticks(fontsize=15,rotation=70)\n",
    "\n",
    "plt.subplot(1, 2, 2)\n",
    "plt.pie(cnt.values, labels = cnt.index, autopct = '%.2f%%')\n",
    "plt.show()"
   ]
  },
  {
   "cell_type": "markdown",
   "metadata": {},
   "source": [
    "⑥ 위 정보로부터 파악한 내용(비즈니스 인사이트) 정리"
   ]
  },
  {
   "cell_type": "markdown",
   "metadata": {},
   "source": [
    "> - '높음'과 '매우 높음'의 합이 약 60%로 전반적으로 직원들이 직무에 만족하는 것으로 보인다.\n",
    "> - '매우 낮음'을 답한 이유를 무기명으로 설문을 하여 원인을 파악해볼 필요가 있다.\n",
    "> - 특히 '매우 낮음'으로 답한 직원들의 이직율이 가장 높을 것 같다.\n",
    "> - --> 자신이 원하는 직무를 찾기 위해 이직을 하지 않을까?"
   ]
  },
  {
   "cell_type": "markdown",
   "metadata": {},
   "source": [
    "⑦ 추가 분석해볼 사항 도출"
   ]
  },
  {
   "cell_type": "markdown",
   "metadata": {},
   "source": [
    "> - '높음'과 '매우 높음' 한 집단, '보통'과 '매우 낮음'의 한 집단, 총 2집단으로 분류하여 이직율 파악"
   ]
  },
  {
   "cell_type": "markdown",
   "metadata": {
    "id": "opTBFVXvM1mx"
   },
   "source": [
    "### 6) feature5_RelationshipSatisfaction"
   ]
  },
  {
   "cell_type": "code",
   "execution_count": 269,
   "metadata": {
    "id": "x7RhTmPzM1mx"
   },
   "outputs": [],
   "source": [
    "feature = data['RelationshipSatisfaction']"
   ]
  },
  {
   "cell_type": "markdown",
   "metadata": {
    "id": "jA3dK_gZM1mx"
   },
   "source": [
    "① 변수의 비즈니스 의미"
   ]
  },
  {
   "cell_type": "markdown",
   "metadata": {
    "id": "heP_bxuRM1mx"
   },
   "source": [
    "> - 동료와의 관계"
   ]
  },
  {
   "cell_type": "markdown",
   "metadata": {
    "id": "BkM5kJZGM1mx"
   },
   "source": [
    "② 숫자? 범주?"
   ]
  },
  {
   "cell_type": "markdown",
   "metadata": {
    "id": "_goZmj5fM1mx"
   },
   "source": [
    "> - 범주"
   ]
  },
  {
   "cell_type": "markdown",
   "metadata": {},
   "source": [
    "③ NaN 존재 여부 및 조치 방안"
   ]
  },
  {
   "cell_type": "code",
   "execution_count": 270,
   "metadata": {},
   "outputs": [
    {
     "data": {
      "text/plain": [
       "0"
      ]
     },
     "execution_count": 270,
     "metadata": {},
     "output_type": "execute_result"
    }
   ],
   "source": [
    "feature.isna().sum()"
   ]
  },
  {
   "cell_type": "markdown",
   "metadata": {},
   "source": [
    "> NaN이 존재하지 않음"
   ]
  },
  {
   "cell_type": "markdown",
   "metadata": {},
   "source": [
    "④ 기초통계량"
   ]
  },
  {
   "cell_type": "code",
   "execution_count": 271,
   "metadata": {},
   "outputs": [
    {
     "name": "stdout",
     "output_type": "stream",
     "text": [
      "범주별 빈도수\n",
      "3    397\n",
      "4    365\n",
      "2    258\n",
      "1    230\n",
      "Name: RelationshipSatisfaction, dtype: int64\n",
      "------------------------------\n",
      "------------------------------\n",
      "범주별 비율\n",
      "3    0.3176\n",
      "4    0.2920\n",
      "2    0.2064\n",
      "1    0.1840\n",
      "Name: RelationshipSatisfaction, dtype: float64\n"
     ]
    }
   ],
   "source": [
    "print('범주별 빈도수')\n",
    "print(feature.value_counts())\n",
    "\n",
    "print('---'*10)\n",
    "print('---'*10)\n",
    "\n",
    "print('범주별 비율')\n",
    "print(feature.value_counts() / len(feature))"
   ]
  },
  {
   "cell_type": "markdown",
   "metadata": {},
   "source": [
    "⑤ 분포"
   ]
  },
  {
   "cell_type": "code",
   "execution_count": 272,
   "metadata": {},
   "outputs": [
    {
     "name": "stderr",
     "output_type": "stream",
     "text": [
      "C:\\Users\\User\\anaconda3\\lib\\site-packages\\seaborn\\_decorators.py:36: FutureWarning: Pass the following variables as keyword args: x, y. From version 0.12, the only valid positional argument will be `data`, and passing other arguments without an explicit keyword will result in an error or misinterpretation.\n",
      "  warnings.warn(\n"
     ]
    },
    {
     "data": {
      "image/png": "[encoded data removed]",
      "text/plain": [
       "<Figure size 576x432 with 1 Axes>"
      ]
     },
     "metadata": {
      "needs_background": "light"
     },
     "output_type": "display_data"
    }
   ],
   "source": [
    "plt.figure(figsize=(8, 6))\n",
    "cnt = feature.value_counts()\n",
    "sns.barplot(cnt.index, cnt.values)\n",
    "plt.show()"
   ]
  },
  {
   "cell_type": "code",
   "execution_count": 273,
   "metadata": {},
   "outputs": [
    {
     "data": {
      "image/png": "[encoded data removed]",
      "text/plain": [
       "<Figure size 576x432 with 1 Axes>"
      ]
     },
     "metadata": {},
     "output_type": "display_data"
    }
   ],
   "source": [
    "plt.figure(figsize=(8, 6))\n",
    "plt.pie(cnt.values, labels = cnt.index, autopct = '%.2f%%')\n",
    "plt.show()"
   ]
  },
  {
   "cell_type": "code",
   "execution_count": 274,
   "metadata": {},
   "outputs": [
    {
     "data": {
      "image/png": "[encoded data removed]",
      "text/plain": [
       "<Figure size 1080x432 with 2 Axes>"
      ]
     },
     "metadata": {
      "needs_background": "light"
     },
     "output_type": "display_data"
    }
   ],
   "source": [
    "plt.figure(figsize=(15, 6))\n",
    "plt.subplot(1, 2, 1)\n",
    "cnt = feature.value_counts()\n",
    "plt.bar(cnt.index, cnt.values)\n",
    "plt.xticks(fontsize=15,rotation=70)\n",
    "\n",
    "plt.subplot(1, 2, 2)\n",
    "plt.pie(cnt.values, labels = cnt.index, autopct = '%.2f%%')\n",
    "plt.show()"
   ]
  },
  {
   "cell_type": "markdown",
   "metadata": {},
   "source": [
    "⑥ 위 정보로부터 파악한 내용(비즈니스 인사이트) 정리"
   ]
  },
  {
   "cell_type": "markdown",
   "metadata": {},
   "source": [
    "> - '높음'과 '매우 높음'을 답한 직원이 약 60%로 전반적으로 직원들이 동료와의 관계가 원만해 보인다.\n",
    "> - '낮음'을 답한 직원이 18%로 결코 작지 않은 숫자다.\n",
    "> - --> '낮음'을 답한 직원들을 대상으로 무기명 설문을 진행하여 원인을 파악한다."
   ]
  },
  {
   "cell_type": "markdown",
   "metadata": {
    "id": "NFGBwz34YJG3"
   },
   "source": [
    "### 7) feature6_WorkLifeBalance"
   ]
  },
  {
   "cell_type": "code",
   "execution_count": 275,
   "metadata": {
    "id": "frPbHDAdYJG3"
   },
   "outputs": [],
   "source": [
    "feature = data['WorkLifeBalance']"
   ]
  },
  {
   "cell_type": "markdown",
   "metadata": {
    "id": "EbfBgqqSYJG4"
   },
   "source": [
    "① 변수의 비즈니스 의미"
   ]
  },
  {
   "cell_type": "markdown",
   "metadata": {
    "id": "EfkydqbWYJG4"
   },
   "source": [
    "> - 워라밸. 일-삶 균형도"
   ]
  },
  {
   "cell_type": "markdown",
   "metadata": {
    "id": "xGqiBLNJYJG4"
   },
   "source": [
    "② 숫자? 범주?"
   ]
  },
  {
   "cell_type": "markdown",
   "metadata": {
    "id": "aZqkq7z6YJG4"
   },
   "source": [
    "> - 범주"
   ]
  },
  {
   "cell_type": "markdown",
   "metadata": {},
   "source": [
    "③ NaN 존재 여부 및 조치 방안"
   ]
  },
  {
   "cell_type": "code",
   "execution_count": 276,
   "metadata": {},
   "outputs": [
    {
     "data": {
      "text/plain": [
       "0"
      ]
     },
     "execution_count": 276,
     "metadata": {},
     "output_type": "execute_result"
    }
   ],
   "source": [
    "feature.isna().sum()"
   ]
  },
  {
   "cell_type": "markdown",
   "metadata": {},
   "source": [
    "> NaN이 존재하지 않음"
   ]
  },
  {
   "cell_type": "markdown",
   "metadata": {},
   "source": [
    "④ 기초통계량"
   ]
  },
  {
   "cell_type": "code",
   "execution_count": 277,
   "metadata": {},
   "outputs": [
    {
     "name": "stdout",
     "output_type": "stream",
     "text": [
      "범주별 빈도수\n",
      "3    747\n",
      "2    297\n",
      "4    137\n",
      "1     69\n",
      "Name: WorkLifeBalance, dtype: int64\n",
      "------------------------------\n",
      "------------------------------\n",
      "범주별 비율\n",
      "3    0.5976\n",
      "2    0.2376\n",
      "4    0.1096\n",
      "1    0.0552\n",
      "Name: WorkLifeBalance, dtype: float64\n"
     ]
    }
   ],
   "source": [
    "print('범주별 빈도수')\n",
    "print(feature.value_counts())\n",
    "\n",
    "print('---'*10)\n",
    "print('---'*10)\n",
    "\n",
    "print('범주별 비율')\n",
    "print(feature.value_counts() / len(feature))"
   ]
  },
  {
   "cell_type": "markdown",
   "metadata": {},
   "source": [
    "⑤ 분포"
   ]
  },
  {
   "cell_type": "code",
   "execution_count": 278,
   "metadata": {},
   "outputs": [
    {
     "name": "stderr",
     "output_type": "stream",
     "text": [
      "C:\\Users\\User\\anaconda3\\lib\\site-packages\\seaborn\\_decorators.py:36: FutureWarning: Pass the following variables as keyword args: x, y. From version 0.12, the only valid positional argument will be `data`, and passing other arguments without an explicit keyword will result in an error or misinterpretation.\n",
      "  warnings.warn(\n"
     ]
    },
    {
     "data": {
      "image/png": "[encoded data removed]",
      "text/plain": [
       "<Figure size 576x432 with 1 Axes>"
      ]
     },
     "metadata": {
      "needs_background": "light"
     },
     "output_type": "display_data"
    }
   ],
   "source": [
    "plt.figure(figsize=(8, 6))\n",
    "cnt = feature.value_counts()\n",
    "sns.barplot(cnt.index, cnt.values)\n",
    "plt.show()"
   ]
  },
  {
   "cell_type": "code",
   "execution_count": 279,
   "metadata": {},
   "outputs": [
    {
     "data": {
      "image/png": "[encoded data removed]",
      "text/plain": [
       "<Figure size 576x432 with 1 Axes>"
      ]
     },
     "metadata": {},
     "output_type": "display_data"
    }
   ],
   "source": [
    "plt.figure(figsize=(8, 6))\n",
    "plt.pie(cnt.values, labels = cnt.index, autopct = '%.2f%%')\n",
    "plt.show()"
   ]
  },
  {
   "cell_type": "code",
   "execution_count": 280,
   "metadata": {},
   "outputs": [
    {
     "data": {
      "image/png": "[encoded data removed]",
      "text/plain": [
       "<Figure size 1080x432 with 2 Axes>"
      ]
     },
     "metadata": {
      "needs_background": "light"
     },
     "output_type": "display_data"
    }
   ],
   "source": [
    "plt.figure(figsize=(15, 6))\n",
    "plt.subplot(1, 2, 1)\n",
    "cnt = feature.value_counts()\n",
    "plt.bar(cnt.index, cnt.values)\n",
    "plt.xticks(fontsize=15,rotation=70)\n",
    "\n",
    "plt.subplot(1, 2, 2)\n",
    "plt.pie(cnt.values, labels = cnt.index, autopct = '%.2f%%')\n",
    "plt.show()"
   ]
  },
  {
   "cell_type": "markdown",
   "metadata": {},
   "source": [
    "⑥ 위 정보로부터 파악한 내용(비즈니스 인사이트) 정리"
   ]
  },
  {
   "cell_type": "markdown",
   "metadata": {},
   "source": [
    "> - 긍정적인 답변을 한 직원이 약 95%로 대부분의 직원들이 워라벨에 만족을 하는 것으로 파악된다.\n",
    "> - 첫번째로 많이 답한 것이 59% 'Better'인데 세 번째로 많이 답한 것이 10% 'best'로 약 6배 이상이 차이가 난다.\n",
    "> - --> 회사에서 복지 서비스나 자율 출퇴근 등을 시행하고, 업무 중간중간에 리프레쉬할 수 있는 짧은 여가 활동을 지원하면 많은 직원들의 워라벨이 올라가지 않을까?"
   ]
  },
  {
   "cell_type": "markdown",
   "metadata": {
    "id": "ZghJJ7yLEpDA"
   },
   "source": [
    "## 3.이변량 분석 \n",
    "* 자료의 종류에 맞게 X --> Y 에 대해서 그래프(시각화)와 가설검정(수치화)를 수행하고 결과를 평가합니다.\n",
    "* 가설검정시 다음의 항목을 참조하여 수행합니다.\n",
    "    * 유의수준 : 5%\n",
    "    * 숫자 --> 숫자 : 상관분석\n",
    "    * 범주 --> 범주 : 카이제곱검정\n",
    "    * 범주 --> 숫자 : t검정, 분산분석\n",
    "    * 숫자 --> 범주 : 로지스틱 회귀모형을 통해, 회귀계수의 P.value로 검정을 수행합니다."
   ]
  },
  {
   "cell_type": "markdown",
   "metadata": {
    "id": "fap08wfEMqtY"
   },
   "source": [
    "### (1) 범주형 Feature --> Target\n",
    "* 모든 범주형 Feature에 대해서 Y와 비교하여 차트를 그리고 수치화 하시오.  \n",
    "    ① 교차표(pd.crosstab())  \n",
    "    ② 시각화( Stacked Bar, Mosaic)  \n",
    "    ③ 가설검정(카이제곱검정)\n",
    "* 각 feature 별로 관계의 정도를 3가지로 정리해봅시다. "
   ]
  },
  {
   "cell_type": "markdown",
   "metadata": {
    "id": "Dh2UW7_S-yoq"
   },
   "source": [
    "#### 1) JobSatisfaction --> Attrition"
   ]
  },
  {
   "cell_type": "code",
   "execution_count": 281,
   "metadata": {
    "id": "2yz9iC2NNWA2"
   },
   "outputs": [],
   "source": [
    "feature = data['JobSatisfaction']"
   ]
  },
  {
   "cell_type": "code",
   "execution_count": 282,
   "metadata": {
    "id": "sv_bb6n1NV9X"
   },
   "outputs": [
    {
     "name": "stdout",
     "output_type": "stream",
     "text": [
      "전체 이직율 : 0.16\n"
     ]
    }
   ],
   "source": [
    "# 전체 이직율\n",
    "total_mean = target.mean()\n",
    "print('전체 이직율 :', total_mean)"
   ]
  },
  {
   "cell_type": "markdown",
   "metadata": {
    "id": "dIBw6i5qNV6P"
   },
   "source": [
    "① 교차표"
   ]
  },
  {
   "cell_type": "code",
   "execution_count": 283,
   "metadata": {},
   "outputs": [
    {
     "name": "stdout",
     "output_type": "stream",
     "text": [
      "Attrition               0         1\n",
      "JobSatisfaction                    \n",
      "1                0.788000  0.212000\n",
      "2                0.834043  0.165957\n",
      "3                0.836957  0.163043\n",
      "4                0.879093  0.120907\n"
     ]
    }
   ],
   "source": [
    "temp = pd.crosstab(feature, target, normalize = 'index')\n",
    "print(temp)"
   ]
  },
  {
   "cell_type": "markdown",
   "metadata": {},
   "source": [
    "② 시각화(Stacked Bar, Mosaic)"
   ]
  },
  {
   "cell_type": "code",
   "execution_count": 284,
   "metadata": {},
   "outputs": [
    {
     "data": {
      "image/png": "[encoded data removed]",
      "text/plain": [
       "<Figure size 432x288 with 1 Axes>"
      ]
     },
     "metadata": {
      "needs_background": "light"
     },
     "output_type": "display_data"
    }
   ],
   "source": [
    "temp.plot.bar(stacked=True)\n",
    "plt.axhline(1-total_mean, color = 'r') # 평균선 추가\n",
    "plt.xticks(fontsize=13, rotation=70)\n",
    "plt.show()"
   ]
  },
  {
   "cell_type": "code",
   "execution_count": 285,
   "metadata": {},
   "outputs": [
    {
     "data": {
      "image/png": "[encoded data removed]",
      "text/plain": [
       "<Figure size 432x288 with 3 Axes>"
      ]
     },
     "metadata": {
      "needs_background": "light"
     },
     "output_type": "display_data"
    }
   ],
   "source": [
    "mosaic(data, [ 'JobSatisfaction','Attrition'])\n",
    "plt.axhline(1- total_mean, color = 'r')\n",
    "plt.show()"
   ]
  },
  {
   "cell_type": "markdown",
   "metadata": {},
   "source": [
    "③ 가설검정(카이제곱검정)"
   ]
  },
  {
   "cell_type": "code",
   "execution_count": 286,
   "metadata": {},
   "outputs": [
    {
     "name": "stdout",
     "output_type": "stream",
     "text": [
      "카이제곱통계량 0.030102940693838072\n",
      "p-value 0.9986233818102358\n",
      "기대빈도\n",
      " [[0.83452307 0.16547693]\n",
      " [0.83452307 0.16547693]\n",
      " [0.83452307 0.16547693]\n",
      " [0.83452307 0.16547693]]\n"
     ]
    }
   ],
   "source": [
    "result = spst.chi2_contingency(temp)\n",
    "print('카이제곱통계량', result[0])\n",
    "print('p-value', result[1])\n",
    "print('기대빈도\\n',result[3])"
   ]
  },
  {
   "cell_type": "markdown",
   "metadata": {},
   "source": [
    "분석 결과"
   ]
  },
  {
   "cell_type": "markdown",
   "metadata": {},
   "source": [
    "> - 시각화 결과에서 전체 평균값과 각 집단이 차이가 있기 때문에 직무 만족도와 이직 여부는 관련이 있어보인다. \n",
    "> - 하지만, 카이제곱 검정 결과 p-value가 0.05보다 매우 크기 때문에 관련이 없는 것으로 나온다.\n",
    "> - 두 집단으로 추가 분석을 진행하여 직무 만족도와 이직 여부의 관련성을 파악해본다."
   ]
  },
  {
   "cell_type": "markdown",
   "metadata": {},
   "source": [
    "#### 1)-1.[추가분석] 직무만족도를 2개의 집단으로 나누고 분석"
   ]
  },
  {
   "cell_type": "markdown",
   "metadata": {},
   "source": [
    "- 데이터 레이블 변경  \n",
    "\n",
    "1 낮음 + 2 보통 => 만족하지 않음 (0)  \n",
    "\n",
    "3 높음 + 4 매우 높음 => 만족 (1)"
   ]
  },
  {
   "cell_type": "markdown",
   "metadata": {},
   "source": [
    "- 새로운 열 만들기"
   ]
  },
  {
   "cell_type": "code",
   "execution_count": 287,
   "metadata": {},
   "outputs": [],
   "source": [
    "data['j_g'] = data['JobSatisfaction'].map( { 1:0, 2:0, 3:1, 4:1 })"
   ]
  },
  {
   "cell_type": "markdown",
   "metadata": {},
   "source": [
    "① 교차표"
   ]
  },
  {
   "cell_type": "code",
   "execution_count": 288,
   "metadata": {
    "scrolled": true
   },
   "outputs": [],
   "source": [
    "feature = data['j_g']\n",
    "temp = pd.crosstab(feature, target, normalize = 'index')"
   ]
  },
  {
   "cell_type": "markdown",
   "metadata": {},
   "source": [
    "② 시각화(Stacked Bar, Mosaic)"
   ]
  },
  {
   "cell_type": "code",
   "execution_count": 289,
   "metadata": {},
   "outputs": [
    {
     "data": {
      "image/png": "[encoded data removed]",
      "text/plain": [
       "<Figure size 432x288 with 1 Axes>"
      ]
     },
     "metadata": {
      "needs_background": "light"
     },
     "output_type": "display_data"
    }
   ],
   "source": [
    "temp.plot.bar(stacked=True)\n",
    "plt.axhline(1-total_mean, color = 'r') # 평균선 추가\n",
    "plt.xticks(fontsize=13, rotation=70)\n",
    "plt.show()"
   ]
  },
  {
   "cell_type": "code",
   "execution_count": 290,
   "metadata": {
    "scrolled": true
   },
   "outputs": [
    {
     "data": {
      "image/png": "[encoded data removed]",
      "text/plain": [
       "<Figure size 432x288 with 3 Axes>"
      ]
     },
     "metadata": {
      "needs_background": "light"
     },
     "output_type": "display_data"
    }
   ],
   "source": [
    "mosaic(data, [ 'j_g','Attrition'])\n",
    "plt.axhline(1- total_mean, color = 'r')\n",
    "plt.show()"
   ]
  },
  {
   "cell_type": "markdown",
   "metadata": {},
   "source": [
    "③ 가설검정(카이제곱검정)"
   ]
  },
  {
   "cell_type": "code",
   "execution_count": 291,
   "metadata": {},
   "outputs": [
    {
     "name": "stdout",
     "output_type": "stream",
     "text": [
      "카이제곱통계량 3.2786116067832665\n",
      "p-value 0.07018828154011003\n",
      "기대빈도\n",
      " [[0.8345664 0.1654336]\n",
      " [0.8345664 0.1654336]]\n"
     ]
    }
   ],
   "source": [
    "result = spst.chi2_contingency(temp)\n",
    "print('카이제곱통계량', result[0])\n",
    "print('p-value', result[1])\n",
    "print('기대빈도\\n',result[3])"
   ]
  },
  {
   "cell_type": "markdown",
   "metadata": {},
   "source": [
    "④ 분석결과"
   ]
  },
  {
   "cell_type": "markdown",
   "metadata": {},
   "source": [
    "> - 시각화 결과 전체 이직율과 두 집단의 평균차이가 조금 보인다.\n",
    "> - 카이제곱 검정 결과 p-value가 0.07로 0.05보다 크기 때문에 직무만족도와 이직여부는 관련이 약하게 있어보인다."
   ]
  },
  {
   "cell_type": "markdown",
   "metadata": {
    "id": "liItz0vkNX2F"
   },
   "source": [
    "#### 2) RelationshipSatisfaction --> Attrition"
   ]
  },
  {
   "cell_type": "code",
   "execution_count": 292,
   "metadata": {
    "id": "urzz0yqvNX2F"
   },
   "outputs": [],
   "source": [
    "feature = data['RelationshipSatisfaction']"
   ]
  },
  {
   "cell_type": "markdown",
   "metadata": {
    "id": "yRkJ_z23NX2F"
   },
   "source": [
    "① 교차표"
   ]
  },
  {
   "cell_type": "code",
   "execution_count": 293,
   "metadata": {},
   "outputs": [
    {
     "name": "stdout",
     "output_type": "stream",
     "text": [
      "Attrition                        0         1\n",
      "RelationshipSatisfaction                    \n",
      "1                         0.795652  0.204348\n",
      "2                         0.841085  0.158915\n",
      "3                         0.848866  0.151134\n",
      "4                         0.857534  0.142466\n"
     ]
    }
   ],
   "source": [
    "temp = pd.crosstab(feature, target, normalize = 'index')\n",
    "print(temp)"
   ]
  },
  {
   "cell_type": "markdown",
   "metadata": {},
   "source": [
    "② 시각화(Stacked Bar, Mosaic)"
   ]
  },
  {
   "cell_type": "code",
   "execution_count": 294,
   "metadata": {},
   "outputs": [
    {
     "data": {
      "image/png": "[encoded data removed]",
      "text/plain": [
       "<Figure size 432x288 with 1 Axes>"
      ]
     },
     "metadata": {
      "needs_background": "light"
     },
     "output_type": "display_data"
    }
   ],
   "source": [
    "temp.plot.bar(stacked=True)\n",
    "plt.axhline(1-total_mean, color = 'r') # 평균선 추가\n",
    "plt.xticks(fontsize=13, rotation=70)\n",
    "plt.show()"
   ]
  },
  {
   "cell_type": "code",
   "execution_count": 295,
   "metadata": {},
   "outputs": [
    {
     "data": {
      "image/png": "[encoded data removed]",
      "text/plain": [
       "<Figure size 432x288 with 3 Axes>"
      ]
     },
     "metadata": {
      "needs_background": "light"
     },
     "output_type": "display_data"
    }
   ],
   "source": [
    "mosaic(data, [ 'RelationshipSatisfaction','Attrition'])\n",
    "plt.axhline(1- total_mean, color = 'r')\n",
    "plt.show()"
   ]
  },
  {
   "cell_type": "markdown",
   "metadata": {},
   "source": [
    "③ 가설검정(카이제곱검정)"
   ]
  },
  {
   "cell_type": "code",
   "execution_count": 296,
   "metadata": {},
   "outputs": [
    {
     "name": "stdout",
     "output_type": "stream",
     "text": [
      "카이제곱통계량 0.016633245458495115\n",
      "p-value 0.9994323008896482\n",
      "기대빈도\n",
      " [[0.83578455 0.16421545]\n",
      " [0.83578455 0.16421545]\n",
      " [0.83578455 0.16421545]\n",
      " [0.83578455 0.16421545]]\n"
     ]
    }
   ],
   "source": [
    "result = spst.chi2_contingency(temp)\n",
    "print('카이제곱통계량', result[0])\n",
    "print('p-value', result[1])\n",
    "print('기대빈도\\n',result[3])"
   ]
  },
  {
   "cell_type": "markdown",
   "metadata": {
    "id": "8djvWa2eNX2F"
   },
   "source": [
    "분석 결과"
   ]
  },
  {
   "cell_type": "markdown",
   "metadata": {},
   "source": [
    "> - 시각화에서는 동료와의 관계가 낮음을 답한 집단과 높음을 답한 집단의 이직율의 차이가 보인다.\n",
    "> - 하지만, 카이제곱 검정 결과 p-value가 0.05보다 큰 값이 나오므로 동료와의 관계와 이직 여부는 관련이 없는 것으로 나온다.\n",
    "> - 추가분석을 진행하여 동료와의 관계가 좋음/낮음 크게 2개의 집단으로 나눠서 이직율과의 관련성을 파악한다."
   ]
  },
  {
   "cell_type": "markdown",
   "metadata": {},
   "source": [
    "#### 2)-1.[추가분석] 동료와의 관계를 2개의 집단으로 나누고 분석"
   ]
  },
  {
   "cell_type": "markdown",
   "metadata": {},
   "source": [
    "- 데이터 레이블 변경  \n",
    "\n",
    "1 낮음 + 2 보통 => 좋지 않음 (0)  \n",
    "\n",
    "3 높음 + 4 매우 높음 => 좋음 (1)"
   ]
  },
  {
   "cell_type": "markdown",
   "metadata": {},
   "source": [
    "- 새로운 열 만들기"
   ]
  },
  {
   "cell_type": "code",
   "execution_count": 297,
   "metadata": {},
   "outputs": [],
   "source": [
    "data['r_g'] = data['RelationshipSatisfaction'].map( { 1:0, 2:0, 3:1, 4:1 })"
   ]
  },
  {
   "cell_type": "markdown",
   "metadata": {},
   "source": [
    "① 교차표"
   ]
  },
  {
   "cell_type": "code",
   "execution_count": 298,
   "metadata": {},
   "outputs": [],
   "source": [
    "feature = data['r_g']\n",
    "temp = pd.crosstab(feature, target, normalize = 'index')"
   ]
  },
  {
   "cell_type": "markdown",
   "metadata": {},
   "source": [
    "② 시각화(Stacked Bar, Mosaic)"
   ]
  },
  {
   "cell_type": "code",
   "execution_count": 299,
   "metadata": {},
   "outputs": [
    {
     "data": {
      "image/png": "[encoded data removed]",
      "text/plain": [
       "<Figure size 432x288 with 1 Axes>"
      ]
     },
     "metadata": {
      "needs_background": "light"
     },
     "output_type": "display_data"
    }
   ],
   "source": [
    "temp.plot.bar(stacked=True)\n",
    "plt.axhline(1-total_mean, color = 'r') # 평균선 추가\n",
    "plt.xticks(fontsize=13, rotation=70)\n",
    "plt.show()"
   ]
  },
  {
   "cell_type": "code",
   "execution_count": 300,
   "metadata": {},
   "outputs": [
    {
     "data": {
      "image/png": "[encoded data removed]",
      "text/plain": [
       "<Figure size 432x288 with 3 Axes>"
      ]
     },
     "metadata": {
      "needs_background": "light"
     },
     "output_type": "display_data"
    }
   ],
   "source": [
    "mosaic(data, [ 'r_g','Attrition'])\n",
    "plt.axhline(1- total_mean, color = 'r')\n",
    "plt.show()"
   ]
  },
  {
   "cell_type": "markdown",
   "metadata": {},
   "source": [
    "③ 가설검정(카이제곱검정)"
   ]
  },
  {
   "cell_type": "code",
   "execution_count": 301,
   "metadata": {},
   "outputs": [
    {
     "name": "stdout",
     "output_type": "stream",
     "text": [
      "카이제곱통계량 3.4134825454808295\n",
      "p-value 0.06466584083974757\n",
      "기대빈도\n",
      " [[0.83634525 0.16365475]\n",
      " [0.83634525 0.16365475]]\n"
     ]
    }
   ],
   "source": [
    "result = spst.chi2_contingency(temp)\n",
    "print('카이제곱통계량', result[0])\n",
    "print('p-value', result[1])\n",
    "print('기대빈도\\n',result[3])"
   ]
  },
  {
   "cell_type": "markdown",
   "metadata": {},
   "source": [
    "④ 분석결과"
   ]
  },
  {
   "cell_type": "markdown",
   "metadata": {},
   "source": [
    "> - 시각화 결과 전체 이직율 평균과 두 집단과는 차이가 조금 있어보인다.\n",
    "> - 위에서 진행한 p-value보다 작게 나온 것을 볼 수 있다.\n",
    "> - 카이제곱 검정 결과 p-value가 0.06으로 0.05보다 크기 때문에 동료와의 관계와 이직여부는 약한 관계가 있어보인다."
   ]
  },
  {
   "cell_type": "markdown",
   "metadata": {},
   "source": [
    "#### 3) WorkLifeBalance --> Attrition"
   ]
  },
  {
   "cell_type": "code",
   "execution_count": 302,
   "metadata": {},
   "outputs": [],
   "source": [
    "feature = data['WorkLifeBalance']"
   ]
  },
  {
   "cell_type": "markdown",
   "metadata": {},
   "source": [
    "① 교차표"
   ]
  },
  {
   "cell_type": "code",
   "execution_count": 303,
   "metadata": {},
   "outputs": [
    {
     "name": "stdout",
     "output_type": "stream",
     "text": [
      "Attrition               0         1\n",
      "WorkLifeBalance                    \n",
      "1                0.710145  0.289855\n",
      "2                0.845118  0.154882\n",
      "3                0.855422  0.144578\n",
      "4                0.810219  0.189781\n"
     ]
    }
   ],
   "source": [
    "temp = pd.crosstab(feature, target, normalize = 'index')\n",
    "print(temp)"
   ]
  },
  {
   "cell_type": "markdown",
   "metadata": {},
   "source": [
    "② 시각화(Stacked Bar, Mosaic)"
   ]
  },
  {
   "cell_type": "code",
   "execution_count": 304,
   "metadata": {},
   "outputs": [
    {
     "data": {
      "image/png": "[encoded data removed]",
      "text/plain": [
       "<Figure size 432x288 with 1 Axes>"
      ]
     },
     "metadata": {
      "needs_background": "light"
     },
     "output_type": "display_data"
    }
   ],
   "source": [
    "temp.plot.bar(stacked=True)\n",
    "plt.axhline(1-total_mean, color = 'r') # 평균선 추가\n",
    "plt.xticks(fontsize=13, rotation=70)\n",
    "plt.show()"
   ]
  },
  {
   "cell_type": "code",
   "execution_count": 305,
   "metadata": {},
   "outputs": [
    {
     "data": {
      "image/png": "[encoded data removed]",
      "text/plain": [
       "<Figure size 432x288 with 3 Axes>"
      ]
     },
     "metadata": {
      "needs_background": "light"
     },
     "output_type": "display_data"
    }
   ],
   "source": [
    "mosaic(data, [ 'WorkLifeBalance','Attrition'])\n",
    "plt.axhline(1- total_mean, color = 'r')\n",
    "plt.show()"
   ]
  },
  {
   "cell_type": "markdown",
   "metadata": {},
   "source": [
    "③ 가설검정(카이제곱검정)"
   ]
  },
  {
   "cell_type": "code",
   "execution_count": 306,
   "metadata": {},
   "outputs": [
    {
     "name": "stdout",
     "output_type": "stream",
     "text": [
      "카이제곱통계량 0.08401264856679624\n",
      "p-value 0.9936843761085588\n",
      "기대빈도\n",
      " [[0.80522586 0.19477414]\n",
      " [0.80522586 0.19477414]\n",
      " [0.80522586 0.19477414]\n",
      " [0.80522586 0.19477414]]\n"
     ]
    }
   ],
   "source": [
    "result = spst.chi2_contingency(temp)\n",
    "print('카이제곱통계량', result[0])\n",
    "print('p-value', result[1])\n",
    "print('기대빈도\\n',result[3])"
   ]
  },
  {
   "cell_type": "markdown",
   "metadata": {},
   "source": [
    "분석 결과"
   ]
  },
  {
   "cell_type": "markdown",
   "metadata": {},
   "source": [
    "> - 시각화 결과에서 워라벨이 낮음을 답한 이직율과 높음을 답한 이직율의 차이가 분명히 존재하여 워라벨과 이직은 관련이 있어보이는데\n",
    "> - 카이제곱 검정 결과 p-value가 0.05보다 크게 나오므로 관련이 없다고 나온다.\n",
    "> - 추가 분석을 진행하여 크게 워라벨이 좋다/나쁘다 2개의 집단으로 나눠서 이직율과의 관련성을 파악한다."
   ]
  },
  {
   "cell_type": "markdown",
   "metadata": {
    "id": "kJPjE5ygYUeg"
   },
   "source": [
    "#### 3)-1.[추가분석] 워라벨을 2개의 집단으로 나누고 분석"
   ]
  },
  {
   "cell_type": "markdown",
   "metadata": {},
   "source": [
    "- 데이터 레이블 변경  \n",
    "\n",
    "1 Bad  => 나쁨 (0)  \n",
    "\n",
    "2 Good + 3 Better + 4 Best => 좋음 (1)"
   ]
  },
  {
   "cell_type": "markdown",
   "metadata": {},
   "source": [
    "- 새로운 열 만들기"
   ]
  },
  {
   "cell_type": "code",
   "execution_count": 307,
   "metadata": {},
   "outputs": [],
   "source": [
    "data['w_g'] = data['WorkLifeBalance'].map( { 1:0, 2:1, 3:1, 4:1 })"
   ]
  },
  {
   "cell_type": "markdown",
   "metadata": {},
   "source": [
    "① 교차표"
   ]
  },
  {
   "cell_type": "code",
   "execution_count": 308,
   "metadata": {},
   "outputs": [],
   "source": [
    "feature = data['w_g']\n",
    "temp = pd.crosstab(feature, target, normalize = 'index')"
   ]
  },
  {
   "cell_type": "markdown",
   "metadata": {
    "id": "0DXJCZT3YUeg"
   },
   "source": [
    "② 시각화(Stacked Bar, Mosaic)"
   ]
  },
  {
   "cell_type": "code",
   "execution_count": 309,
   "metadata": {},
   "outputs": [
    {
     "data": {
      "image/png": "[encoded data removed]",
      "text/plain": [
       "<Figure size 432x288 with 1 Axes>"
      ]
     },
     "metadata": {
      "needs_background": "light"
     },
     "output_type": "display_data"
    }
   ],
   "source": [
    "temp.plot.bar(stacked=True)\n",
    "plt.axhline(1-total_mean, color = 'r') # 평균선 추가\n",
    "plt.xticks(fontsize=13, rotation=70)\n",
    "plt.show()"
   ]
  },
  {
   "cell_type": "code",
   "execution_count": 310,
   "metadata": {},
   "outputs": [
    {
     "data": {
      "image/png": "[encoded data removed]",
      "text/plain": [
       "<Figure size 432x288 with 3 Axes>"
      ]
     },
     "metadata": {
      "needs_background": "light"
     },
     "output_type": "display_data"
    }
   ],
   "source": [
    "mosaic(data, [ 'w_g','Attrition'])\n",
    "plt.axhline(1- total_mean, color = 'r')\n",
    "plt.show()"
   ]
  },
  {
   "cell_type": "markdown",
   "metadata": {},
   "source": [
    "③ 가설검정(카이제곱검정)"
   ]
  },
  {
   "cell_type": "code",
   "execution_count": 311,
   "metadata": {},
   "outputs": [
    {
     "name": "stdout",
     "output_type": "stream",
     "text": [
      "카이제곱통계량 2.1598733768828984\n",
      "p-value 0.14165636318164504\n",
      "기대빈도\n",
      " [[0.77886586 0.22113414]\n",
      " [0.77886586 0.22113414]]\n"
     ]
    }
   ],
   "source": [
    "result = spst.chi2_contingency(temp)\n",
    "print('카이제곱통계량', result[0])\n",
    "print('p-value', result[1])\n",
    "print('기대빈도\\n',result[3])"
   ]
  },
  {
   "cell_type": "markdown",
   "metadata": {},
   "source": [
    "④ 분석결과"
   ]
  },
  {
   "cell_type": "markdown",
   "metadata": {},
   "source": [
    "> - 시각화 결과 막대그래프에서는 유의미한 평균차이가 보였지만\n",
    "> - 모자익 그래프에서는 1에 응답자를 많이 해둔 것이 보인다. \n",
    "> - 카이제곱 검정 결과 p-value가 0.14로 0.05보다 크므로 워라벨과 이직여부는 관련이 없어보인다."
   ]
  },
  {
   "cell_type": "markdown",
   "metadata": {
    "id": "lUsQ0iBHMqte"
   },
   "source": [
    "### (2) 숫자형 Feature --> target\n",
    "\n",
    "* 숫자형 Feature에 대해서 Y와 비교하여 차트를 그리고 수치화 하시오.  \n",
    "    ① 그래프 : histogram, densityplot   \n",
    "    ② 수치화 : 로지스틱회귀"
   ]
  },
  {
   "cell_type": "markdown",
   "metadata": {
    "id": "v6cXSmzdNlNC"
   },
   "source": [
    "#### 1) DistanceFromHome --> Attrition"
   ]
  },
  {
   "cell_type": "code",
   "execution_count": 312,
   "metadata": {
    "id": "vLuNUvPQNlNC"
   },
   "outputs": [],
   "source": [
    "feature = data['DistanceFromHome']"
   ]
  },
  {
   "cell_type": "markdown",
   "metadata": {},
   "source": [
    "① 그래프 : histogram, densityplot"
   ]
  },
  {
   "cell_type": "code",
   "execution_count": 313,
   "metadata": {},
   "outputs": [
    {
     "data": {
      "image/png": "[encoded data removed]",
      "text/plain": [
       "<Figure size 576x432 with 1 Axes>"
      ]
     },
     "metadata": {
      "needs_background": "light"
     },
     "output_type": "display_data"
    }
   ],
   "source": [
    "plt.figure(figsize=(8, 6))\n",
    "sns.histplot(x=feature, data = data, hue = target, bins=25)\n",
    "plt.show()"
   ]
  },
  {
   "cell_type": "code",
   "execution_count": 314,
   "metadata": {},
   "outputs": [
    {
     "data": {
      "image/png": "[encoded data removed]",
      "text/plain": [
       "<Figure size 576x432 with 1 Axes>"
      ]
     },
     "metadata": {
      "needs_background": "light"
     },
     "output_type": "display_data"
    }
   ],
   "source": [
    "plt.figure(figsize=(8, 6))\n",
    "sns.kdeplot(x=feature, data = data, hue = target)\n",
    "plt.show()"
   ]
  },
  {
   "cell_type": "markdown",
   "metadata": {},
   "source": [
    "② 수치화 : (참고)로지스틱회귀"
   ]
  },
  {
   "cell_type": "code",
   "execution_count": 315,
   "metadata": {},
   "outputs": [
    {
     "name": "stdout",
     "output_type": "stream",
     "text": [
      "Optimization terminated successfully.\n",
      "         Current function value: 0.562055\n",
      "         Iterations 6\n",
      "DistanceFromHome    5.890702e-48\n",
      "dtype: float64\n"
     ]
    }
   ],
   "source": [
    "model = sm.Logit(data['Attrition'], data['DistanceFromHome'])\n",
    "result = model.fit()\n",
    "print(result.pvalues)"
   ]
  },
  {
   "cell_type": "markdown",
   "metadata": {},
   "source": [
    "분석 결과"
   ]
  },
  {
   "cell_type": "markdown",
   "metadata": {},
   "source": [
    "> - 단변량 분석에서 거리가 멀수록 이직율이 높을 것이라 생각했는데, 이직을 한 사람중에서 회사와 가까운 사람이 이직을 가장 많이 한 것으로 나타난다.\n",
    "> - 참고) 로지스틱 회귀 분석 결과 p-value가 0.05보다 작게 나와서 집-직장 거리와 이직여부는 관련이 있어보인다\n",
    "> - 약 10마일과 25마일을 기점으로 빈도수가 늘어나는 것이 보이는데 이 지점전까지만 통근버스가 운행을 하지 않을까?"
   ]
  },
  {
   "cell_type": "markdown",
   "metadata": {
    "id": "CPkwhq72NlNC"
   },
   "source": [
    "#### 2) MonthlyIncome --> Attrition"
   ]
  },
  {
   "cell_type": "code",
   "execution_count": 316,
   "metadata": {
    "id": "pfcwvewSNlNC"
   },
   "outputs": [],
   "source": [
    "feature = data['MonthlyIncome']"
   ]
  },
  {
   "cell_type": "markdown",
   "metadata": {
    "id": "b5lRCrwDNlND"
   },
   "source": [
    "① 그래프 : histogram, densityplot"
   ]
  },
  {
   "cell_type": "code",
   "execution_count": 317,
   "metadata": {},
   "outputs": [
    {
     "data": {
      "image/png": "[encoded data removed]",
      "text/plain": [
       "<Figure size 576x432 with 1 Axes>"
      ]
     },
     "metadata": {
      "needs_background": "light"
     },
     "output_type": "display_data"
    }
   ],
   "source": [
    "plt.figure(figsize=(8, 6))\n",
    "sns.histplot(x=feature, data = data, hue = target, bins=40)\n",
    "plt.show()"
   ]
  },
  {
   "cell_type": "code",
   "execution_count": 318,
   "metadata": {},
   "outputs": [
    {
     "data": {
      "image/png": "[encoded data removed]",
      "text/plain": [
       "<Figure size 576x432 with 1 Axes>"
      ]
     },
     "metadata": {
      "needs_background": "light"
     },
     "output_type": "display_data"
    }
   ],
   "source": [
    "plt.figure(figsize=(8, 6))\n",
    "sns.kdeplot(x=feature, data = data, hue = target)\n",
    "plt.show()"
   ]
  },
  {
   "cell_type": "markdown",
   "metadata": {},
   "source": [
    "② 수치화 : (참고)로지스틱회귀"
   ]
  },
  {
   "cell_type": "code",
   "execution_count": 319,
   "metadata": {},
   "outputs": [
    {
     "name": "stdout",
     "output_type": "stream",
     "text": [
      "Optimization terminated successfully.\n",
      "         Current function value: 0.437401\n",
      "         Iterations 6\n",
      "MonthlyIncome    1.922717e-71\n",
      "dtype: float64\n"
     ]
    }
   ],
   "source": [
    "model = sm.Logit(data['Attrition'], data['MonthlyIncome'])\n",
    "result = model.fit()\n",
    "print(result.pvalues)"
   ]
  },
  {
   "cell_type": "markdown",
   "metadata": {},
   "source": [
    "분석 결과"
   ]
  },
  {
   "cell_type": "markdown",
   "metadata": {
    "id": "DDZF6EPcNlND"
   },
   "source": [
    "> - 2500달러를 기준으로 이직율의 큰 차이를 보인다.\n",
    "> - 월급의 최솟값을 받는 직원이 2500달러가 될 기간보다 이직을 하는 것이 월급 인상이 더 빠르기 때문에 이직을 하는 것은 아닌가 추측해본다.\n",
    "> - 참고) 로지스틱 회귀 분석 결과 p-value가 0.05보다 작으므로 월급과 이직여부는 관련이 있어 보인다.\n",
    "> - 강한 상관관계"
   ]
  },
  {
   "cell_type": "markdown",
   "metadata": {
    "id": "KF1sV61jNlND"
   },
   "source": [
    "#### 3) PercentSalaryHike --> Attrition"
   ]
  },
  {
   "cell_type": "code",
   "execution_count": 320,
   "metadata": {
    "id": "oH7UBCEYNlND"
   },
   "outputs": [],
   "source": [
    "feature = data['PercentSalaryHike']"
   ]
  },
  {
   "cell_type": "markdown",
   "metadata": {
    "id": "zDLq_B2DNlND"
   },
   "source": [
    "① 그래프 : histogram, densityplot"
   ]
  },
  {
   "cell_type": "code",
   "execution_count": 321,
   "metadata": {},
   "outputs": [
    {
     "data": {
      "image/png": "[encoded data removed]",
      "text/plain": [
       "<Figure size 576x432 with 1 Axes>"
      ]
     },
     "metadata": {
      "needs_background": "light"
     },
     "output_type": "display_data"
    }
   ],
   "source": [
    "plt.figure(figsize=(8, 6))\n",
    "sns.histplot(x=feature, data = data, hue = target, bins=40)\n",
    "plt.show()"
   ]
  },
  {
   "cell_type": "code",
   "execution_count": 322,
   "metadata": {},
   "outputs": [
    {
     "data": {
      "image/png": "[encoded data removed]",
      "text/plain": [
       "<Figure size 576x432 with 1 Axes>"
      ]
     },
     "metadata": {
      "needs_background": "light"
     },
     "output_type": "display_data"
    }
   ],
   "source": [
    "plt.figure(figsize=(8, 6))\n",
    "sns.kdeplot(x=feature, data = data, hue = target)\n",
    "plt.show()"
   ]
  },
  {
   "cell_type": "markdown",
   "metadata": {},
   "source": [
    "② 수치화 : (참고)로지스틱회귀"
   ]
  },
  {
   "cell_type": "code",
   "execution_count": 323,
   "metadata": {},
   "outputs": [
    {
     "name": "stdout",
     "output_type": "stream",
     "text": [
      "Optimization terminated successfully.\n",
      "         Current function value: 0.450230\n",
      "         Iterations 5\n",
      "PercentSalaryHike    3.979995e-95\n",
      "dtype: float64\n"
     ]
    }
   ],
   "source": [
    "model = sm.Logit(data['Attrition'], data['PercentSalaryHike'])\n",
    "result = model.fit()\n",
    "print(result.pvalues)"
   ]
  },
  {
   "cell_type": "markdown",
   "metadata": {},
   "source": [
    "분석 결과"
   ]
  },
  {
   "cell_type": "markdown",
   "metadata": {
    "id": "nVMfhdXnNlND"
   },
   "source": [
    "> - 전년대비 급여 인상율이 낮을 수록 이직율이 높은 경향이 있다.\n",
    "> - 참고) 로지스틱 회귀 분석 결과 p-value가 0.05보다 작으므로 전년대비 급여 인상율과 이직여부는 관련이 있어 보인다."
   ]
  },
  {
   "cell_type": "markdown",
   "metadata": {
    "id": "Jd4WbbU-jqU3"
   },
   "source": [
    "## 4.관계 정리"
   ]
  },
  {
   "cell_type": "markdown",
   "metadata": {
    "id": "bKmN0rtAjto6"
   },
   "source": [
    "### 1) 강한관계의 변수"
   ]
  },
  {
   "cell_type": "markdown",
   "metadata": {
    "id": "H_12vyYtVuub"
   },
   "source": [
    "- MonthlyIncome(월급) --> Attrition(이직 여부)"
   ]
  },
  {
   "cell_type": "markdown",
   "metadata": {
    "id": "u8B765zNjwp5"
   },
   "source": [
    "### 2) 약한관계의 변수"
   ]
  },
  {
   "cell_type": "markdown",
   "metadata": {
    "id": "YHyp2PzLVvHq"
   },
   "source": [
    "- DistanceFromHome(집-직장 거리) --> Attrition(이직 여부)\n",
    "- PercentSalaryHike(전년대비 급여인상율) --> Attrition(이직 여부)"
   ]
  },
  {
   "cell_type": "markdown",
   "metadata": {
    "id": "eYiQ9OUijwdq"
   },
   "source": [
    "### 3) 관계 없음"
   ]
  },
  {
   "cell_type": "markdown",
   "metadata": {
    "id": "LUZVsuUaVwCj"
   },
   "source": [
    "- JobSatisfaction(직무 만족도) --> Attrition(이직 여부)\n",
    "- RelationshipSatisfaction(동료와의 관계)  --> Attrition(이직 여부)\n",
    "- WorkLifeBalance(워라밸. 일-삶 균형도) --> Attrition(이직 여부)"
   ]
  },
  {
   "cell_type": "markdown",
   "metadata": {
    "id": "nePF6KE6jlX6"
   },
   "source": [
    "## 5.추가 분석"
   ]
  },
  {
   "cell_type": "markdown",
   "metadata": {
    "id": "B8E9F24bkYTn"
   },
   "source": [
    " - JobSatisfaction(직무 만족도)\n",
    "     - 직무 만족도를 '만족'/'만족하지 않음' 2가지 범주로 나누고 분석을 한 결과 카이제곱 검정 p-value가 개선이 되었고 (0.998 -> 0.07)\n",
    "     - 전체 이직율의 평균과 두 집단의 차이가 존재했다.\n",
    "     - 범주를 나눈 직무 만족도와 이직 여부는 약한 상관관계가 있어 보인다."
   ]
  },
  {
   "cell_type": "markdown",
   "metadata": {
    "id": "Ok05h7OlVzkK"
   },
   "source": [
    "- RelationshipSatisfaction(동료와의 관계)\n",
    "     - 직무 만족도를 '좋음'/'좋지 않음' 2가지 범주로 나누고 분석을 한 결과 카이제곱 검정 p-value가 개선이 되었고 (0.999 -> 0.06)\n",
    "     - 전체 이직율의 평균과 두 집단의 차이가 존재했다.\n",
    "     - 범주를 나눈 동료와의 관계와 이직 여부는 약한 상관관계가 있어 보인다."
   ]
  },
  {
   "cell_type": "markdown",
   "metadata": {
    "id": "34ZFmO3ZVzVi"
   },
   "source": [
    "- WorkLifeBalance(워라밸. 일-삶 균형도)\n",
    "     - 직무 만족도를 '만족하지 않음'/'만족' 2가지 범주로 나누고 분석을 한 결과 카이제곱 검정 p-value가 개선이 되었고 (0.993 -> 0.141)\n",
    "     - 전체 이직율의 평균과 두 집단의 차이가 존재했지만 집단을 나누는 비율이 맞지 않았다.\n",
    "     - 범주를 나눈 직무 만족도와 이직 여부는 관계가 없어 보인다."
   ]
  }
 ],
 "metadata": {
  "colab": {
   "collapsed_sections": [
    "BP8iBi7We3AI",
    "TLlMg3cNMoRg",
    "nJmYs7WgMzti",
    "0q616kYrM0VR",
    "53vrba7gM04Z",
    "opTBFVXvM1mx",
    "NFGBwz34YJG3",
    "CVRxxOC5NFf6",
    "akKd5uoTYF-5",
    "wUj9QWE4NFIh",
    "GhWOVHzuYcp9",
    "Dh2UW7_S-yoq",
    "liItz0vkNX2F",
    "TplEQHKlNYgN",
    "4satnDSlVnJW",
    "w8sOe-7_YUef",
    "v6cXSmzdNlNC",
    "CPkwhq72NlNC",
    "KF1sV61jNlND",
    "z_AAGNYHVrSn",
    "7IyXlOS1YXcx"
   ],
   "name": "과제3. 직원 이직 분석.ipynb",
   "provenance": [],
   "toc_visible": true
  },
  "kernelspec": {
   "display_name": "Python 3",
   "language": "python",
   "name": "python3"
  },
  "language_info": {
   "codemirror_mode": {
    "name": "ipython",
    "version": 3
   },
   "file_extension": ".py",
   "mimetype": "text/x-python",
   "name": "python",
   "nbconvert_exporter": "python",
   "pygments_lexer": "ipython3",
   "version": "3.8.8"
  }
 },
 "nbformat": 4,
 "nbformat_minor": 1
}
